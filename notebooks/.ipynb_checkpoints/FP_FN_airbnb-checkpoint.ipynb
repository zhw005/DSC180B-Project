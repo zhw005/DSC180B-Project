{
 "cells": [
  {
   "cell_type": "code",
   "execution_count": 1,
   "metadata": {},
   "outputs": [],
   "source": [
    "from sklearn.model_selection import train_test_split\n",
    "from sklearn.metrics import accuracy_score\n",
    "from lightgbm import LGBMClassifier\n",
    "import lightgbm as lgb\n",
    "import pandas as pd\n",
    "import sklearn\n",
    "import matplotlib.pyplot as plt\n",
    "\n",
    "# some_file.py\n",
    "import sys\n",
    "# insert at 1, 0 is the script path (or '' in REPL)\n",
    "sys.path.insert(1, '../src/')\n",
    "import Do_Why_airbnb as util\n",
    "\n",
    "from sklearn.svm import SVC\n",
    "from sklearn.model_selection import train_test_split\n",
    "from sklearn.metrics import accuracy_score\n",
    "#from xgboost.sklearn import XGBClassifier\n",
    "from lightgbm import LGBMClassifier\n",
    "#from tabnet import TabNetClassifier \n",
    "import pandas as pd\n",
    "import pickle\n",
    "\n",
    "import dowhy"
   ]
  },
  {
   "cell_type": "markdown",
   "metadata": {},
   "source": [
    "# LightGBM"
   ]
  },
  {
   "cell_type": "code",
   "execution_count": 178,
   "metadata": {},
   "outputs": [
    {
     "name": "stderr",
     "output_type": "stream",
     "text": [
      "C:\\Users\\14388\\anaconda3\\lib\\site-packages\\sklearn\\preprocessing\\_label.py:98: DataConversionWarning: A column-vector y was passed when a 1d array was expected. Please change the shape of y to (n_samples, ), for example using ravel().\n",
      "  y = column_or_1d(y, warn=True)\n",
      "C:\\Users\\14388\\anaconda3\\lib\\site-packages\\sklearn\\preprocessing\\_label.py:133: DataConversionWarning: A column-vector y was passed when a 1d array was expected. Please change the shape of y to (n_samples, ), for example using ravel().\n",
      "  y = column_or_1d(y, warn=True)\n"
     ]
    }
   ],
   "source": [
    "model = LGBMClassifier(objective = 'binary', predict_raw_score = True)\n",
    "\n",
    "feature_dir = \"../data/out/airbnb_features.csv\"\n",
    "target_dir = \"../data/out/airbnb_target.csv\"\n",
    "X = pd.read_csv(feature_dir, index_col = 0)\n",
    "columns = X.columns\n",
    "X.columns = range(X.shape[1])\n",
    "y = pd.read_csv(target_dir, index_col = 0)\n",
    "\n",
    "train_X, test_X, train_y, test_y = train_test_split(X, y, random_state = 42)\n",
    "model = model.fit(train_X, train_y)"
   ]
  },
  {
   "cell_type": "code",
   "execution_count": 179,
   "metadata": {},
   "outputs": [],
   "source": [
    "train_X.columns = columns\n",
    "test_X.columns = columns"
   ]
  },
  {
   "cell_type": "code",
   "execution_count": 180,
   "metadata": {},
   "outputs": [
    {
     "data": {
      "image/png": "[encoded data removed]",
      "text/latex": [
       "$\\displaystyle 0.8579465541490858$"
      ],
      "text/plain": [
       "0.8579465541490858"
      ]
     },
     "execution_count": 180,
     "metadata": {},
     "output_type": "execute_result"
    }
   ],
   "source": [
    "pred_test_y = model.predict(test_X)\n",
    "accuracy_score(pred_test_y, test_y)"
   ]
  },
  {
   "cell_type": "code",
   "execution_count": 181,
   "metadata": {},
   "outputs": [],
   "source": [
    "data = test_X.copy()\n",
    "data['test_y'] = test_y\n",
    "data = data.reset_index(drop = True)\n",
    "data['pred_test_y'] = pd.Series(pred_test_y)\n",
    "data['FN'] = data.apply(lambda x: 1 if x.test_y == 1 and x.pred_test_y == 0 else 0, axis = 1)\n",
    "data['FP'] = data.apply(lambda x: 1 if x.test_y == 0 and x.pred_test_y == 1 else 0, axis = 1)"
   ]
  },
  {
   "cell_type": "code",
   "execution_count": 182,
   "metadata": {},
   "outputs": [
    {
     "data": {
      "text/plain": [
       "bedrooms\n",
       "0.0    0.134328\n",
       "1.0    0.074324\n",
       "2.0    0.121429\n",
       "3.0    0.044444\n",
       "4.0    0.000000\n",
       "5.0    0.000000\n",
       "6.0    0.000000\n",
       "Name: FN, dtype: float64"
      ]
     },
     "execution_count": 182,
     "metadata": {},
     "output_type": "execute_result"
    }
   ],
   "source": [
    "data.groupby(['bedrooms'])['FN'].mean()"
   ]
  },
  {
   "cell_type": "code",
   "execution_count": 183,
   "metadata": {},
   "outputs": [
    {
     "data": {
      "text/plain": [
       "bedrooms\n",
       "0.0    0.029851\n",
       "1.0    0.038288\n",
       "2.0    0.150000\n",
       "3.0    0.000000\n",
       "4.0    0.000000\n",
       "5.0    0.000000\n",
       "6.0    0.000000\n",
       "Name: FP, dtype: float64"
      ]
     },
     "execution_count": 183,
     "metadata": {},
     "output_type": "execute_result"
    }
   ],
   "source": [
    "data.groupby(['bedrooms'])['FP'].mean()"
   ]
  },
  {
   "cell_type": "markdown",
   "metadata": {},
   "source": [
    "### Explanation"
   ]
  },
  {
   "cell_type": "code",
   "execution_count": 184,
   "metadata": {},
   "outputs": [
    {
     "name": "stdout",
     "output_type": "stream",
     "text": [
      "*** Causal Estimate ***\n",
      "\n",
      "## Identified estimand\n",
      "Estimand type: nonparametric-ate\n",
      "\n",
      "### Estimand : 1\n",
      "Estimand name: backdoor\n",
      "Estimand expression:\n",
      "       d                             \n",
      "───────────────(Expectation(FN|beds))\n",
      "d[accommodates]                      \n",
      "Estimand assumption 1, Unconfoundedness: If U→{accommodates} and U→FN then P(FN|accommodates,beds,U) = P(FN|accommodates,beds)\n",
      "\n",
      "## Realized estimand\n",
      "b: FN~accommodates+beds\n",
      "Target units: ate\n",
      "\n",
      "## Estimate\n",
      "Mean value: -0.007114138674579398\n",
      "\n",
      "Refute: Add a Random Common Cause\n",
      "Estimated effect:-0.007114138674579398\n",
      "New effect:-0.00745918134595884\n",
      "\n",
      "Refute: Use a subset of data\n",
      "Estimated effect:-0.007114138674579398\n",
      "New effect:-0.00747077452215235\n",
      "p value:0.47\n",
      "\n"
     ]
    }
   ],
   "source": [
    "treatment = 'accommodates'\n",
    "outcome = 'FN'\n",
    "common_causes = 'beds'\n",
    "util.do_why(data, treatment, outcome, common_causes)"
   ]
  },
  {
   "cell_type": "code",
   "execution_count": 185,
   "metadata": {},
   "outputs": [
    {
     "name": "stdout",
     "output_type": "stream",
     "text": [
      "*** Causal Estimate ***\n",
      "\n",
      "## Identified estimand\n",
      "Estimand type: nonparametric-ate\n",
      "\n",
      "### Estimand : 1\n",
      "Estimand name: backdoor\n",
      "Estimand expression:\n",
      "              d                                                        \n",
      "─────────────────────────────(Expectation(FP|property_type: Apartment))\n",
      "d[room_type: Entire home/apt]                                          \n",
      "Estimand assumption 1, Unconfoundedness: If U→{room_type: Entire home/apt} and U→FP then P(FP|room_type: Entire home/apt,property_type: Apartment,U) = P(FP|room_type: Entire home/apt,property_type: Apartment)\n",
      "\n",
      "## Realized estimand\n",
      "b: FP~room_type: Entire home/apt+property_type: Apartment\n",
      "Target units: ate\n",
      "\n",
      "## Estimate\n",
      "Mean value: 0.07658391126408515\n",
      "\n",
      "Refute: Add a Random Common Cause\n",
      "Estimated effect:0.07658391126408515\n",
      "New effect:0.0768365598379073\n",
      "\n",
      "Refute: Use a subset of data\n",
      "Estimated effect:0.07658391126408515\n",
      "New effect:0.07732867678103504\n",
      "p value:0.45\n",
      "\n"
     ]
    }
   ],
   "source": [
    "treatment = 'room_type: Entire home/apt'\n",
    "outcome = 'FP'\n",
    "common_causes = 'property_type: Apartment'\n",
    "util.do_why(data, treatment, outcome, common_causes)"
   ]
  },
  {
   "cell_type": "markdown",
   "metadata": {},
   "source": [
    "# SVC"
   ]
  },
  {
   "cell_type": "code",
   "execution_count": 186,
   "metadata": {},
   "outputs": [
    {
     "name": "stderr",
     "output_type": "stream",
     "text": [
      "C:\\Users\\14388\\anaconda3\\lib\\site-packages\\sklearn\\utils\\validation.py:993: DataConversionWarning: A column-vector y was passed when a 1d array was expected. Please change the shape of y to (n_samples, ), for example using ravel().\n",
      "  y = column_or_1d(y, warn=True)\n"
     ]
    }
   ],
   "source": [
    "model = SVC()\n",
    "\n",
    "feature_dir = \"../data/out/airbnb_features.csv\"\n",
    "target_dir = \"../data/out/airbnb_target.csv\"\n",
    "X = pd.read_csv(feature_dir, index_col = 0)\n",
    "columns = X.columns\n",
    "X.columns = range(X.shape[1])\n",
    "y = pd.read_csv(target_dir, index_col = 0)\n",
    "\n",
    "train_X, test_X, train_y, test_y = train_test_split(X, y, random_state = 42)\n",
    "model = model.fit(train_X, train_y)\n",
    "\n",
    "pred_test_y = model.predict(test_X)\n",
    "accuracy_score(pred_test_y, test_y)\n",
    "\n",
    "train_X.columns = columns\n",
    "test_X.columns = columns\n",
    "\n",
    "data = test_X.copy()\n",
    "data['test_y'] = test_y\n",
    "data = data.reset_index(drop = True)\n",
    "data['pred_test_y'] = pd.Series(pred_test_y)\n",
    "data['FN'] = data.apply(lambda x: 1 if x.test_y == 1 and x.pred_test_y == 0 else 0, axis = 1)\n",
    "data['FP'] = data.apply(lambda x: 1 if x.test_y == 0 and x.pred_test_y == 1 else 0, axis = 1)"
   ]
  },
  {
   "cell_type": "markdown",
   "metadata": {},
   "source": [
    "### Explanation"
   ]
  },
  {
   "cell_type": "code",
   "execution_count": 187,
   "metadata": {
    "scrolled": true
   },
   "outputs": [
    {
     "name": "stdout",
     "output_type": "stream",
     "text": [
      "*** Causal Estimate ***\n",
      "\n",
      "## Identified estimand\n",
      "Estimand type: nonparametric-ate\n",
      "\n",
      "### Estimand : 1\n",
      "Estimand name: backdoor\n",
      "Estimand expression:\n",
      "       d                             \n",
      "───────────────(Expectation(FN|beds))\n",
      "d[accommodates]                      \n",
      "Estimand assumption 1, Unconfoundedness: If U→{accommodates} and U→FN then P(FN|accommodates,beds,U) = P(FN|accommodates,beds)\n",
      "\n",
      "## Realized estimand\n",
      "b: FN~accommodates+beds\n",
      "Target units: ate\n",
      "\n",
      "## Estimate\n",
      "Mean value: 0.06527672787965144\n",
      "\n",
      "Refute: Add a Random Common Cause\n",
      "Estimated effect:0.06527672787965144\n",
      "New effect:0.06527611291558562\n",
      "\n",
      "Refute: Use a subset of data\n",
      "Estimated effect:0.06527672787965144\n",
      "New effect:0.06499230138888082\n",
      "p value:0.43999999999999995\n",
      "\n"
     ]
    }
   ],
   "source": [
    "treatment = 'accommodates'\n",
    "outcome = 'FN'\n",
    "common_causes = 'beds'\n",
    "util.do_why(data, treatment, outcome, common_causes)"
   ]
  },
  {
   "cell_type": "code",
   "execution_count": 188,
   "metadata": {},
   "outputs": [
    {
     "name": "stdout",
     "output_type": "stream",
     "text": [
      "*** Causal Estimate ***\n",
      "\n",
      "## Identified estimand\n",
      "Estimand type: nonparametric-ate\n",
      "\n",
      "### Estimand : 1\n",
      "Estimand name: backdoor\n",
      "Estimand expression:\n",
      "              d                                                        \n",
      "─────────────────────────────(Expectation(FP|property_type: Apartment))\n",
      "d[room_type: Entire home/apt]                                          \n",
      "Estimand assumption 1, Unconfoundedness: If U→{room_type: Entire home/apt} and U→FP then P(FP|room_type: Entire home/apt,property_type: Apartment,U) = P(FP|room_type: Entire home/apt,property_type: Apartment)\n",
      "\n",
      "## Realized estimand\n",
      "b: FP~room_type: Entire home/apt+property_type: Apartment\n",
      "Target units: ate\n",
      "\n",
      "## Estimate\n",
      "Mean value: 0.01118840306990328\n",
      "\n",
      "Refute: Add a Random Common Cause\n",
      "Estimated effect:0.01118840306990328\n",
      "New effect:0.011188843604868264\n",
      "\n",
      "Refute: Use a subset of data\n",
      "Estimated effect:0.01118840306990328\n",
      "New effect:0.010873112383392941\n",
      "p value:0.46\n",
      "\n"
     ]
    }
   ],
   "source": [
    "treatment = 'room_type: Entire home/apt'\n",
    "outcome = 'FP'\n",
    "common_causes = 'property_type: Apartment'\n",
    "util.do_why(data, treatment, outcome, common_causes)"
   ]
  },
  {
   "cell_type": "markdown",
   "metadata": {},
   "source": [
    "# XGB"
   ]
  },
  {
   "cell_type": "code",
   "execution_count": 189,
   "metadata": {},
   "outputs": [],
   "source": [
    "from xgboost.sklearn import XGBClassifier"
   ]
  },
  {
   "cell_type": "code",
   "execution_count": 190,
   "metadata": {},
   "outputs": [
    {
     "name": "stderr",
     "output_type": "stream",
     "text": [
      "C:\\Users\\14388\\anaconda3\\lib\\site-packages\\xgboost\\sklearn.py:1224: UserWarning: The use of label encoder in XGBClassifier is deprecated and will be removed in a future release. To remove this warning, do the following: 1) Pass option use_label_encoder=False when constructing XGBClassifier object; and 2) Encode your labels (y) as integers starting with 0, i.e. 0, 1, 2, ..., [num_class - 1].\n",
      "  warnings.warn(label_encoder_deprecation_msg, UserWarning)\n",
      "C:\\Users\\14388\\anaconda3\\lib\\site-packages\\sklearn\\preprocessing\\_label.py:98: DataConversionWarning: A column-vector y was passed when a 1d array was expected. Please change the shape of y to (n_samples, ), for example using ravel().\n",
      "  y = column_or_1d(y, warn=True)\n",
      "C:\\Users\\14388\\anaconda3\\lib\\site-packages\\sklearn\\preprocessing\\_label.py:133: DataConversionWarning: A column-vector y was passed when a 1d array was expected. Please change the shape of y to (n_samples, ), for example using ravel().\n",
      "  y = column_or_1d(y, warn=True)\n"
     ]
    },
    {
     "name": "stdout",
     "output_type": "stream",
     "text": [
      "[15:38:27] WARNING: C:/Users/Administrator/workspace/xgboost-win64_release_1.5.1/src/learner.cc:1115: Starting in XGBoost 1.3.0, the default evaluation metric used with the objective 'binary:logistic' was changed from 'error' to 'logloss'. Explicitly set eval_metric if you'd like to restore the old behavior.\n"
     ]
    }
   ],
   "source": [
    "model = XGBClassifier()\n",
    "\n",
    "feature_dir = \"../data/out/airbnb_features.csv\"\n",
    "target_dir = \"../data/out/airbnb_target.csv\"\n",
    "X = pd.read_csv(feature_dir, index_col = 0)\n",
    "columns = X.columns\n",
    "X.columns = range(X.shape[1])\n",
    "y = pd.read_csv(target_dir, index_col = 0)\n",
    "\n",
    "train_X, test_X, train_y, test_y = train_test_split(X, y, random_state = 42)\n",
    "model = model.fit(train_X, train_y)\n",
    "\n",
    "pred_test_y = model.predict(test_X)\n",
    "accuracy_score(pred_test_y, test_y)\n",
    "\n",
    "train_X.columns = columns\n",
    "test_X.columns = columns\n",
    "\n",
    "data = test_X.copy()\n",
    "data['test_y'] = test_y\n",
    "data = data.reset_index(drop = True)\n",
    "data['pred_test_y'] = pd.Series(pred_test_y)\n",
    "data['FN'] = data.apply(lambda x: 1 if x.test_y == 1 and x.pred_test_y == 0 else 0, axis = 1)\n",
    "data['FP'] = data.apply(lambda x: 1 if x.test_y == 0 and x.pred_test_y == 1 else 0, axis = 1)"
   ]
  },
  {
   "cell_type": "markdown",
   "metadata": {},
   "source": [
    "### Explanation"
   ]
  },
  {
   "cell_type": "code",
   "execution_count": 191,
   "metadata": {},
   "outputs": [
    {
     "name": "stdout",
     "output_type": "stream",
     "text": [
      "*** Causal Estimate ***\n",
      "\n",
      "## Identified estimand\n",
      "Estimand type: nonparametric-ate\n",
      "\n",
      "### Estimand : 1\n",
      "Estimand name: backdoor\n",
      "Estimand expression:\n",
      "       d                             \n",
      "───────────────(Expectation(FN|beds))\n",
      "d[accommodates]                      \n",
      "Estimand assumption 1, Unconfoundedness: If U→{accommodates} and U→FN then P(FN|accommodates,beds,U) = P(FN|accommodates,beds)\n",
      "\n",
      "## Realized estimand\n",
      "b: FN~accommodates+beds\n",
      "Target units: ate\n",
      "\n",
      "## Estimate\n",
      "Mean value: -0.007107252048340923\n",
      "\n",
      "Refute: Add a Random Common Cause\n",
      "Estimated effect:-0.007107252048340923\n",
      "New effect:-0.0070753690878928716\n",
      "\n",
      "Refute: Use a subset of data\n",
      "Estimated effect:-0.007107252048340923\n",
      "New effect:-0.007347448627757935\n",
      "p value:0.45999999999999996\n",
      "\n"
     ]
    }
   ],
   "source": [
    "treatment = 'accommodates'\n",
    "outcome = 'FN'\n",
    "common_causes = 'beds'\n",
    "util.do_why(data, treatment, outcome, common_causes)"
   ]
  },
  {
   "cell_type": "code",
   "execution_count": 177,
   "metadata": {},
   "outputs": [
    {
     "name": "stdout",
     "output_type": "stream",
     "text": [
      "*** Causal Estimate ***\n",
      "\n",
      "## Identified estimand\n",
      "Estimand type: nonparametric-ate\n",
      "\n",
      "### Estimand : 1\n",
      "Estimand name: backdoor\n",
      "Estimand expression:\n",
      "              d                                                        \n",
      "─────────────────────────────(Expectation(FP|property_type: Apartment))\n",
      "d[room_type: Entire home/apt]                                          \n",
      "Estimand assumption 1, Unconfoundedness: If U→{room_type: Entire home/apt} and U→FP then P(FP|room_type: Entire home/apt,property_type: Apartment,U) = P(FP|room_type: Entire home/apt,property_type: Apartment)\n",
      "\n",
      "## Realized estimand\n",
      "b: FP~room_type: Entire home/apt+property_type: Apartment\n",
      "Target units: ate\n",
      "\n",
      "## Estimate\n",
      "Mean value: 0.0794410246494151\n",
      "\n",
      "Refute: Add a Random Common Cause\n",
      "Estimated effect:0.0794410246494151\n",
      "New effect:0.07945356347786112\n",
      "\n",
      "Refute: Use a subset of data\n",
      "Estimated effect:0.0794410246494151\n",
      "New effect:0.07998733232873949\n",
      "p value:0.46\n",
      "\n"
     ]
    }
   ],
   "source": [
    "treatment = 'room_type: Entire home/apt'\n",
    "outcome = 'FP'\n",
    "common_causes = 'property_type: Apartment'\n",
    "util.do_why(data, treatment, outcome, common_causes)"
   ]
  },
  {
   "cell_type": "markdown",
   "metadata": {},
   "source": [
    "# Tabnet"
   ]
  },
  {
   "cell_type": "code",
   "execution_count": 42,
   "metadata": {},
   "outputs": [],
   "source": [
    "from sk_tabnet import TNClassifier "
   ]
  },
  {
   "cell_type": "code",
   "execution_count": 47,
   "metadata": {
    "scrolled": true
   },
   "outputs": [
    {
     "name": "stdout",
     "output_type": "stream",
     "text": [
      "Device used : cpu\n",
      "No early stopping will be performed, last training weights will be used.\n",
      "epoch 0  | loss: 0.7069  |  0:00:00s\n",
      "epoch 1  | loss: 0.67983 |  0:00:00s\n",
      "epoch 2  | loss: 0.66653 |  0:00:00s\n",
      "epoch 3  | loss: 0.65477 |  0:00:01s\n",
      "epoch 4  | loss: 0.64239 |  0:00:01s\n",
      "epoch 5  | loss: 0.63779 |  0:00:01s\n",
      "epoch 6  | loss: 0.63387 |  0:00:01s\n",
      "epoch 7  | loss: 0.61862 |  0:00:02s\n",
      "epoch 8  | loss: 0.59937 |  0:00:02s\n",
      "epoch 9  | loss: 0.58605 |  0:00:02s\n",
      "epoch 10 | loss: 0.5603  |  0:00:03s\n",
      "epoch 11 | loss: 0.5401  |  0:00:03s\n",
      "epoch 12 | loss: 0.51972 |  0:00:03s\n",
      "epoch 13 | loss: 0.51273 |  0:00:04s\n",
      "epoch 14 | loss: 0.49678 |  0:00:04s\n",
      "epoch 15 | loss: 0.48596 |  0:00:04s\n",
      "epoch 16 | loss: 0.483   |  0:00:04s\n",
      "epoch 17 | loss: 0.47115 |  0:00:05s\n",
      "epoch 18 | loss: 0.47556 |  0:00:05s\n",
      "epoch 19 | loss: 0.45883 |  0:00:05s\n",
      "epoch 20 | loss: 0.47148 |  0:00:06s\n",
      "epoch 21 | loss: 0.4732  |  0:00:06s\n",
      "epoch 22 | loss: 0.46772 |  0:00:06s\n",
      "epoch 23 | loss: 0.4655  |  0:00:06s\n",
      "epoch 24 | loss: 0.46887 |  0:00:07s\n",
      "epoch 25 | loss: 0.46267 |  0:00:07s\n",
      "epoch 26 | loss: 0.46611 |  0:00:07s\n",
      "epoch 27 | loss: 0.4602  |  0:00:08s\n",
      "epoch 28 | loss: 0.47343 |  0:00:08s\n",
      "epoch 29 | loss: 0.44166 |  0:00:08s\n",
      "epoch 30 | loss: 0.4624  |  0:00:09s\n",
      "epoch 31 | loss: 0.45868 |  0:00:09s\n",
      "epoch 32 | loss: 0.45197 |  0:00:09s\n",
      "epoch 33 | loss: 0.44253 |  0:00:09s\n",
      "epoch 34 | loss: 0.44333 |  0:00:10s\n",
      "epoch 35 | loss: 0.44903 |  0:00:10s\n",
      "epoch 36 | loss: 0.44034 |  0:00:10s\n",
      "epoch 37 | loss: 0.43495 |  0:00:11s\n",
      "epoch 38 | loss: 0.42805 |  0:00:11s\n",
      "epoch 39 | loss: 0.4273  |  0:00:11s\n",
      "epoch 40 | loss: 0.42285 |  0:00:12s\n",
      "epoch 41 | loss: 0.42573 |  0:00:12s\n",
      "epoch 42 | loss: 0.41581 |  0:00:12s\n",
      "epoch 43 | loss: 0.42408 |  0:00:12s\n",
      "epoch 44 | loss: 0.42564 |  0:00:13s\n",
      "epoch 45 | loss: 0.42675 |  0:00:13s\n",
      "epoch 46 | loss: 0.42931 |  0:00:13s\n",
      "epoch 47 | loss: 0.43161 |  0:00:14s\n",
      "epoch 48 | loss: 0.4392  |  0:00:14s\n",
      "epoch 49 | loss: 0.44158 |  0:00:14s\n",
      "epoch 50 | loss: 0.43844 |  0:00:15s\n",
      "epoch 51 | loss: 0.44726 |  0:00:15s\n",
      "epoch 52 | loss: 0.43005 |  0:00:15s\n",
      "epoch 53 | loss: 0.43874 |  0:00:16s\n",
      "epoch 54 | loss: 0.44236 |  0:00:16s\n",
      "epoch 55 | loss: 0.44388 |  0:00:16s\n",
      "epoch 56 | loss: 0.44256 |  0:00:17s\n",
      "epoch 57 | loss: 0.43359 |  0:00:17s\n",
      "epoch 58 | loss: 0.42691 |  0:00:17s\n",
      "epoch 59 | loss: 0.42983 |  0:00:18s\n",
      "epoch 60 | loss: 0.42846 |  0:00:18s\n",
      "epoch 61 | loss: 0.41774 |  0:00:18s\n",
      "epoch 62 | loss: 0.41648 |  0:00:18s\n",
      "epoch 63 | loss: 0.41782 |  0:00:19s\n",
      "epoch 64 | loss: 0.40233 |  0:00:19s\n",
      "epoch 65 | loss: 0.40621 |  0:00:19s\n",
      "epoch 66 | loss: 0.39907 |  0:00:20s\n",
      "epoch 67 | loss: 0.39643 |  0:00:20s\n",
      "epoch 68 | loss: 0.40605 |  0:00:20s\n",
      "epoch 69 | loss: 0.40549 |  0:00:21s\n",
      "epoch 70 | loss: 0.39422 |  0:00:21s\n",
      "epoch 71 | loss: 0.38721 |  0:00:21s\n",
      "epoch 72 | loss: 0.39239 |  0:00:22s\n",
      "epoch 73 | loss: 0.38395 |  0:00:22s\n",
      "epoch 74 | loss: 0.36912 |  0:00:22s\n",
      "epoch 75 | loss: 0.38248 |  0:00:23s\n",
      "epoch 76 | loss: 0.37344 |  0:00:23s\n",
      "epoch 77 | loss: 0.37471 |  0:00:23s\n",
      "epoch 78 | loss: 0.37931 |  0:00:24s\n",
      "epoch 79 | loss: 0.37835 |  0:00:24s\n",
      "epoch 80 | loss: 0.37698 |  0:00:24s\n",
      "epoch 81 | loss: 0.3742  |  0:00:25s\n",
      "epoch 82 | loss: 0.37746 |  0:00:25s\n",
      "epoch 83 | loss: 0.37718 |  0:00:25s\n",
      "epoch 84 | loss: 0.37752 |  0:00:26s\n",
      "epoch 85 | loss: 0.3728  |  0:00:26s\n",
      "epoch 86 | loss: 0.37141 |  0:00:26s\n",
      "epoch 87 | loss: 0.37309 |  0:00:27s\n",
      "epoch 88 | loss: 0.36342 |  0:00:27s\n",
      "epoch 89 | loss: 0.37131 |  0:00:27s\n",
      "epoch 90 | loss: 0.36236 |  0:00:27s\n",
      "epoch 91 | loss: 0.36874 |  0:00:28s\n",
      "epoch 92 | loss: 0.34731 |  0:00:28s\n",
      "epoch 93 | loss: 0.34947 |  0:00:28s\n",
      "epoch 94 | loss: 0.34115 |  0:00:29s\n",
      "epoch 95 | loss: 0.34814 |  0:00:29s\n",
      "epoch 96 | loss: 0.35204 |  0:00:30s\n",
      "epoch 97 | loss: 0.34824 |  0:00:30s\n",
      "epoch 98 | loss: 0.33922 |  0:00:30s\n",
      "epoch 99 | loss: 0.33981 |  0:00:31s\n"
     ]
    }
   ],
   "source": [
    "model = TNClassifier()\n",
    "\n",
    "feature_dir = \"../data/out/airbnb_features.csv\"\n",
    "target_dir = \"../data/out/airbnb_target.csv\"\n",
    "X = pd.read_csv(feature_dir, index_col = 0)\n",
    "columns = X.columns\n",
    "X.columns = range(X.shape[1])\n",
    "y = pd.read_csv(target_dir, index_col = 0)\n",
    "\n",
    "train_X, test_X, train_y, test_y = train_test_split(X, y, random_state = 42)\n",
    "model.fit(train_X, train_y)"
   ]
  },
  {
   "cell_type": "code",
   "execution_count": 48,
   "metadata": {},
   "outputs": [],
   "source": [
    "pred_test_y = model.predict(test_X)\n",
    "accuracy_score(pred_test_y, test_y)\n",
    "\n",
    "train_X.columns = columns\n",
    "test_X.columns = columns\n",
    "\n",
    "data = test_X.copy()\n",
    "data['test_y'] = test_y\n",
    "data = data.reset_index(drop = True)\n",
    "data['pred_test_y'] = pd.Series(pred_test_y)\n",
    "data['FN'] = data.apply(lambda x: 1 if x.test_y == 1 and x.pred_test_y == 0 else 0, axis = 1)\n",
    "data['FP'] = data.apply(lambda x: 1 if x.test_y == 0 and x.pred_test_y == 1 else 0, axis = 1)"
   ]
  },
  {
   "cell_type": "code",
   "execution_count": 49,
   "metadata": {},
   "outputs": [
    {
     "data": {
      "image/png": "[encoded data removed]",
      "text/latex": [
       "$\\displaystyle 0.819971870604782$"
      ],
      "text/plain": [
       "0.819971870604782"
      ]
     },
     "execution_count": 49,
     "metadata": {},
     "output_type": "execute_result"
    }
   ],
   "source": [
    "pred_test_y = model.predict(test_X)\n",
    "accuracy_score(pred_test_y, test_y)"
   ]
  },
  {
   "cell_type": "markdown",
   "metadata": {},
   "source": [
    "### Explanation"
   ]
  },
  {
   "cell_type": "code",
   "execution_count": 50,
   "metadata": {},
   "outputs": [
    {
     "name": "stdout",
     "output_type": "stream",
     "text": [
      "*** Causal Estimate ***\n",
      "\n",
      "## Identified estimand\n",
      "Estimand type: nonparametric-ate\n",
      "\n",
      "### Estimand : 1\n",
      "Estimand name: backdoor\n",
      "Estimand expression:\n",
      "     d                                      \n",
      "───────────(Expectation(FN|guests_included))\n",
      "d[bedrooms]                                 \n",
      "Estimand assumption 1, Unconfoundedness: If U→{bedrooms} and U→FN then P(FN|bedrooms,guests_included,U) = P(FN|bedrooms,guests_included)\n",
      "\n",
      "## Realized estimand\n",
      "b: FN~bedrooms+guests_included\n",
      "Target units: ate\n",
      "\n",
      "## Estimate\n",
      "Mean value: -0.04103000033375741\n",
      "\n",
      "Refute: Add a Random Common Cause\n",
      "Estimated effect:-0.04103000033375741\n",
      "New effect:-0.04109377330584943\n",
      "\n",
      "Refute: Use a subset of data\n",
      "Estimated effect:-0.04103000033375741\n",
      "New effect:-0.041365774835701634\n",
      "p value:0.45999999999999996\n",
      "\n"
     ]
    }
   ],
   "source": [
    "treatment = 'bedrooms'\n",
    "outcome = 'FN'\n",
    "common_causes = 'guests_included'\n",
    "util.do_why(data, treatment, outcome, common_causes)"
   ]
  },
  {
   "cell_type": "code",
   "execution_count": 51,
   "metadata": {},
   "outputs": [
    {
     "name": "stdout",
     "output_type": "stream",
     "text": [
      "*** Causal Estimate ***\n",
      "\n",
      "## Identified estimand\n",
      "Estimand type: nonparametric-ate\n",
      "\n",
      "### Estimand : 1\n",
      "Estimand name: backdoor\n",
      "Estimand expression:\n",
      "     d                                      \n",
      "───────────(Expectation(FP|guests_included))\n",
      "d[bedrooms]                                 \n",
      "Estimand assumption 1, Unconfoundedness: If U→{bedrooms} and U→FP then P(FP|bedrooms,guests_included,U) = P(FP|bedrooms,guests_included)\n",
      "\n",
      "## Realized estimand\n",
      "b: FP~bedrooms+guests_included\n",
      "Target units: ate\n",
      "\n",
      "## Estimate\n",
      "Mean value: 0.020071050333308235\n",
      "\n",
      "Refute: Add a Random Common Cause\n",
      "Estimated effect:0.020071050333308235\n",
      "New effect:0.020094603767432523\n",
      "\n",
      "Refute: Use a subset of data\n",
      "Estimated effect:0.020071050333308235\n",
      "New effect:0.020829575119128207\n",
      "p value:0.46\n",
      "\n"
     ]
    }
   ],
   "source": [
    "treatment = 'bedrooms'\n",
    "outcome = 'FP'\n",
    "common_causes = 'guests_included'\n",
    "util.do_why(data, treatment, outcome, common_causes)"
   ]
  },
  {
   "cell_type": "code",
   "execution_count": null,
   "metadata": {},
   "outputs": [],
   "source": []
  }
 ],
 "metadata": {
  "kernelspec": {
   "display_name": "Python 3",
   "language": "python",
   "name": "python3"
  },
  "language_info": {
   "codemirror_mode": {
    "name": "ipython",
    "version": 3
   },
   "file_extension": ".py",
   "mimetype": "text/x-python",
   "name": "python",
   "nbconvert_exporter": "python",
   "pygments_lexer": "ipython3",
   "version": "3.8.3"
  }
 },
 "nbformat": 4,
 "nbformat_minor": 4
}
