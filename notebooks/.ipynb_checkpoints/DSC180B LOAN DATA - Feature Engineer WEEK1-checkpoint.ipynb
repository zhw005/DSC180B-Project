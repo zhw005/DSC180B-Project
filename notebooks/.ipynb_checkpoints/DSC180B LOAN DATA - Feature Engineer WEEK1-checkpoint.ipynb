{
 "cells": [
  {
   "cell_type": "code",
   "execution_count": 1,
   "id": "f57bca43",
   "metadata": {},
   "outputs": [],
   "source": [
    "import pandas as pd\n",
    "import numpy as np\n",
    "from sklearn.preprocessing import OneHotEncoder"
   ]
  },
  {
   "cell_type": "code",
   "execution_count": 2,
   "id": "fc534694",
   "metadata": {},
   "outputs": [],
   "source": [
    "loan = pd.read_csv('application_data.csv')"
   ]
  },
  {
   "cell_type": "markdown",
   "id": "ef359b7d",
   "metadata": {},
   "source": [
    "### Drop the columns that have > 35% missing values and are not relevant to our classification task."
   ]
  },
  {
   "cell_type": "code",
   "execution_count": 4,
   "id": "da688cb3",
   "metadata": {},
   "outputs": [],
   "source": [
    "loan = loan.drop(['OWN_CAR_AGE','EXT_SOURCE_1','APARTMENTS_AVG','BASEMENTAREA_AVG','YEARS_BEGINEXPLUATATION_AVG','YEARS_BUILD_AVG','COMMONAREA_AVG','ELEVATORS_AVG','ENTRANCES_AVG','FLOORSMAX_AVG','FLOORSMIN_AVG','LANDAREA_AVG','LIVINGAPARTMENTS_AVG','LIVINGAREA_AVG','NONLIVINGAPARTMENTS_AVG','NONLIVINGAREA_AVG','APARTMENTS_MODE','BASEMENTAREA_MODE','YEARS_BEGINEXPLUATATION_MODE','YEARS_BUILD_MODE','COMMONAREA_MODE','ELEVATORS_MODE','ENTRANCES_MODE','FLOORSMAX_MODE','FLOORSMIN_MODE','LANDAREA_MODE','LIVINGAPARTMENTS_MODE','LIVINGAREA_MODE','NONLIVINGAPARTMENTS_MODE','NONLIVINGAREA_MODE','APARTMENTS_MEDI','BASEMENTAREA_MEDI','YEARS_BEGINEXPLUATATION_MEDI','YEARS_BUILD_MEDI','COMMONAREA_MEDI','ELEVATORS_MEDI','ENTRANCES_MEDI','FLOORSMAX_MEDI','FLOORSMIN_MEDI','LANDAREA_MEDI','LIVINGAPARTMENTS_MEDI','LIVINGAREA_MEDI', 'NONLIVINGAPARTMENTS_MEDI', 'NONLIVINGAREA_MEDI','HOUSETYPE_MODE','TOTALAREA_MODE','WALLSMATERIAL_MODE','FONDKAPREMONT_MODE','EMERGENCYSTATE_MODE'], axis = 1)"
   ]
  },
  {
   "cell_type": "markdown",
   "id": "b48b33f2",
   "metadata": {},
   "source": [
    "### OHE"
   ]
  },
  {
   "cell_type": "code",
   "execution_count": 6,
   "id": "ef32a630",
   "metadata": {},
   "outputs": [
    {
     "name": "stdout",
     "output_type": "stream",
     "text": [
      "There are 12 features that need to be one hot encoded.\n"
     ]
    }
   ],
   "source": [
    "loan_ohe_features = ['NAME_CONTRACT_TYPE','CODE_GENDER','FLAG_OWN_CAR', 'FLAG_OWN_REALTY', 'NAME_TYPE_SUITE','NAME_INCOME_TYPE','NAME_EDUCATION_TYPE','NAME_FAMILY_STATUS','NAME_HOUSING_TYPE','WEEKDAY_APPR_PROCESS_START','OCCUPATION_TYPE','ORGANIZATION_TYPE']"
   ]
  },
  {
   "cell_type": "code",
   "execution_count": 7,
   "id": "983256b5",
   "metadata": {},
   "outputs": [],
   "source": [
    "for i in loan_ohe_features:\n",
    "    loan[i] = i + ': ' + loan[i].astype(str)"
   ]
  },
  {
   "cell_type": "code",
   "execution_count": 8,
   "id": "254717b1",
   "metadata": {},
   "outputs": [
    {
     "data": {
      "text/plain": [
       "OneHotEncoder(handle_unknown='ignore')"
      ]
     },
     "execution_count": 8,
     "metadata": {},
     "output_type": "execute_result"
    }
   ],
   "source": [
    "loan_enc = OneHotEncoder(handle_unknown='ignore')\n",
    "loan_enc.fit(loan[loan_ohe_features])"
   ]
  },
  {
   "cell_type": "code",
   "execution_count": 10,
   "id": "596cf06b",
   "metadata": {},
   "outputs": [],
   "source": [
    "loan_ohe_features_result = loan_enc.transform(loan[loan_ohe_features]).toarray()"
   ]
  },
  {
   "cell_type": "markdown",
   "id": "8928c333",
   "metadata": {},
   "source": [
    "### Create feature array and name it as loan_x"
   ]
  },
  {
   "cell_type": "code",
   "execution_count": 11,
   "id": "d936e82f",
   "metadata": {},
   "outputs": [],
   "source": [
    "loan_x = np.append(loan_ohe_features_result, loan.drop(loan_ohe_features, axis = 1).drop('TARGET', axis = 1).values, axis = 1)"
   ]
  },
  {
   "cell_type": "code",
   "execution_count": 43,
   "id": "c65e1cc8",
   "metadata": {},
   "outputs": [],
   "source": [
    "ohe_column_names = np.concatenate(loan_enc.categories_).tolist()\n",
    "other_column_names = loan.drop(loan_ohe_features, axis = 1).drop('TARGET', axis = 1).columns\n",
    "column_names = ohe_column_names + other_column_names.tolist()"
   ]
  },
  {
   "cell_type": "markdown",
   "id": "f0a7dc1a",
   "metadata": {},
   "source": [
    "### Create target array and name it as loan_y"
   ]
  },
  {
   "cell_type": "code",
   "execution_count": 14,
   "id": "e4a800a4",
   "metadata": {},
   "outputs": [
    {
     "data": {
      "text/plain": [
       "0    282686\n",
       "1     24825\n",
       "Name: TARGET, dtype: int64"
      ]
     },
     "execution_count": 14,
     "metadata": {},
     "output_type": "execute_result"
    }
   ],
   "source": [
    "loan_y = loan['TARGET']"
   ]
  },
  {
   "cell_type": "markdown",
   "id": "2a499531",
   "metadata": {},
   "source": [
    "## Create df"
   ]
  },
  {
   "cell_type": "code",
   "execution_count": 57,
   "id": "295e1dc8",
   "metadata": {},
   "outputs": [],
   "source": [
    "all_columns = loan_y.tolist() + loan_x.tolist()"
   ]
  },
  {
   "cell_type": "code",
   "execution_count": 63,
   "id": "ec74f8b5",
   "metadata": {},
   "outputs": [],
   "source": [
    "df_x = pd.DataFrame(loan_x, columns = column_names)"
   ]
  },
  {
   "cell_type": "code",
   "execution_count": 64,
   "id": "8b82ac6b",
   "metadata": {},
   "outputs": [],
   "source": [
    "df_x['Target'] = loan_y"
   ]
  },
  {
   "cell_type": "code",
   "execution_count": 67,
   "id": "fc4c5ddd",
   "metadata": {},
   "outputs": [],
   "source": [
    "feature_engineered_loan_data = df_x"
   ]
  },
  {
   "cell_type": "markdown",
   "id": "5aa0f9ee",
   "metadata": {},
   "source": [
    "### Impute missing values"
   ]
  },
  {
   "cell_type": "code",
   "execution_count": 122,
   "id": "5092e4bc",
   "metadata": {},
   "outputs": [],
   "source": [
    "fill_mean = ['AMT_ANNUITY','AMT_GOODS_PRICE','EXT_SOURCE_2','EXT_SOURCE_3','DAYS_LAST_PHONE_CHANGE']\n",
    "fill_mode = ['CNT_FAM_MEMBERS', 'OBS_30_CNT_SOCIAL_CIRCLE', 'DEF_30_CNT_SOCIAL_CIRCLE','OBS_60_CNT_SOCIAL_CIRCLE','DEF_60_CNT_SOCIAL_CIRCLE','AMT_REQ_CREDIT_BUREAU_HOUR','AMT_REQ_CREDIT_BUREAU_DAY','AMT_REQ_CREDIT_BUREAU_WEEK','AMT_REQ_CREDIT_BUREAU_MON','AMT_REQ_CREDIT_BUREAU_QRT','AMT_REQ_CREDIT_BUREAU_YEAR']"
   ]
  },
  {
   "cell_type": "code",
   "execution_count": null,
   "id": "28ddf6af",
   "metadata": {},
   "outputs": [],
   "source": [
    "for i in fill_mean:\n",
    "    feature_engineered_loan_data[i].fillna(int(feature_engineered_loan_data[i].mean()), inplace=True)\n",
    "for i in fill_mode:\n",
    "    feature_engineered_loan_data[i].fillna(int(feature_engineered_loan_data[i].mode()), inplace=True)"
   ]
  },
  {
   "cell_type": "code",
   "execution_count": 126,
   "id": "e9b6ca57",
   "metadata": {},
   "outputs": [],
   "source": [
    "feature_engineered_loan_data.to_csv('feature_engineered_loan_data.csv')"
   ]
  },
  {
   "cell_type": "code",
   "execution_count": 128,
   "id": "0c0fdff8",
   "metadata": {},
   "outputs": [],
   "source": [
    "haha = pd.read_csv('feature_engineered_loan_data.csv')"
   ]
  },
  {
   "cell_type": "code",
   "execution_count": null,
   "id": "d94e1711",
   "metadata": {},
   "outputs": [],
   "source": []
  }
 ],
 "metadata": {
  "kernelspec": {
   "display_name": "Python 3 (ipykernel)",
   "language": "python",
   "name": "python3"
  },
  "language_info": {
   "codemirror_mode": {
    "name": "ipython",
    "version": 3
   },
   "file_extension": ".py",
   "mimetype": "text/x-python",
   "name": "python",
   "nbconvert_exporter": "python",
   "pygments_lexer": "ipython3",
   "version": "3.8.12"
  }
 },
 "nbformat": 4,
 "nbformat_minor": 5
}
