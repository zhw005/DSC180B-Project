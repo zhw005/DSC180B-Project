{
 "cells": [
  {
   "cell_type": "code",
   "execution_count": 1,
   "id": "c97bc1e3",
   "metadata": {},
   "outputs": [],
   "source": [
    "import os\n",
    "os.environ['KMP_DUPLICATE_LIB_OK']='True'\n",
    "from sklearn.model_selection import train_test_split\n",
    "from sklearn.metrics import accuracy_score\n",
    "from xgboost.sklearn import XGBClassifier\n",
    "import pandas as pd\n",
    "import pickle\n",
    "import zipfile"
   ]
  },
  {
   "cell_type": "markdown",
   "id": "3536cd94",
   "metadata": {},
   "source": [
    "## Loan (Gender)\n",
    "https://fairware.cs.umass.edu/papers/Verma.pdf"
   ]
  },
  {
   "cell_type": "code",
   "execution_count": 2,
   "id": "f4c43c2e",
   "metadata": {},
   "outputs": [],
   "source": [
    "model = XGBClassifier()"
   ]
  },
  {
   "cell_type": "code",
   "execution_count": 3,
   "id": "54eb9d69",
   "metadata": {},
   "outputs": [],
   "source": [
    "loan_dir = '../data/feature_engineered_loan_data.csv.zip'\n",
    "model_save_dir = \"../data/output/tab\""
   ]
  },
  {
   "cell_type": "code",
   "execution_count": 4,
   "id": "7009cef5",
   "metadata": {},
   "outputs": [],
   "source": [
    "#zf = zipfile.ZipFile(loan_dir) \n",
    "#loan = pd.read_csv(zf.open('feature_engineered_loan_data.csv'))\n",
    "\n",
    "loan = pd.read_csv('../data/loan_downsampled.csv')"
   ]
  },
  {
   "cell_type": "code",
   "execution_count": 5,
   "id": "14b7f9a4",
   "metadata": {},
   "outputs": [
    {
     "name": "stderr",
     "output_type": "stream",
     "text": [
      "/var/folders/s5/ysjjjszj3jj4ydswlqm14w100000gn/T/ipykernel_43983/169164214.py:1: FutureWarning: In a future version of pandas all arguments of DataFrame.drop except for the argument 'labels' will be keyword-only\n",
      "  feature = loan.drop(['Target','Unnamed: 0'], 1)\n"
     ]
    },
    {
     "data": {
      "text/html": [
       "<div>\n",
       "<style scoped>\n",
       "    .dataframe tbody tr th:only-of-type {\n",
       "        vertical-align: middle;\n",
       "    }\n",
       "\n",
       "    .dataframe tbody tr th {\n",
       "        vertical-align: top;\n",
       "    }\n",
       "\n",
       "    .dataframe thead th {\n",
       "        text-align: right;\n",
       "    }\n",
       "</style>\n",
       "<table border=\"1\" class=\"dataframe\">\n",
       "  <thead>\n",
       "    <tr style=\"text-align: right;\">\n",
       "      <th></th>\n",
       "      <th>NAME_CONTRACT_TYPE: Cash loans</th>\n",
       "      <th>NAME_CONTRACT_TYPE: Revolving loans</th>\n",
       "      <th>CODE_GENDER: F</th>\n",
       "      <th>CODE_GENDER: M</th>\n",
       "      <th>CODE_GENDER: XNA</th>\n",
       "      <th>FLAG_OWN_CAR: N</th>\n",
       "      <th>FLAG_OWN_CAR: Y</th>\n",
       "      <th>FLAG_OWN_REALTY: N</th>\n",
       "      <th>FLAG_OWN_REALTY: Y</th>\n",
       "      <th>NAME_TYPE_SUITE: Children</th>\n",
       "      <th>...</th>\n",
       "      <th>FLAG_DOCUMENT_18</th>\n",
       "      <th>FLAG_DOCUMENT_19</th>\n",
       "      <th>FLAG_DOCUMENT_20</th>\n",
       "      <th>FLAG_DOCUMENT_21</th>\n",
       "      <th>AMT_REQ_CREDIT_BUREAU_HOUR</th>\n",
       "      <th>AMT_REQ_CREDIT_BUREAU_DAY</th>\n",
       "      <th>AMT_REQ_CREDIT_BUREAU_WEEK</th>\n",
       "      <th>AMT_REQ_CREDIT_BUREAU_MON</th>\n",
       "      <th>AMT_REQ_CREDIT_BUREAU_QRT</th>\n",
       "      <th>AMT_REQ_CREDIT_BUREAU_YEAR</th>\n",
       "    </tr>\n",
       "  </thead>\n",
       "  <tbody>\n",
       "    <tr>\n",
       "      <th>0</th>\n",
       "      <td>1.0</td>\n",
       "      <td>0.0</td>\n",
       "      <td>0.0</td>\n",
       "      <td>1.0</td>\n",
       "      <td>0.0</td>\n",
       "      <td>1.0</td>\n",
       "      <td>0.0</td>\n",
       "      <td>0.0</td>\n",
       "      <td>1.0</td>\n",
       "      <td>0.0</td>\n",
       "      <td>...</td>\n",
       "      <td>0.0</td>\n",
       "      <td>0.0</td>\n",
       "      <td>0.0</td>\n",
       "      <td>0.0</td>\n",
       "      <td>0.0</td>\n",
       "      <td>0.0</td>\n",
       "      <td>0.0</td>\n",
       "      <td>0.0</td>\n",
       "      <td>0.0</td>\n",
       "      <td>1.0</td>\n",
       "    </tr>\n",
       "    <tr>\n",
       "      <th>1</th>\n",
       "      <td>1.0</td>\n",
       "      <td>0.0</td>\n",
       "      <td>1.0</td>\n",
       "      <td>0.0</td>\n",
       "      <td>0.0</td>\n",
       "      <td>1.0</td>\n",
       "      <td>0.0</td>\n",
       "      <td>0.0</td>\n",
       "      <td>1.0</td>\n",
       "      <td>0.0</td>\n",
       "      <td>...</td>\n",
       "      <td>0.0</td>\n",
       "      <td>0.0</td>\n",
       "      <td>0.0</td>\n",
       "      <td>0.0</td>\n",
       "      <td>0.0</td>\n",
       "      <td>0.0</td>\n",
       "      <td>0.0</td>\n",
       "      <td>0.0</td>\n",
       "      <td>2.0</td>\n",
       "      <td>2.0</td>\n",
       "    </tr>\n",
       "    <tr>\n",
       "      <th>2</th>\n",
       "      <td>1.0</td>\n",
       "      <td>0.0</td>\n",
       "      <td>0.0</td>\n",
       "      <td>1.0</td>\n",
       "      <td>0.0</td>\n",
       "      <td>1.0</td>\n",
       "      <td>0.0</td>\n",
       "      <td>0.0</td>\n",
       "      <td>1.0</td>\n",
       "      <td>0.0</td>\n",
       "      <td>...</td>\n",
       "      <td>0.0</td>\n",
       "      <td>0.0</td>\n",
       "      <td>0.0</td>\n",
       "      <td>0.0</td>\n",
       "      <td>0.0</td>\n",
       "      <td>0.0</td>\n",
       "      <td>0.0</td>\n",
       "      <td>2.0</td>\n",
       "      <td>0.0</td>\n",
       "      <td>4.0</td>\n",
       "    </tr>\n",
       "    <tr>\n",
       "      <th>3</th>\n",
       "      <td>1.0</td>\n",
       "      <td>0.0</td>\n",
       "      <td>1.0</td>\n",
       "      <td>0.0</td>\n",
       "      <td>0.0</td>\n",
       "      <td>1.0</td>\n",
       "      <td>0.0</td>\n",
       "      <td>1.0</td>\n",
       "      <td>0.0</td>\n",
       "      <td>0.0</td>\n",
       "      <td>...</td>\n",
       "      <td>0.0</td>\n",
       "      <td>0.0</td>\n",
       "      <td>0.0</td>\n",
       "      <td>0.0</td>\n",
       "      <td>0.0</td>\n",
       "      <td>0.0</td>\n",
       "      <td>0.0</td>\n",
       "      <td>0.0</td>\n",
       "      <td>0.0</td>\n",
       "      <td>2.0</td>\n",
       "    </tr>\n",
       "    <tr>\n",
       "      <th>4</th>\n",
       "      <td>1.0</td>\n",
       "      <td>0.0</td>\n",
       "      <td>1.0</td>\n",
       "      <td>0.0</td>\n",
       "      <td>0.0</td>\n",
       "      <td>1.0</td>\n",
       "      <td>0.0</td>\n",
       "      <td>0.0</td>\n",
       "      <td>1.0</td>\n",
       "      <td>0.0</td>\n",
       "      <td>...</td>\n",
       "      <td>0.0</td>\n",
       "      <td>0.0</td>\n",
       "      <td>0.0</td>\n",
       "      <td>0.0</td>\n",
       "      <td>0.0</td>\n",
       "      <td>0.0</td>\n",
       "      <td>0.0</td>\n",
       "      <td>0.0</td>\n",
       "      <td>0.0</td>\n",
       "      <td>0.0</td>\n",
       "    </tr>\n",
       "  </tbody>\n",
       "</table>\n",
       "<p>5 rows × 186 columns</p>\n",
       "</div>"
      ],
      "text/plain": [
       "   NAME_CONTRACT_TYPE: Cash loans  NAME_CONTRACT_TYPE: Revolving loans  \\\n",
       "0                             1.0                                  0.0   \n",
       "1                             1.0                                  0.0   \n",
       "2                             1.0                                  0.0   \n",
       "3                             1.0                                  0.0   \n",
       "4                             1.0                                  0.0   \n",
       "\n",
       "   CODE_GENDER: F  CODE_GENDER: M  CODE_GENDER: XNA  FLAG_OWN_CAR: N  \\\n",
       "0             0.0             1.0               0.0              1.0   \n",
       "1             1.0             0.0               0.0              1.0   \n",
       "2             0.0             1.0               0.0              1.0   \n",
       "3             1.0             0.0               0.0              1.0   \n",
       "4             1.0             0.0               0.0              1.0   \n",
       "\n",
       "   FLAG_OWN_CAR: Y  FLAG_OWN_REALTY: N  FLAG_OWN_REALTY: Y  \\\n",
       "0              0.0                 0.0                 1.0   \n",
       "1              0.0                 0.0                 1.0   \n",
       "2              0.0                 0.0                 1.0   \n",
       "3              0.0                 1.0                 0.0   \n",
       "4              0.0                 0.0                 1.0   \n",
       "\n",
       "   NAME_TYPE_SUITE: Children  ...  FLAG_DOCUMENT_18  FLAG_DOCUMENT_19  \\\n",
       "0                        0.0  ...               0.0               0.0   \n",
       "1                        0.0  ...               0.0               0.0   \n",
       "2                        0.0  ...               0.0               0.0   \n",
       "3                        0.0  ...               0.0               0.0   \n",
       "4                        0.0  ...               0.0               0.0   \n",
       "\n",
       "   FLAG_DOCUMENT_20  FLAG_DOCUMENT_21  AMT_REQ_CREDIT_BUREAU_HOUR  \\\n",
       "0               0.0               0.0                         0.0   \n",
       "1               0.0               0.0                         0.0   \n",
       "2               0.0               0.0                         0.0   \n",
       "3               0.0               0.0                         0.0   \n",
       "4               0.0               0.0                         0.0   \n",
       "\n",
       "   AMT_REQ_CREDIT_BUREAU_DAY  AMT_REQ_CREDIT_BUREAU_WEEK  \\\n",
       "0                        0.0                         0.0   \n",
       "1                        0.0                         0.0   \n",
       "2                        0.0                         0.0   \n",
       "3                        0.0                         0.0   \n",
       "4                        0.0                         0.0   \n",
       "\n",
       "   AMT_REQ_CREDIT_BUREAU_MON  AMT_REQ_CREDIT_BUREAU_QRT  \\\n",
       "0                        0.0                        0.0   \n",
       "1                        0.0                        2.0   \n",
       "2                        2.0                        0.0   \n",
       "3                        0.0                        0.0   \n",
       "4                        0.0                        0.0   \n",
       "\n",
       "   AMT_REQ_CREDIT_BUREAU_YEAR  \n",
       "0                         1.0  \n",
       "1                         2.0  \n",
       "2                         4.0  \n",
       "3                         2.0  \n",
       "4                         0.0  \n",
       "\n",
       "[5 rows x 186 columns]"
      ]
     },
     "execution_count": 5,
     "metadata": {},
     "output_type": "execute_result"
    }
   ],
   "source": [
    "feature = loan.drop(['Target','Unnamed: 0'], 1)\n",
    "feature.head()"
   ]
  },
  {
   "cell_type": "code",
   "execution_count": 6,
   "id": "e1b44941",
   "metadata": {},
   "outputs": [
    {
     "data": {
      "text/html": [
       "<div>\n",
       "<style scoped>\n",
       "    .dataframe tbody tr th:only-of-type {\n",
       "        vertical-align: middle;\n",
       "    }\n",
       "\n",
       "    .dataframe tbody tr th {\n",
       "        vertical-align: top;\n",
       "    }\n",
       "\n",
       "    .dataframe thead th {\n",
       "        text-align: right;\n",
       "    }\n",
       "</style>\n",
       "<table border=\"1\" class=\"dataframe\">\n",
       "  <thead>\n",
       "    <tr style=\"text-align: right;\">\n",
       "      <th></th>\n",
       "      <th>Target</th>\n",
       "    </tr>\n",
       "  </thead>\n",
       "  <tbody>\n",
       "    <tr>\n",
       "      <th>0</th>\n",
       "      <td>1</td>\n",
       "    </tr>\n",
       "    <tr>\n",
       "      <th>1</th>\n",
       "      <td>1</td>\n",
       "    </tr>\n",
       "    <tr>\n",
       "      <th>2</th>\n",
       "      <td>1</td>\n",
       "    </tr>\n",
       "    <tr>\n",
       "      <th>3</th>\n",
       "      <td>1</td>\n",
       "    </tr>\n",
       "    <tr>\n",
       "      <th>4</th>\n",
       "      <td>1</td>\n",
       "    </tr>\n",
       "  </tbody>\n",
       "</table>\n",
       "</div>"
      ],
      "text/plain": [
       "   Target\n",
       "0       1\n",
       "1       1\n",
       "2       1\n",
       "3       1\n",
       "4       1"
      ]
     },
     "execution_count": 6,
     "metadata": {},
     "output_type": "execute_result"
    }
   ],
   "source": [
    "target = loan[['Target']]\n",
    "target.head()"
   ]
  },
  {
   "cell_type": "code",
   "execution_count": 7,
   "id": "c7e388d6",
   "metadata": {},
   "outputs": [
    {
     "data": {
      "text/plain": [
       "(37237, 12413)"
      ]
     },
     "execution_count": 7,
     "metadata": {},
     "output_type": "execute_result"
    }
   ],
   "source": [
    "train_X, test_X, train_y, test_y = train_test_split(feature, target, random_state = 42)\n",
    "len(train_X), len(test_X)"
   ]
  },
  {
   "cell_type": "code",
   "execution_count": 8,
   "id": "7c1638ff",
   "metadata": {},
   "outputs": [
    {
     "name": "stderr",
     "output_type": "stream",
     "text": [
      "/opt/anaconda3/lib/python3.8/site-packages/xgboost/sklearn.py:1224: UserWarning: The use of label encoder in XGBClassifier is deprecated and will be removed in a future release. To remove this warning, do the following: 1) Pass option use_label_encoder=False when constructing XGBClassifier object; and 2) Encode your labels (y) as integers starting with 0, i.e. 0, 1, 2, ..., [num_class - 1].\n",
      "  warnings.warn(label_encoder_deprecation_msg, UserWarning)\n",
      "/opt/anaconda3/lib/python3.8/site-packages/sklearn/preprocessing/_label.py:98: DataConversionWarning: A column-vector y was passed when a 1d array was expected. Please change the shape of y to (n_samples, ), for example using ravel().\n",
      "  y = column_or_1d(y, warn=True)\n",
      "/opt/anaconda3/lib/python3.8/site-packages/sklearn/preprocessing/_label.py:133: DataConversionWarning: A column-vector y was passed when a 1d array was expected. Please change the shape of y to (n_samples, ), for example using ravel().\n",
      "  y = column_or_1d(y, warn=True)\n"
     ]
    },
    {
     "name": "stdout",
     "output_type": "stream",
     "text": [
      "[16:21:09] WARNING: /Users/runner/miniforge3/conda-bld/xgboost-split_1637426408905/work/src/learner.cc:1115: Starting in XGBoost 1.3.0, the default evaluation metric used with the objective 'binary:logistic' was changed from 'error' to 'logloss'. Explicitly set eval_metric if you'd like to restore the old behavior.\n"
     ]
    }
   ],
   "source": [
    "model = model.fit(train_X, train_y)"
   ]
  },
  {
   "cell_type": "code",
   "execution_count": 9,
   "id": "c715f679",
   "metadata": {},
   "outputs": [],
   "source": [
    "pred_test_y = model.predict(test_X)"
   ]
  },
  {
   "cell_type": "code",
   "execution_count": 10,
   "id": "2b9a2be3",
   "metadata": {},
   "outputs": [
    {
     "data": {
      "text/plain": [
       "0.6792878433899944"
      ]
     },
     "execution_count": 10,
     "metadata": {},
     "output_type": "execute_result"
    }
   ],
   "source": [
    "accuracy_score(pred_test_y, test_y)"
   ]
  },
  {
   "cell_type": "code",
   "execution_count": 15,
   "id": "79a335ca",
   "metadata": {},
   "outputs": [
    {
     "data": {
      "text/plain": [
       "12413"
      ]
     },
     "execution_count": 15,
     "metadata": {},
     "output_type": "execute_result"
    }
   ],
   "source": [
    "len(pred_test_y)"
   ]
  },
  {
   "cell_type": "code",
   "execution_count": 16,
   "id": "29e68318",
   "metadata": {},
   "outputs": [
    {
     "data": {
      "text/plain": [
       "6278"
      ]
     },
     "execution_count": 16,
     "metadata": {},
     "output_type": "execute_result"
    }
   ],
   "source": [
    "pred_test_y.sum()"
   ]
  },
  {
   "cell_type": "code",
   "execution_count": 17,
   "id": "8dbe9c7b",
   "metadata": {},
   "outputs": [
    {
     "data": {
      "text/html": [
       "<div>\n",
       "<style scoped>\n",
       "    .dataframe tbody tr th:only-of-type {\n",
       "        vertical-align: middle;\n",
       "    }\n",
       "\n",
       "    .dataframe tbody tr th {\n",
       "        vertical-align: top;\n",
       "    }\n",
       "\n",
       "    .dataframe thead th {\n",
       "        text-align: right;\n",
       "    }\n",
       "</style>\n",
       "<table border=\"1\" class=\"dataframe\">\n",
       "  <thead>\n",
       "    <tr style=\"text-align: right;\">\n",
       "      <th></th>\n",
       "      <th>NAME_CONTRACT_TYPE: Cash loans</th>\n",
       "      <th>NAME_CONTRACT_TYPE: Revolving loans</th>\n",
       "      <th>CODE_GENDER: F</th>\n",
       "      <th>CODE_GENDER: M</th>\n",
       "      <th>CODE_GENDER: XNA</th>\n",
       "      <th>FLAG_OWN_CAR: N</th>\n",
       "      <th>FLAG_OWN_CAR: Y</th>\n",
       "      <th>FLAG_OWN_REALTY: N</th>\n",
       "      <th>FLAG_OWN_REALTY: Y</th>\n",
       "      <th>NAME_TYPE_SUITE: Children</th>\n",
       "      <th>...</th>\n",
       "      <th>FLAG_DOCUMENT_18</th>\n",
       "      <th>FLAG_DOCUMENT_19</th>\n",
       "      <th>FLAG_DOCUMENT_20</th>\n",
       "      <th>FLAG_DOCUMENT_21</th>\n",
       "      <th>AMT_REQ_CREDIT_BUREAU_HOUR</th>\n",
       "      <th>AMT_REQ_CREDIT_BUREAU_DAY</th>\n",
       "      <th>AMT_REQ_CREDIT_BUREAU_WEEK</th>\n",
       "      <th>AMT_REQ_CREDIT_BUREAU_MON</th>\n",
       "      <th>AMT_REQ_CREDIT_BUREAU_QRT</th>\n",
       "      <th>AMT_REQ_CREDIT_BUREAU_YEAR</th>\n",
       "    </tr>\n",
       "  </thead>\n",
       "  <tbody>\n",
       "    <tr>\n",
       "      <th>5048</th>\n",
       "      <td>1.0</td>\n",
       "      <td>0.0</td>\n",
       "      <td>1.0</td>\n",
       "      <td>0.0</td>\n",
       "      <td>0.0</td>\n",
       "      <td>0.0</td>\n",
       "      <td>1.0</td>\n",
       "      <td>0.0</td>\n",
       "      <td>1.0</td>\n",
       "      <td>0.0</td>\n",
       "      <td>...</td>\n",
       "      <td>0.0</td>\n",
       "      <td>0.0</td>\n",
       "      <td>0.0</td>\n",
       "      <td>0.0</td>\n",
       "      <td>0.0</td>\n",
       "      <td>0.0</td>\n",
       "      <td>0.0</td>\n",
       "      <td>0.0</td>\n",
       "      <td>0.0</td>\n",
       "      <td>2.0</td>\n",
       "    </tr>\n",
       "    <tr>\n",
       "      <th>21895</th>\n",
       "      <td>1.0</td>\n",
       "      <td>0.0</td>\n",
       "      <td>0.0</td>\n",
       "      <td>1.0</td>\n",
       "      <td>0.0</td>\n",
       "      <td>1.0</td>\n",
       "      <td>0.0</td>\n",
       "      <td>1.0</td>\n",
       "      <td>0.0</td>\n",
       "      <td>0.0</td>\n",
       "      <td>...</td>\n",
       "      <td>0.0</td>\n",
       "      <td>0.0</td>\n",
       "      <td>0.0</td>\n",
       "      <td>0.0</td>\n",
       "      <td>0.0</td>\n",
       "      <td>0.0</td>\n",
       "      <td>0.0</td>\n",
       "      <td>0.0</td>\n",
       "      <td>0.0</td>\n",
       "      <td>3.0</td>\n",
       "    </tr>\n",
       "    <tr>\n",
       "      <th>12005</th>\n",
       "      <td>1.0</td>\n",
       "      <td>0.0</td>\n",
       "      <td>1.0</td>\n",
       "      <td>0.0</td>\n",
       "      <td>0.0</td>\n",
       "      <td>1.0</td>\n",
       "      <td>0.0</td>\n",
       "      <td>0.0</td>\n",
       "      <td>1.0</td>\n",
       "      <td>0.0</td>\n",
       "      <td>...</td>\n",
       "      <td>0.0</td>\n",
       "      <td>0.0</td>\n",
       "      <td>0.0</td>\n",
       "      <td>0.0</td>\n",
       "      <td>0.0</td>\n",
       "      <td>0.0</td>\n",
       "      <td>0.0</td>\n",
       "      <td>0.0</td>\n",
       "      <td>0.0</td>\n",
       "      <td>0.0</td>\n",
       "    </tr>\n",
       "    <tr>\n",
       "      <th>5762</th>\n",
       "      <td>0.0</td>\n",
       "      <td>1.0</td>\n",
       "      <td>0.0</td>\n",
       "      <td>1.0</td>\n",
       "      <td>0.0</td>\n",
       "      <td>1.0</td>\n",
       "      <td>0.0</td>\n",
       "      <td>0.0</td>\n",
       "      <td>1.0</td>\n",
       "      <td>0.0</td>\n",
       "      <td>...</td>\n",
       "      <td>0.0</td>\n",
       "      <td>0.0</td>\n",
       "      <td>0.0</td>\n",
       "      <td>0.0</td>\n",
       "      <td>0.0</td>\n",
       "      <td>0.0</td>\n",
       "      <td>0.0</td>\n",
       "      <td>0.0</td>\n",
       "      <td>0.0</td>\n",
       "      <td>3.0</td>\n",
       "    </tr>\n",
       "    <tr>\n",
       "      <th>4579</th>\n",
       "      <td>1.0</td>\n",
       "      <td>0.0</td>\n",
       "      <td>1.0</td>\n",
       "      <td>0.0</td>\n",
       "      <td>0.0</td>\n",
       "      <td>1.0</td>\n",
       "      <td>0.0</td>\n",
       "      <td>0.0</td>\n",
       "      <td>1.0</td>\n",
       "      <td>0.0</td>\n",
       "      <td>...</td>\n",
       "      <td>0.0</td>\n",
       "      <td>0.0</td>\n",
       "      <td>0.0</td>\n",
       "      <td>0.0</td>\n",
       "      <td>0.0</td>\n",
       "      <td>0.0</td>\n",
       "      <td>0.0</td>\n",
       "      <td>0.0</td>\n",
       "      <td>0.0</td>\n",
       "      <td>0.0</td>\n",
       "    </tr>\n",
       "    <tr>\n",
       "      <th>...</th>\n",
       "      <td>...</td>\n",
       "      <td>...</td>\n",
       "      <td>...</td>\n",
       "      <td>...</td>\n",
       "      <td>...</td>\n",
       "      <td>...</td>\n",
       "      <td>...</td>\n",
       "      <td>...</td>\n",
       "      <td>...</td>\n",
       "      <td>...</td>\n",
       "      <td>...</td>\n",
       "      <td>...</td>\n",
       "      <td>...</td>\n",
       "      <td>...</td>\n",
       "      <td>...</td>\n",
       "      <td>...</td>\n",
       "      <td>...</td>\n",
       "      <td>...</td>\n",
       "      <td>...</td>\n",
       "      <td>...</td>\n",
       "      <td>...</td>\n",
       "    </tr>\n",
       "    <tr>\n",
       "      <th>20048</th>\n",
       "      <td>1.0</td>\n",
       "      <td>0.0</td>\n",
       "      <td>0.0</td>\n",
       "      <td>1.0</td>\n",
       "      <td>0.0</td>\n",
       "      <td>0.0</td>\n",
       "      <td>1.0</td>\n",
       "      <td>0.0</td>\n",
       "      <td>1.0</td>\n",
       "      <td>0.0</td>\n",
       "      <td>...</td>\n",
       "      <td>0.0</td>\n",
       "      <td>0.0</td>\n",
       "      <td>0.0</td>\n",
       "      <td>0.0</td>\n",
       "      <td>0.0</td>\n",
       "      <td>0.0</td>\n",
       "      <td>0.0</td>\n",
       "      <td>0.0</td>\n",
       "      <td>0.0</td>\n",
       "      <td>0.0</td>\n",
       "    </tr>\n",
       "    <tr>\n",
       "      <th>33195</th>\n",
       "      <td>1.0</td>\n",
       "      <td>0.0</td>\n",
       "      <td>1.0</td>\n",
       "      <td>0.0</td>\n",
       "      <td>0.0</td>\n",
       "      <td>1.0</td>\n",
       "      <td>0.0</td>\n",
       "      <td>0.0</td>\n",
       "      <td>1.0</td>\n",
       "      <td>0.0</td>\n",
       "      <td>...</td>\n",
       "      <td>0.0</td>\n",
       "      <td>0.0</td>\n",
       "      <td>0.0</td>\n",
       "      <td>0.0</td>\n",
       "      <td>0.0</td>\n",
       "      <td>0.0</td>\n",
       "      <td>0.0</td>\n",
       "      <td>0.0</td>\n",
       "      <td>2.0</td>\n",
       "      <td>5.0</td>\n",
       "    </tr>\n",
       "    <tr>\n",
       "      <th>25503</th>\n",
       "      <td>1.0</td>\n",
       "      <td>0.0</td>\n",
       "      <td>0.0</td>\n",
       "      <td>1.0</td>\n",
       "      <td>0.0</td>\n",
       "      <td>0.0</td>\n",
       "      <td>1.0</td>\n",
       "      <td>1.0</td>\n",
       "      <td>0.0</td>\n",
       "      <td>0.0</td>\n",
       "      <td>...</td>\n",
       "      <td>0.0</td>\n",
       "      <td>0.0</td>\n",
       "      <td>0.0</td>\n",
       "      <td>0.0</td>\n",
       "      <td>0.0</td>\n",
       "      <td>0.0</td>\n",
       "      <td>0.0</td>\n",
       "      <td>0.0</td>\n",
       "      <td>0.0</td>\n",
       "      <td>0.0</td>\n",
       "    </tr>\n",
       "    <tr>\n",
       "      <th>29951</th>\n",
       "      <td>1.0</td>\n",
       "      <td>0.0</td>\n",
       "      <td>1.0</td>\n",
       "      <td>0.0</td>\n",
       "      <td>0.0</td>\n",
       "      <td>1.0</td>\n",
       "      <td>0.0</td>\n",
       "      <td>0.0</td>\n",
       "      <td>1.0</td>\n",
       "      <td>0.0</td>\n",
       "      <td>...</td>\n",
       "      <td>0.0</td>\n",
       "      <td>0.0</td>\n",
       "      <td>0.0</td>\n",
       "      <td>0.0</td>\n",
       "      <td>0.0</td>\n",
       "      <td>0.0</td>\n",
       "      <td>0.0</td>\n",
       "      <td>0.0</td>\n",
       "      <td>0.0</td>\n",
       "      <td>0.0</td>\n",
       "    </tr>\n",
       "    <tr>\n",
       "      <th>452</th>\n",
       "      <td>1.0</td>\n",
       "      <td>0.0</td>\n",
       "      <td>0.0</td>\n",
       "      <td>1.0</td>\n",
       "      <td>0.0</td>\n",
       "      <td>0.0</td>\n",
       "      <td>1.0</td>\n",
       "      <td>0.0</td>\n",
       "      <td>1.0</td>\n",
       "      <td>0.0</td>\n",
       "      <td>...</td>\n",
       "      <td>0.0</td>\n",
       "      <td>0.0</td>\n",
       "      <td>0.0</td>\n",
       "      <td>0.0</td>\n",
       "      <td>0.0</td>\n",
       "      <td>0.0</td>\n",
       "      <td>1.0</td>\n",
       "      <td>0.0</td>\n",
       "      <td>0.0</td>\n",
       "      <td>5.0</td>\n",
       "    </tr>\n",
       "  </tbody>\n",
       "</table>\n",
       "<p>12413 rows × 186 columns</p>\n",
       "</div>"
      ],
      "text/plain": [
       "       NAME_CONTRACT_TYPE: Cash loans  NAME_CONTRACT_TYPE: Revolving loans  \\\n",
       "5048                              1.0                                  0.0   \n",
       "21895                             1.0                                  0.0   \n",
       "12005                             1.0                                  0.0   \n",
       "5762                              0.0                                  1.0   \n",
       "4579                              1.0                                  0.0   \n",
       "...                               ...                                  ...   \n",
       "20048                             1.0                                  0.0   \n",
       "33195                             1.0                                  0.0   \n",
       "25503                             1.0                                  0.0   \n",
       "29951                             1.0                                  0.0   \n",
       "452                               1.0                                  0.0   \n",
       "\n",
       "       CODE_GENDER: F  CODE_GENDER: M  CODE_GENDER: XNA  FLAG_OWN_CAR: N  \\\n",
       "5048              1.0             0.0               0.0              0.0   \n",
       "21895             0.0             1.0               0.0              1.0   \n",
       "12005             1.0             0.0               0.0              1.0   \n",
       "5762              0.0             1.0               0.0              1.0   \n",
       "4579              1.0             0.0               0.0              1.0   \n",
       "...               ...             ...               ...              ...   \n",
       "20048             0.0             1.0               0.0              0.0   \n",
       "33195             1.0             0.0               0.0              1.0   \n",
       "25503             0.0             1.0               0.0              0.0   \n",
       "29951             1.0             0.0               0.0              1.0   \n",
       "452               0.0             1.0               0.0              0.0   \n",
       "\n",
       "       FLAG_OWN_CAR: Y  FLAG_OWN_REALTY: N  FLAG_OWN_REALTY: Y  \\\n",
       "5048               1.0                 0.0                 1.0   \n",
       "21895              0.0                 1.0                 0.0   \n",
       "12005              0.0                 0.0                 1.0   \n",
       "5762               0.0                 0.0                 1.0   \n",
       "4579               0.0                 0.0                 1.0   \n",
       "...                ...                 ...                 ...   \n",
       "20048              1.0                 0.0                 1.0   \n",
       "33195              0.0                 0.0                 1.0   \n",
       "25503              1.0                 1.0                 0.0   \n",
       "29951              0.0                 0.0                 1.0   \n",
       "452                1.0                 0.0                 1.0   \n",
       "\n",
       "       NAME_TYPE_SUITE: Children  ...  FLAG_DOCUMENT_18  FLAG_DOCUMENT_19  \\\n",
       "5048                         0.0  ...               0.0               0.0   \n",
       "21895                        0.0  ...               0.0               0.0   \n",
       "12005                        0.0  ...               0.0               0.0   \n",
       "5762                         0.0  ...               0.0               0.0   \n",
       "4579                         0.0  ...               0.0               0.0   \n",
       "...                          ...  ...               ...               ...   \n",
       "20048                        0.0  ...               0.0               0.0   \n",
       "33195                        0.0  ...               0.0               0.0   \n",
       "25503                        0.0  ...               0.0               0.0   \n",
       "29951                        0.0  ...               0.0               0.0   \n",
       "452                          0.0  ...               0.0               0.0   \n",
       "\n",
       "       FLAG_DOCUMENT_20  FLAG_DOCUMENT_21  AMT_REQ_CREDIT_BUREAU_HOUR  \\\n",
       "5048                0.0               0.0                         0.0   \n",
       "21895               0.0               0.0                         0.0   \n",
       "12005               0.0               0.0                         0.0   \n",
       "5762                0.0               0.0                         0.0   \n",
       "4579                0.0               0.0                         0.0   \n",
       "...                 ...               ...                         ...   \n",
       "20048               0.0               0.0                         0.0   \n",
       "33195               0.0               0.0                         0.0   \n",
       "25503               0.0               0.0                         0.0   \n",
       "29951               0.0               0.0                         0.0   \n",
       "452                 0.0               0.0                         0.0   \n",
       "\n",
       "       AMT_REQ_CREDIT_BUREAU_DAY  AMT_REQ_CREDIT_BUREAU_WEEK  \\\n",
       "5048                         0.0                         0.0   \n",
       "21895                        0.0                         0.0   \n",
       "12005                        0.0                         0.0   \n",
       "5762                         0.0                         0.0   \n",
       "4579                         0.0                         0.0   \n",
       "...                          ...                         ...   \n",
       "20048                        0.0                         0.0   \n",
       "33195                        0.0                         0.0   \n",
       "25503                        0.0                         0.0   \n",
       "29951                        0.0                         0.0   \n",
       "452                          0.0                         1.0   \n",
       "\n",
       "       AMT_REQ_CREDIT_BUREAU_MON  AMT_REQ_CREDIT_BUREAU_QRT  \\\n",
       "5048                         0.0                        0.0   \n",
       "21895                        0.0                        0.0   \n",
       "12005                        0.0                        0.0   \n",
       "5762                         0.0                        0.0   \n",
       "4579                         0.0                        0.0   \n",
       "...                          ...                        ...   \n",
       "20048                        0.0                        0.0   \n",
       "33195                        0.0                        2.0   \n",
       "25503                        0.0                        0.0   \n",
       "29951                        0.0                        0.0   \n",
       "452                          0.0                        0.0   \n",
       "\n",
       "       AMT_REQ_CREDIT_BUREAU_YEAR  \n",
       "5048                          2.0  \n",
       "21895                         3.0  \n",
       "12005                         0.0  \n",
       "5762                          3.0  \n",
       "4579                          0.0  \n",
       "...                           ...  \n",
       "20048                         0.0  \n",
       "33195                         5.0  \n",
       "25503                         0.0  \n",
       "29951                         0.0  \n",
       "452                           5.0  \n",
       "\n",
       "[12413 rows x 186 columns]"
      ]
     },
     "execution_count": 17,
     "metadata": {},
     "output_type": "execute_result"
    }
   ],
   "source": [
    "test_X"
   ]
  },
  {
   "cell_type": "code",
   "execution_count": 18,
   "id": "2dbd2e99",
   "metadata": {},
   "outputs": [
    {
     "data": {
      "text/plain": [
       "array([0, 1, 0, ..., 1, 0, 1])"
      ]
     },
     "execution_count": 18,
     "metadata": {},
     "output_type": "execute_result"
    }
   ],
   "source": [
    "pred_test_y"
   ]
  },
  {
   "cell_type": "code",
   "execution_count": 19,
   "id": "9160cda0",
   "metadata": {},
   "outputs": [],
   "source": [
    "fairness_df = test_X.copy()"
   ]
  },
  {
   "cell_type": "code",
   "execution_count": 20,
   "id": "ed43dae5",
   "metadata": {},
   "outputs": [],
   "source": [
    "fairness_df['Predicted_Outcome'] = pred_test_y"
   ]
  },
  {
   "cell_type": "code",
   "execution_count": 21,
   "id": "ea2a9d55",
   "metadata": {},
   "outputs": [],
   "source": [
    "fairness_df['Actual_Outcome'] = test_y"
   ]
  },
  {
   "cell_type": "markdown",
   "id": "f74a968f",
   "metadata": {},
   "source": [
    "### Group Fairness: P(d =1|G = m) = P(d = 1|G = f ) ?\n",
    "male: 0.619\n",
    "female: 0.435"
   ]
  },
  {
   "cell_type": "markdown",
   "id": "60612f0c",
   "metadata": {},
   "source": [
    "#### Male"
   ]
  },
  {
   "cell_type": "code",
   "execution_count": 22,
   "id": "9a60dd51",
   "metadata": {},
   "outputs": [
    {
     "data": {
      "text/plain": [
       "4750"
      ]
     },
     "execution_count": 22,
     "metadata": {},
     "output_type": "execute_result"
    }
   ],
   "source": [
    "fairness_df[fairness_df['CODE_GENDER: F'] == 0].shape[0]"
   ]
  },
  {
   "cell_type": "code",
   "execution_count": 23,
   "id": "3493b152",
   "metadata": {},
   "outputs": [
    {
     "data": {
      "text/plain": [
       "2941"
      ]
     },
     "execution_count": 23,
     "metadata": {},
     "output_type": "execute_result"
    }
   ],
   "source": [
    "fairness_df[fairness_df['CODE_GENDER: F'] == 0]['Predicted_Outcome'].sum()"
   ]
  },
  {
   "cell_type": "code",
   "execution_count": 24,
   "id": "c447ba33",
   "metadata": {},
   "outputs": [
    {
     "data": {
      "text/plain": [
       "0.6191578947368421"
      ]
     },
     "execution_count": 24,
     "metadata": {},
     "output_type": "execute_result"
    }
   ],
   "source": [
    "fairness_df[fairness_df['CODE_GENDER: F'] == 0]['Predicted_Outcome'].sum() / fairness_df[fairness_df['CODE_GENDER: F'] == 0].shape[0]"
   ]
  },
  {
   "cell_type": "markdown",
   "id": "ca1257e5",
   "metadata": {},
   "source": [
    "#### Female"
   ]
  },
  {
   "cell_type": "code",
   "execution_count": 25,
   "id": "719e6460",
   "metadata": {},
   "outputs": [
    {
     "data": {
      "text/plain": [
       "7663"
      ]
     },
     "execution_count": 25,
     "metadata": {},
     "output_type": "execute_result"
    }
   ],
   "source": [
    "fairness_df[fairness_df['CODE_GENDER: F'] == 1].shape[0]"
   ]
  },
  {
   "cell_type": "code",
   "execution_count": 26,
   "id": "1f2e193f",
   "metadata": {},
   "outputs": [
    {
     "data": {
      "text/plain": [
       "3337"
      ]
     },
     "execution_count": 26,
     "metadata": {},
     "output_type": "execute_result"
    }
   ],
   "source": [
    "fairness_df[fairness_df['CODE_GENDER: F'] == 1]['Predicted_Outcome'].sum()"
   ]
  },
  {
   "cell_type": "code",
   "execution_count": 27,
   "id": "df29948a",
   "metadata": {},
   "outputs": [
    {
     "data": {
      "text/plain": [
       "0.4354691374135456"
      ]
     },
     "execution_count": 27,
     "metadata": {},
     "output_type": "execute_result"
    }
   ],
   "source": [
    "fairness_df[fairness_df['CODE_GENDER: F'] == 1]['Predicted_Outcome'].sum() / fairness_df[fairness_df['CODE_GENDER: F'] == 1].shape[0]"
   ]
  },
  {
   "cell_type": "markdown",
   "id": "c1ca0983",
   "metadata": {},
   "source": [
    "### Predictive parity \n",
    "male: 0.685\n",
    "female: 0.666"
   ]
  },
  {
   "cell_type": "markdown",
   "id": "67398904",
   "metadata": {},
   "source": [
    "#### Male"
   ]
  },
  {
   "cell_type": "code",
   "execution_count": 28,
   "id": "e0b33383",
   "metadata": {},
   "outputs": [
    {
     "name": "stderr",
     "output_type": "stream",
     "text": [
      "/var/folders/s5/ysjjjszj3jj4ydswlqm14w100000gn/T/ipykernel_43983/1449339335.py:1: UserWarning: Boolean Series key will be reindexed to match DataFrame index.\n",
      "  fairness_df[fairness_df['CODE_GENDER: F'] == 0][fairness_df['Predicted_Outcome'] == 1].shape[0]\n"
     ]
    },
    {
     "data": {
      "text/plain": [
       "2941"
      ]
     },
     "execution_count": 28,
     "metadata": {},
     "output_type": "execute_result"
    }
   ],
   "source": [
    "fairness_df[fairness_df['CODE_GENDER: F'] == 0][fairness_df['Predicted_Outcome'] == 1].shape[0]"
   ]
  },
  {
   "cell_type": "code",
   "execution_count": 29,
   "id": "cc0696c6",
   "metadata": {},
   "outputs": [
    {
     "name": "stderr",
     "output_type": "stream",
     "text": [
      "/var/folders/s5/ysjjjszj3jj4ydswlqm14w100000gn/T/ipykernel_43983/3875533690.py:1: UserWarning: Boolean Series key will be reindexed to match DataFrame index.\n",
      "  fairness_df[fairness_df['CODE_GENDER: F'] == 0][fairness_df['Predicted_Outcome'] == 1]['Actual_Outcome'].sum()\n"
     ]
    },
    {
     "data": {
      "text/plain": [
       "2016"
      ]
     },
     "execution_count": 29,
     "metadata": {},
     "output_type": "execute_result"
    }
   ],
   "source": [
    "fairness_df[fairness_df['CODE_GENDER: F'] == 0][fairness_df['Predicted_Outcome'] == 1]['Actual_Outcome'].sum()"
   ]
  },
  {
   "cell_type": "code",
   "execution_count": 30,
   "id": "3021a492",
   "metadata": {},
   "outputs": [
    {
     "name": "stderr",
     "output_type": "stream",
     "text": [
      "/var/folders/s5/ysjjjszj3jj4ydswlqm14w100000gn/T/ipykernel_43983/690816958.py:1: UserWarning: Boolean Series key will be reindexed to match DataFrame index.\n",
      "  fairness_df[fairness_df['CODE_GENDER: F'] == 0][fairness_df['Predicted_Outcome'] == 1]['Actual_Outcome'].sum() / fairness_df[fairness_df['CODE_GENDER: F'] == 0][fairness_df['Predicted_Outcome'] == 1].shape[0]\n"
     ]
    },
    {
     "data": {
      "text/plain": [
       "0.685481128867732"
      ]
     },
     "execution_count": 30,
     "metadata": {},
     "output_type": "execute_result"
    }
   ],
   "source": [
    "fairness_df[fairness_df['CODE_GENDER: F'] == 0][fairness_df['Predicted_Outcome'] == 1]['Actual_Outcome'].sum() / fairness_df[fairness_df['CODE_GENDER: F'] == 0][fairness_df['Predicted_Outcome'] == 1].shape[0]"
   ]
  },
  {
   "cell_type": "markdown",
   "id": "d4dff403",
   "metadata": {},
   "source": [
    "#### Female"
   ]
  },
  {
   "cell_type": "code",
   "execution_count": 31,
   "id": "54c3f20f",
   "metadata": {},
   "outputs": [
    {
     "name": "stderr",
     "output_type": "stream",
     "text": [
      "/var/folders/s5/ysjjjszj3jj4ydswlqm14w100000gn/T/ipykernel_43983/1027064750.py:1: UserWarning: Boolean Series key will be reindexed to match DataFrame index.\n",
      "  fairness_df[fairness_df['CODE_GENDER: F'] == 1][fairness_df['Predicted_Outcome'] == 1].shape[0]\n"
     ]
    },
    {
     "data": {
      "text/plain": [
       "3337"
      ]
     },
     "execution_count": 31,
     "metadata": {},
     "output_type": "execute_result"
    }
   ],
   "source": [
    "fairness_df[fairness_df['CODE_GENDER: F'] == 1][fairness_df['Predicted_Outcome'] == 1].shape[0]"
   ]
  },
  {
   "cell_type": "code",
   "execution_count": 32,
   "id": "c4d3841b",
   "metadata": {},
   "outputs": [
    {
     "name": "stderr",
     "output_type": "stream",
     "text": [
      "/var/folders/s5/ysjjjszj3jj4ydswlqm14w100000gn/T/ipykernel_43983/4192539009.py:1: UserWarning: Boolean Series key will be reindexed to match DataFrame index.\n",
      "  fairness_df[fairness_df['CODE_GENDER: F'] == 1][fairness_df['Predicted_Outcome'] == 1]['Actual_Outcome'].sum()\n"
     ]
    },
    {
     "data": {
      "text/plain": [
       "2221"
      ]
     },
     "execution_count": 32,
     "metadata": {},
     "output_type": "execute_result"
    }
   ],
   "source": [
    "fairness_df[fairness_df['CODE_GENDER: F'] == 1][fairness_df['Predicted_Outcome'] == 1]['Actual_Outcome'].sum()"
   ]
  },
  {
   "cell_type": "code",
   "execution_count": 33,
   "id": "36aab953",
   "metadata": {},
   "outputs": [
    {
     "name": "stderr",
     "output_type": "stream",
     "text": [
      "/var/folders/s5/ysjjjszj3jj4ydswlqm14w100000gn/T/ipykernel_43983/800225399.py:1: UserWarning: Boolean Series key will be reindexed to match DataFrame index.\n",
      "  fairness_df[fairness_df['CODE_GENDER: F'] == 1][fairness_df['Predicted_Outcome'] == 1]['Actual_Outcome'].sum() / fairness_df[fairness_df['CODE_GENDER: F'] == 1][fairness_df['Predicted_Outcome'] == 1].shape[0]\n"
     ]
    },
    {
     "data": {
      "text/plain": [
       "0.6655678753371291"
      ]
     },
     "execution_count": 33,
     "metadata": {},
     "output_type": "execute_result"
    }
   ],
   "source": [
    "fairness_df[fairness_df['CODE_GENDER: F'] == 1][fairness_df['Predicted_Outcome'] == 1]['Actual_Outcome'].sum() / fairness_df[fairness_df['CODE_GENDER: F'] == 1][fairness_df['Predicted_Outcome'] == 1].shape[0]"
   ]
  },
  {
   "cell_type": "markdown",
   "id": "ee1a719d",
   "metadata": {},
   "source": [
    "### False positive error rate balance\n",
    "male: 0.439\n",
    "female: 0.270"
   ]
  },
  {
   "cell_type": "markdown",
   "id": "db904267",
   "metadata": {},
   "source": [
    "#### Male"
   ]
  },
  {
   "cell_type": "code",
   "execution_count": 34,
   "id": "ee9a8bfa",
   "metadata": {},
   "outputs": [
    {
     "name": "stderr",
     "output_type": "stream",
     "text": [
      "/var/folders/s5/ysjjjszj3jj4ydswlqm14w100000gn/T/ipykernel_43983/3960245532.py:1: UserWarning: Boolean Series key will be reindexed to match DataFrame index.\n",
      "  fairness_df[fairness_df['CODE_GENDER: F'] == 0][fairness_df['Actual_Outcome'] == 0].shape[0]\n"
     ]
    },
    {
     "data": {
      "text/plain": [
       "2106"
      ]
     },
     "execution_count": 34,
     "metadata": {},
     "output_type": "execute_result"
    }
   ],
   "source": [
    "fairness_df[fairness_df['CODE_GENDER: F'] == 0][fairness_df['Actual_Outcome'] == 0].shape[0]"
   ]
  },
  {
   "cell_type": "code",
   "execution_count": 35,
   "id": "a407b3aa",
   "metadata": {},
   "outputs": [
    {
     "name": "stderr",
     "output_type": "stream",
     "text": [
      "/var/folders/s5/ysjjjszj3jj4ydswlqm14w100000gn/T/ipykernel_43983/693973679.py:1: UserWarning: Boolean Series key will be reindexed to match DataFrame index.\n",
      "  fairness_df[fairness_df['CODE_GENDER: F'] == 0][fairness_df['Actual_Outcome'] == 0]['Predicted_Outcome'].sum()\n"
     ]
    },
    {
     "data": {
      "text/plain": [
       "925"
      ]
     },
     "execution_count": 35,
     "metadata": {},
     "output_type": "execute_result"
    }
   ],
   "source": [
    "fairness_df[fairness_df['CODE_GENDER: F'] == 0][fairness_df['Actual_Outcome'] == 0]['Predicted_Outcome'].sum()"
   ]
  },
  {
   "cell_type": "code",
   "execution_count": 36,
   "id": "1ddab33f",
   "metadata": {},
   "outputs": [
    {
     "name": "stderr",
     "output_type": "stream",
     "text": [
      "/var/folders/s5/ysjjjszj3jj4ydswlqm14w100000gn/T/ipykernel_43983/728906368.py:1: UserWarning: Boolean Series key will be reindexed to match DataFrame index.\n",
      "  fairness_df[fairness_df['CODE_GENDER: F'] == 0][fairness_df['Actual_Outcome'] == 0]['Predicted_Outcome'].sum() / fairness_df[fairness_df['CODE_GENDER: F'] == 0][fairness_df['Actual_Outcome'] == 0].shape[0]\n"
     ]
    },
    {
     "data": {
      "text/plain": [
       "0.4392212725546059"
      ]
     },
     "execution_count": 36,
     "metadata": {},
     "output_type": "execute_result"
    }
   ],
   "source": [
    "fairness_df[fairness_df['CODE_GENDER: F'] == 0][fairness_df['Actual_Outcome'] == 0]['Predicted_Outcome'].sum() / fairness_df[fairness_df['CODE_GENDER: F'] == 0][fairness_df['Actual_Outcome'] == 0].shape[0]"
   ]
  },
  {
   "cell_type": "markdown",
   "id": "05fa35b1",
   "metadata": {},
   "source": [
    "#### Female"
   ]
  },
  {
   "cell_type": "code",
   "execution_count": 38,
   "id": "94114ea4",
   "metadata": {},
   "outputs": [
    {
     "name": "stderr",
     "output_type": "stream",
     "text": [
      "/var/folders/s5/ysjjjszj3jj4ydswlqm14w100000gn/T/ipykernel_43983/2992648255.py:1: UserWarning: Boolean Series key will be reindexed to match DataFrame index.\n",
      "  fairness_df[fairness_df['CODE_GENDER: F'] == 1][fairness_df['Actual_Outcome'] == 0].shape[0]\n"
     ]
    },
    {
     "data": {
      "text/plain": [
       "4130"
      ]
     },
     "execution_count": 38,
     "metadata": {},
     "output_type": "execute_result"
    }
   ],
   "source": [
    "fairness_df[fairness_df['CODE_GENDER: F'] == 1][fairness_df['Actual_Outcome'] == 0].shape[0]"
   ]
  },
  {
   "cell_type": "code",
   "execution_count": 39,
   "id": "7ad0bff1",
   "metadata": {},
   "outputs": [
    {
     "name": "stderr",
     "output_type": "stream",
     "text": [
      "/var/folders/s5/ysjjjszj3jj4ydswlqm14w100000gn/T/ipykernel_43983/4129911047.py:1: UserWarning: Boolean Series key will be reindexed to match DataFrame index.\n",
      "  fairness_df[fairness_df['CODE_GENDER: F'] == 1][fairness_df['Actual_Outcome'] == 0]['Predicted_Outcome'].sum()\n"
     ]
    },
    {
     "data": {
      "text/plain": [
       "1116"
      ]
     },
     "execution_count": 39,
     "metadata": {},
     "output_type": "execute_result"
    }
   ],
   "source": [
    "fairness_df[fairness_df['CODE_GENDER: F'] == 1][fairness_df['Actual_Outcome'] == 0]['Predicted_Outcome'].sum()"
   ]
  },
  {
   "cell_type": "code",
   "execution_count": 40,
   "id": "aeff339b",
   "metadata": {},
   "outputs": [
    {
     "name": "stderr",
     "output_type": "stream",
     "text": [
      "/var/folders/s5/ysjjjszj3jj4ydswlqm14w100000gn/T/ipykernel_43983/4159237907.py:1: UserWarning: Boolean Series key will be reindexed to match DataFrame index.\n",
      "  fairness_df[fairness_df['CODE_GENDER: F'] == 1][fairness_df['Actual_Outcome'] == 0]['Predicted_Outcome'].sum() / fairness_df[fairness_df['CODE_GENDER: F'] == 1][fairness_df['Actual_Outcome'] == 0].shape[0]\n"
     ]
    },
    {
     "data": {
      "text/plain": [
       "0.2702179176755448"
      ]
     },
     "execution_count": 40,
     "metadata": {},
     "output_type": "execute_result"
    }
   ],
   "source": [
    "fairness_df[fairness_df['CODE_GENDER: F'] == 1][fairness_df['Actual_Outcome'] == 0]['Predicted_Outcome'].sum() / fairness_df[fairness_df['CODE_GENDER: F'] == 1][fairness_df['Actual_Outcome'] == 0].shape[0]"
   ]
  },
  {
   "cell_type": "markdown",
   "id": "fe3c748e",
   "metadata": {},
   "source": [
    "### False negative error rate balance\n",
    "male: 0.238\n",
    "female: 0.371"
   ]
  },
  {
   "cell_type": "markdown",
   "id": "6186ca85",
   "metadata": {},
   "source": [
    "#### Male"
   ]
  },
  {
   "cell_type": "code",
   "execution_count": 41,
   "id": "a29b1310",
   "metadata": {},
   "outputs": [
    {
     "name": "stderr",
     "output_type": "stream",
     "text": [
      "/var/folders/s5/ysjjjszj3jj4ydswlqm14w100000gn/T/ipykernel_43983/3742540341.py:1: UserWarning: Boolean Series key will be reindexed to match DataFrame index.\n",
      "  fairness_df[fairness_df['CODE_GENDER: F'] == 0][fairness_df['Actual_Outcome'] == 1].shape[0]\n"
     ]
    },
    {
     "data": {
      "text/plain": [
       "2644"
      ]
     },
     "execution_count": 41,
     "metadata": {},
     "output_type": "execute_result"
    }
   ],
   "source": [
    "fairness_df[fairness_df['CODE_GENDER: F'] == 0][fairness_df['Actual_Outcome'] == 1].shape[0]"
   ]
  },
  {
   "cell_type": "code",
   "execution_count": 42,
   "id": "5899d1a5",
   "metadata": {},
   "outputs": [
    {
     "name": "stderr",
     "output_type": "stream",
     "text": [
      "/var/folders/s5/ysjjjszj3jj4ydswlqm14w100000gn/T/ipykernel_43983/1401204395.py:1: UserWarning: Boolean Series key will be reindexed to match DataFrame index.\n",
      "  fairness_df[fairness_df['CODE_GENDER: F'] == 0][fairness_df['Actual_Outcome'] == 1]['Predicted_Outcome'].sum()\n"
     ]
    },
    {
     "data": {
      "text/plain": [
       "2016"
      ]
     },
     "execution_count": 42,
     "metadata": {},
     "output_type": "execute_result"
    }
   ],
   "source": [
    "fairness_df[fairness_df['CODE_GENDER: F'] == 0][fairness_df['Actual_Outcome'] == 1]['Predicted_Outcome'].sum()"
   ]
  },
  {
   "cell_type": "code",
   "execution_count": 43,
   "id": "17591c4f",
   "metadata": {},
   "outputs": [
    {
     "name": "stderr",
     "output_type": "stream",
     "text": [
      "/var/folders/s5/ysjjjszj3jj4ydswlqm14w100000gn/T/ipykernel_43983/2386687984.py:1: UserWarning: Boolean Series key will be reindexed to match DataFrame index.\n",
      "  (fairness_df[fairness_df['CODE_GENDER: F'] == 0][fairness_df['Actual_Outcome'] == 1].shape[0] - fairness_df[fairness_df['CODE_GENDER: F'] == 0][fairness_df['Actual_Outcome'] == 1]['Predicted_Outcome'].sum()) / fairness_df[fairness_df['CODE_GENDER: F'] == 0][fairness_df['Actual_Outcome'] == 1].shape[0]\n"
     ]
    },
    {
     "data": {
      "text/plain": [
       "0.23751891074130105"
      ]
     },
     "execution_count": 43,
     "metadata": {},
     "output_type": "execute_result"
    }
   ],
   "source": [
    "(fairness_df[fairness_df['CODE_GENDER: F'] == 0][fairness_df['Actual_Outcome'] == 1].shape[0] - fairness_df[fairness_df['CODE_GENDER: F'] == 0][fairness_df['Actual_Outcome'] == 1]['Predicted_Outcome'].sum()) / fairness_df[fairness_df['CODE_GENDER: F'] == 0][fairness_df['Actual_Outcome'] == 1].shape[0]"
   ]
  },
  {
   "cell_type": "markdown",
   "id": "a3955074",
   "metadata": {},
   "source": [
    "#### Female"
   ]
  },
  {
   "cell_type": "code",
   "execution_count": 44,
   "id": "bfe88fe6",
   "metadata": {},
   "outputs": [
    {
     "name": "stderr",
     "output_type": "stream",
     "text": [
      "/var/folders/s5/ysjjjszj3jj4ydswlqm14w100000gn/T/ipykernel_43983/4159985694.py:1: UserWarning: Boolean Series key will be reindexed to match DataFrame index.\n",
      "  fairness_df[fairness_df['CODE_GENDER: F'] == 1][fairness_df['Actual_Outcome'] == 1].shape[0]\n"
     ]
    },
    {
     "data": {
      "text/plain": [
       "3533"
      ]
     },
     "execution_count": 44,
     "metadata": {},
     "output_type": "execute_result"
    }
   ],
   "source": [
    "fairness_df[fairness_df['CODE_GENDER: F'] == 1][fairness_df['Actual_Outcome'] == 1].shape[0]"
   ]
  },
  {
   "cell_type": "code",
   "execution_count": 45,
   "id": "5ee345e5",
   "metadata": {},
   "outputs": [
    {
     "name": "stderr",
     "output_type": "stream",
     "text": [
      "/var/folders/s5/ysjjjszj3jj4ydswlqm14w100000gn/T/ipykernel_43983/2924199577.py:1: UserWarning: Boolean Series key will be reindexed to match DataFrame index.\n",
      "  fairness_df[fairness_df['CODE_GENDER: F'] == 1][fairness_df['Actual_Outcome'] == 1]['Predicted_Outcome'].sum()\n"
     ]
    },
    {
     "data": {
      "text/plain": [
       "2221"
      ]
     },
     "execution_count": 45,
     "metadata": {},
     "output_type": "execute_result"
    }
   ],
   "source": [
    "fairness_df[fairness_df['CODE_GENDER: F'] == 1][fairness_df['Actual_Outcome'] == 1]['Predicted_Outcome'].sum()"
   ]
  },
  {
   "cell_type": "code",
   "execution_count": 46,
   "id": "016104b4",
   "metadata": {},
   "outputs": [
    {
     "name": "stderr",
     "output_type": "stream",
     "text": [
      "/var/folders/s5/ysjjjszj3jj4ydswlqm14w100000gn/T/ipykernel_43983/4060409790.py:1: UserWarning: Boolean Series key will be reindexed to match DataFrame index.\n",
      "  (fairness_df[fairness_df['CODE_GENDER: F'] == 1][fairness_df['Actual_Outcome'] == 1].shape[0] - fairness_df[fairness_df['CODE_GENDER: F'] == 1][fairness_df['Actual_Outcome'] == 1]['Predicted_Outcome'].sum()) / fairness_df[fairness_df['CODE_GENDER: F'] == 1][fairness_df['Actual_Outcome'] == 1].shape[0]\n"
     ]
    },
    {
     "data": {
      "text/plain": [
       "0.3713557882819134"
      ]
     },
     "execution_count": 46,
     "metadata": {},
     "output_type": "execute_result"
    }
   ],
   "source": [
    "(fairness_df[fairness_df['CODE_GENDER: F'] == 1][fairness_df['Actual_Outcome'] == 1].shape[0] - fairness_df[fairness_df['CODE_GENDER: F'] == 1][fairness_df['Actual_Outcome'] == 1]['Predicted_Outcome'].sum()) / fairness_df[fairness_df['CODE_GENDER: F'] == 1][fairness_df['Actual_Outcome'] == 1].shape[0]"
   ]
  },
  {
   "cell_type": "code",
   "execution_count": null,
   "id": "78a248c9",
   "metadata": {},
   "outputs": [],
   "source": []
  }
 ],
 "metadata": {
  "kernelspec": {
   "display_name": "Python 3 (ipykernel)",
   "language": "python",
   "name": "python3"
  },
  "language_info": {
   "codemirror_mode": {
    "name": "ipython",
    "version": 3
   },
   "file_extension": ".py",
   "mimetype": "text/x-python",
   "name": "python",
   "nbconvert_exporter": "python",
   "pygments_lexer": "ipython3",
   "version": "3.8.12"
  }
 },
 "nbformat": 4,
 "nbformat_minor": 5
}
