{
 "cells": [
  {
   "cell_type": "code",
   "execution_count": 109,
   "id": "584f0deb",
   "metadata": {},
   "outputs": [],
   "source": [
    "import pandas as pd\n",
    "import numpy as np\n",
    "from sklearn.preprocessing import OneHotEncoder"
   ]
  },
  {
   "cell_type": "code",
   "execution_count": 225,
   "id": "1f966002",
   "metadata": {},
   "outputs": [],
   "source": [
    "loan = pd.read_csv('application_data.csv')"
   ]
  },
  {
   "cell_type": "code",
   "execution_count": 226,
   "id": "376aa11e",
   "metadata": {},
   "outputs": [
    {
     "data": {
      "text/plain": [
       "(307511, 122)"
      ]
     },
     "execution_count": 226,
     "metadata": {},
     "output_type": "execute_result"
    }
   ],
   "source": [
    "loan.shape"
   ]
  },
  {
   "cell_type": "markdown",
   "id": "b178afdb",
   "metadata": {},
   "source": [
    "### Drop the columns that have > 35% missing values and are not relevant to our classification task."
   ]
  },
  {
   "cell_type": "code",
   "execution_count": 227,
   "id": "293cde66",
   "metadata": {},
   "outputs": [],
   "source": [
    "loan = loan.drop(['OWN_CAR_AGE','EXT_SOURCE_1','APARTMENTS_AVG','BASEMENTAREA_AVG','YEARS_BEGINEXPLUATATION_AVG','YEARS_BUILD_AVG','COMMONAREA_AVG','ELEVATORS_AVG','ENTRANCES_AVG','FLOORSMAX_AVG','FLOORSMIN_AVG','LANDAREA_AVG','LIVINGAPARTMENTS_AVG','LIVINGAREA_AVG','NONLIVINGAPARTMENTS_AVG','NONLIVINGAREA_AVG','APARTMENTS_MODE','BASEMENTAREA_MODE','YEARS_BEGINEXPLUATATION_MODE','YEARS_BUILD_MODE','COMMONAREA_MODE','ELEVATORS_MODE','ENTRANCES_MODE','FLOORSMAX_MODE','FLOORSMIN_MODE','LANDAREA_MODE','LIVINGAPARTMENTS_MODE','LIVINGAREA_MODE','NONLIVINGAPARTMENTS_MODE','NONLIVINGAREA_MODE','APARTMENTS_MEDI','BASEMENTAREA_MEDI','YEARS_BEGINEXPLUATATION_MEDI','YEARS_BUILD_MEDI','COMMONAREA_MEDI','ELEVATORS_MEDI','ENTRANCES_MEDI','FLOORSMAX_MEDI','FLOORSMIN_MEDI','LANDAREA_MEDI','LIVINGAPARTMENTS_MEDI','LIVINGAREA_MEDI', 'NONLIVINGAPARTMENTS_MEDI', 'NONLIVINGAREA_MEDI','HOUSETYPE_MODE','TOTALAREA_MODE','WALLSMATERIAL_MODE','FONDKAPREMONT_MODE','EMERGENCYSTATE_MODE'], axis = 1)"
   ]
  },
  {
   "cell_type": "code",
   "execution_count": 228,
   "id": "bd502d9d",
   "metadata": {},
   "outputs": [
    {
     "data": {
      "text/plain": [
       "(307511, 73)"
      ]
     },
     "execution_count": 228,
     "metadata": {},
     "output_type": "execute_result"
    }
   ],
   "source": [
    "loan.shape"
   ]
  },
  {
   "cell_type": "markdown",
   "id": "313cc63e",
   "metadata": {},
   "source": [
    "### OHE"
   ]
  },
  {
   "cell_type": "code",
   "execution_count": 229,
   "id": "ac30e53a",
   "metadata": {},
   "outputs": [
    {
     "name": "stdout",
     "output_type": "stream",
     "text": [
      "There are 12 features that need to be one hot encoded.\n"
     ]
    }
   ],
   "source": [
    "loan_ohe_features = ['NAME_CONTRACT_TYPE','CODE_GENDER','FLAG_OWN_CAR', 'FLAG_OWN_REALTY', 'NAME_TYPE_SUITE','NAME_INCOME_TYPE','NAME_EDUCATION_TYPE','NAME_FAMILY_STATUS','NAME_HOUSING_TYPE','WEEKDAY_APPR_PROCESS_START','OCCUPATION_TYPE','ORGANIZATION_TYPE']\n",
    "print('There are', len(loan_ohe_features), 'features that need to be one hot encoded.')"
   ]
  },
  {
   "cell_type": "code",
   "execution_count": 230,
   "id": "5200842c",
   "metadata": {},
   "outputs": [],
   "source": [
    "for i in loan_ohe_features:\n",
    "    loan[i] = i + ': ' + loan[i].astype(str)"
   ]
  },
  {
   "cell_type": "code",
   "execution_count": 232,
   "id": "ad383c25",
   "metadata": {},
   "outputs": [
    {
     "data": {
      "text/plain": [
       "OneHotEncoder(handle_unknown='ignore')"
      ]
     },
     "execution_count": 232,
     "metadata": {},
     "output_type": "execute_result"
    }
   ],
   "source": [
    "loan_enc = OneHotEncoder(handle_unknown='ignore')\n",
    "loan_enc.fit(loan[loan_ohe_features])"
   ]
  },
  {
   "cell_type": "code",
   "execution_count": 233,
   "id": "7a5f831a",
   "metadata": {},
   "outputs": [
    {
     "data": {
      "text/plain": [
       "[array(['NAME_CONTRACT_TYPE: Cash loans',\n",
       "        'NAME_CONTRACT_TYPE: Revolving loans'], dtype=object),\n",
       " array(['CODE_GENDER: F', 'CODE_GENDER: M', 'CODE_GENDER: XNA'],\n",
       "       dtype=object),\n",
       " array(['FLAG_OWN_CAR: N', 'FLAG_OWN_CAR: Y'], dtype=object),\n",
       " array(['FLAG_OWN_REALTY: N', 'FLAG_OWN_REALTY: Y'], dtype=object),\n",
       " array(['NAME_TYPE_SUITE: Children', 'NAME_TYPE_SUITE: Family',\n",
       "        'NAME_TYPE_SUITE: Group of people', 'NAME_TYPE_SUITE: Other_A',\n",
       "        'NAME_TYPE_SUITE: Other_B', 'NAME_TYPE_SUITE: Spouse, partner',\n",
       "        'NAME_TYPE_SUITE: Unaccompanied', 'NAME_TYPE_SUITE: nan'],\n",
       "       dtype=object),\n",
       " array(['NAME_INCOME_TYPE: Businessman',\n",
       "        'NAME_INCOME_TYPE: Commercial associate',\n",
       "        'NAME_INCOME_TYPE: Maternity leave', 'NAME_INCOME_TYPE: Pensioner',\n",
       "        'NAME_INCOME_TYPE: State servant', 'NAME_INCOME_TYPE: Student',\n",
       "        'NAME_INCOME_TYPE: Unemployed', 'NAME_INCOME_TYPE: Working'],\n",
       "       dtype=object),\n",
       " array(['NAME_EDUCATION_TYPE: Academic degree',\n",
       "        'NAME_EDUCATION_TYPE: Higher education',\n",
       "        'NAME_EDUCATION_TYPE: Incomplete higher',\n",
       "        'NAME_EDUCATION_TYPE: Lower secondary',\n",
       "        'NAME_EDUCATION_TYPE: Secondary / secondary special'], dtype=object),\n",
       " array(['NAME_FAMILY_STATUS: Civil marriage',\n",
       "        'NAME_FAMILY_STATUS: Married', 'NAME_FAMILY_STATUS: Separated',\n",
       "        'NAME_FAMILY_STATUS: Single / not married',\n",
       "        'NAME_FAMILY_STATUS: Unknown', 'NAME_FAMILY_STATUS: Widow'],\n",
       "       dtype=object),\n",
       " array(['NAME_HOUSING_TYPE: Co-op apartment',\n",
       "        'NAME_HOUSING_TYPE: House / apartment',\n",
       "        'NAME_HOUSING_TYPE: Municipal apartment',\n",
       "        'NAME_HOUSING_TYPE: Office apartment',\n",
       "        'NAME_HOUSING_TYPE: Rented apartment',\n",
       "        'NAME_HOUSING_TYPE: With parents'], dtype=object),\n",
       " array(['WEEKDAY_APPR_PROCESS_START: FRIDAY',\n",
       "        'WEEKDAY_APPR_PROCESS_START: MONDAY',\n",
       "        'WEEKDAY_APPR_PROCESS_START: SATURDAY',\n",
       "        'WEEKDAY_APPR_PROCESS_START: SUNDAY',\n",
       "        'WEEKDAY_APPR_PROCESS_START: THURSDAY',\n",
       "        'WEEKDAY_APPR_PROCESS_START: TUESDAY',\n",
       "        'WEEKDAY_APPR_PROCESS_START: WEDNESDAY'], dtype=object),\n",
       " array(['OCCUPATION_TYPE: Accountants', 'OCCUPATION_TYPE: Cleaning staff',\n",
       "        'OCCUPATION_TYPE: Cooking staff', 'OCCUPATION_TYPE: Core staff',\n",
       "        'OCCUPATION_TYPE: Drivers', 'OCCUPATION_TYPE: HR staff',\n",
       "        'OCCUPATION_TYPE: High skill tech staff',\n",
       "        'OCCUPATION_TYPE: IT staff', 'OCCUPATION_TYPE: Laborers',\n",
       "        'OCCUPATION_TYPE: Low-skill Laborers', 'OCCUPATION_TYPE: Managers',\n",
       "        'OCCUPATION_TYPE: Medicine staff',\n",
       "        'OCCUPATION_TYPE: Private service staff',\n",
       "        'OCCUPATION_TYPE: Realty agents', 'OCCUPATION_TYPE: Sales staff',\n",
       "        'OCCUPATION_TYPE: Secretaries', 'OCCUPATION_TYPE: Security staff',\n",
       "        'OCCUPATION_TYPE: Waiters/barmen staff', 'OCCUPATION_TYPE: nan'],\n",
       "       dtype=object),\n",
       " array(['ORGANIZATION_TYPE: Advertising', 'ORGANIZATION_TYPE: Agriculture',\n",
       "        'ORGANIZATION_TYPE: Bank',\n",
       "        'ORGANIZATION_TYPE: Business Entity Type 1',\n",
       "        'ORGANIZATION_TYPE: Business Entity Type 2',\n",
       "        'ORGANIZATION_TYPE: Business Entity Type 3',\n",
       "        'ORGANIZATION_TYPE: Cleaning', 'ORGANIZATION_TYPE: Construction',\n",
       "        'ORGANIZATION_TYPE: Culture', 'ORGANIZATION_TYPE: Electricity',\n",
       "        'ORGANIZATION_TYPE: Emergency', 'ORGANIZATION_TYPE: Government',\n",
       "        'ORGANIZATION_TYPE: Hotel', 'ORGANIZATION_TYPE: Housing',\n",
       "        'ORGANIZATION_TYPE: Industry: type 1',\n",
       "        'ORGANIZATION_TYPE: Industry: type 10',\n",
       "        'ORGANIZATION_TYPE: Industry: type 11',\n",
       "        'ORGANIZATION_TYPE: Industry: type 12',\n",
       "        'ORGANIZATION_TYPE: Industry: type 13',\n",
       "        'ORGANIZATION_TYPE: Industry: type 2',\n",
       "        'ORGANIZATION_TYPE: Industry: type 3',\n",
       "        'ORGANIZATION_TYPE: Industry: type 4',\n",
       "        'ORGANIZATION_TYPE: Industry: type 5',\n",
       "        'ORGANIZATION_TYPE: Industry: type 6',\n",
       "        'ORGANIZATION_TYPE: Industry: type 7',\n",
       "        'ORGANIZATION_TYPE: Industry: type 8',\n",
       "        'ORGANIZATION_TYPE: Industry: type 9',\n",
       "        'ORGANIZATION_TYPE: Insurance', 'ORGANIZATION_TYPE: Kindergarten',\n",
       "        'ORGANIZATION_TYPE: Legal Services', 'ORGANIZATION_TYPE: Medicine',\n",
       "        'ORGANIZATION_TYPE: Military', 'ORGANIZATION_TYPE: Mobile',\n",
       "        'ORGANIZATION_TYPE: Other', 'ORGANIZATION_TYPE: Police',\n",
       "        'ORGANIZATION_TYPE: Postal', 'ORGANIZATION_TYPE: Realtor',\n",
       "        'ORGANIZATION_TYPE: Religion', 'ORGANIZATION_TYPE: Restaurant',\n",
       "        'ORGANIZATION_TYPE: School', 'ORGANIZATION_TYPE: Security',\n",
       "        'ORGANIZATION_TYPE: Security Ministries',\n",
       "        'ORGANIZATION_TYPE: Self-employed', 'ORGANIZATION_TYPE: Services',\n",
       "        'ORGANIZATION_TYPE: Telecom', 'ORGANIZATION_TYPE: Trade: type 1',\n",
       "        'ORGANIZATION_TYPE: Trade: type 2',\n",
       "        'ORGANIZATION_TYPE: Trade: type 3',\n",
       "        'ORGANIZATION_TYPE: Trade: type 4',\n",
       "        'ORGANIZATION_TYPE: Trade: type 5',\n",
       "        'ORGANIZATION_TYPE: Trade: type 6',\n",
       "        'ORGANIZATION_TYPE: Trade: type 7',\n",
       "        'ORGANIZATION_TYPE: Transport: type 1',\n",
       "        'ORGANIZATION_TYPE: Transport: type 2',\n",
       "        'ORGANIZATION_TYPE: Transport: type 3',\n",
       "        'ORGANIZATION_TYPE: Transport: type 4',\n",
       "        'ORGANIZATION_TYPE: University', 'ORGANIZATION_TYPE: XNA'],\n",
       "       dtype=object)]"
      ]
     },
     "execution_count": 233,
     "metadata": {},
     "output_type": "execute_result"
    }
   ],
   "source": [
    "loan_enc.categories_"
   ]
  },
  {
   "cell_type": "code",
   "execution_count": 234,
   "id": "f4f7ba82",
   "metadata": {},
   "outputs": [],
   "source": [
    "loan_ohe_features_result = loan_enc.transform(loan[loan_ohe_features]).toarray()"
   ]
  },
  {
   "cell_type": "markdown",
   "id": "48dbd19e",
   "metadata": {},
   "source": [
    "### Create feature array and name it as loan_x"
   ]
  },
  {
   "cell_type": "code",
   "execution_count": 235,
   "id": "968ab521",
   "metadata": {},
   "outputs": [],
   "source": [
    "loan_x = np.append(loan_ohe_features_result, loan.drop(loan_ohe_features, axis = 1).drop('TARGET', axis = 1).values, axis = 1)"
   ]
  },
  {
   "cell_type": "code",
   "execution_count": 236,
   "id": "aa8c3926",
   "metadata": {},
   "outputs": [
    {
     "data": {
      "text/plain": [
       "array([ 1.00000000e+00,  0.00000000e+00,  0.00000000e+00,  1.00000000e+00,\n",
       "        0.00000000e+00,  1.00000000e+00,  0.00000000e+00,  0.00000000e+00,\n",
       "        1.00000000e+00,  0.00000000e+00,  0.00000000e+00,  0.00000000e+00,\n",
       "        0.00000000e+00,  0.00000000e+00,  0.00000000e+00,  1.00000000e+00,\n",
       "        0.00000000e+00,  0.00000000e+00,  0.00000000e+00,  0.00000000e+00,\n",
       "        0.00000000e+00,  0.00000000e+00,  0.00000000e+00,  0.00000000e+00,\n",
       "        1.00000000e+00,  0.00000000e+00,  0.00000000e+00,  0.00000000e+00,\n",
       "        0.00000000e+00,  1.00000000e+00,  0.00000000e+00,  0.00000000e+00,\n",
       "        0.00000000e+00,  1.00000000e+00,  0.00000000e+00,  0.00000000e+00,\n",
       "        0.00000000e+00,  1.00000000e+00,  0.00000000e+00,  0.00000000e+00,\n",
       "        0.00000000e+00,  0.00000000e+00,  0.00000000e+00,  0.00000000e+00,\n",
       "        0.00000000e+00,  0.00000000e+00,  0.00000000e+00,  0.00000000e+00,\n",
       "        1.00000000e+00,  0.00000000e+00,  0.00000000e+00,  0.00000000e+00,\n",
       "        0.00000000e+00,  0.00000000e+00,  0.00000000e+00,  0.00000000e+00,\n",
       "        0.00000000e+00,  1.00000000e+00,  0.00000000e+00,  0.00000000e+00,\n",
       "        0.00000000e+00,  0.00000000e+00,  0.00000000e+00,  0.00000000e+00,\n",
       "        0.00000000e+00,  0.00000000e+00,  0.00000000e+00,  0.00000000e+00,\n",
       "        0.00000000e+00,  0.00000000e+00,  0.00000000e+00,  0.00000000e+00,\n",
       "        0.00000000e+00,  1.00000000e+00,  0.00000000e+00,  0.00000000e+00,\n",
       "        0.00000000e+00,  0.00000000e+00,  0.00000000e+00,  0.00000000e+00,\n",
       "        0.00000000e+00,  0.00000000e+00,  0.00000000e+00,  0.00000000e+00,\n",
       "        0.00000000e+00,  0.00000000e+00,  0.00000000e+00,  0.00000000e+00,\n",
       "        0.00000000e+00,  0.00000000e+00,  0.00000000e+00,  0.00000000e+00,\n",
       "        0.00000000e+00,  0.00000000e+00,  0.00000000e+00,  0.00000000e+00,\n",
       "        0.00000000e+00,  0.00000000e+00,  0.00000000e+00,  0.00000000e+00,\n",
       "        0.00000000e+00,  0.00000000e+00,  0.00000000e+00,  0.00000000e+00,\n",
       "        0.00000000e+00,  0.00000000e+00,  0.00000000e+00,  0.00000000e+00,\n",
       "        0.00000000e+00,  0.00000000e+00,  0.00000000e+00,  0.00000000e+00,\n",
       "        0.00000000e+00,  0.00000000e+00,  0.00000000e+00,  0.00000000e+00,\n",
       "        0.00000000e+00,  0.00000000e+00,  0.00000000e+00,  0.00000000e+00,\n",
       "        0.00000000e+00,  0.00000000e+00,  0.00000000e+00,  0.00000000e+00,\n",
       "        0.00000000e+00,  0.00000000e+00,  1.00002000e+05,  0.00000000e+00,\n",
       "        2.02500000e+05,  4.06597500e+05,  2.47005000e+04,  3.51000000e+05,\n",
       "        1.88010000e-02, -9.46100000e+03, -6.37000000e+02, -3.64800000e+03,\n",
       "       -2.12000000e+03,  1.00000000e+00,  1.00000000e+00,  0.00000000e+00,\n",
       "        1.00000000e+00,  1.00000000e+00,  0.00000000e+00,  1.00000000e+00,\n",
       "        2.00000000e+00,  2.00000000e+00,  1.00000000e+01,  0.00000000e+00,\n",
       "        0.00000000e+00,  0.00000000e+00,  0.00000000e+00,  0.00000000e+00,\n",
       "        0.00000000e+00,  2.62948593e-01,  1.39375780e-01,  2.00000000e+00,\n",
       "        2.00000000e+00,  2.00000000e+00,  2.00000000e+00, -1.13400000e+03,\n",
       "        0.00000000e+00,  1.00000000e+00,  0.00000000e+00,  0.00000000e+00,\n",
       "        0.00000000e+00,  0.00000000e+00,  0.00000000e+00,  0.00000000e+00,\n",
       "        0.00000000e+00,  0.00000000e+00,  0.00000000e+00,  0.00000000e+00,\n",
       "        0.00000000e+00,  0.00000000e+00,  0.00000000e+00,  0.00000000e+00,\n",
       "        0.00000000e+00,  0.00000000e+00,  0.00000000e+00,  0.00000000e+00,\n",
       "        0.00000000e+00,  0.00000000e+00,  0.00000000e+00,  0.00000000e+00,\n",
       "        0.00000000e+00,  1.00000000e+00])"
      ]
     },
     "execution_count": 236,
     "metadata": {},
     "output_type": "execute_result"
    }
   ],
   "source": [
    "loan_x[0]"
   ]
  },
  {
   "cell_type": "code",
   "execution_count": 237,
   "id": "2c4087c1",
   "metadata": {},
   "outputs": [
    {
     "name": "stdout",
     "output_type": "stream",
     "text": [
      "After one hot encoding, we got 186 features.\n"
     ]
    }
   ],
   "source": [
    "print('After one hot encoding, we got', len(loan_x[0]), 'features.')"
   ]
  },
  {
   "cell_type": "markdown",
   "id": "66bdff8a",
   "metadata": {},
   "source": [
    "### Create target array and name it as loan_y"
   ]
  },
  {
   "cell_type": "code",
   "execution_count": 238,
   "id": "c3f79499",
   "metadata": {},
   "outputs": [
    {
     "data": {
      "text/plain": [
       "0    282686\n",
       "1     24825\n",
       "Name: TARGET, dtype: int64"
      ]
     },
     "execution_count": 238,
     "metadata": {},
     "output_type": "execute_result"
    }
   ],
   "source": [
    "loan_y = loan['TARGET']\n",
    "loan_y.value_counts()"
   ]
  },
  {
   "cell_type": "code",
   "execution_count": null,
   "id": "8f40bee0",
   "metadata": {},
   "outputs": [],
   "source": []
  }
 ],
 "metadata": {
  "kernelspec": {
   "display_name": "Python 3 (ipykernel)",
   "language": "python",
   "name": "python3"
  },
  "language_info": {
   "codemirror_mode": {
    "name": "ipython",
    "version": 3
   },
   "file_extension": ".py",
   "mimetype": "text/x-python",
   "name": "python",
   "nbconvert_exporter": "python",
   "pygments_lexer": "ipython3",
   "version": "3.8.12"
  }
 },
 "nbformat": 4,
 "nbformat_minor": 5
}
