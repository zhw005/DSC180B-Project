{
 "cells": [
  {
   "cell_type": "code",
   "execution_count": 17,
   "metadata": {},
   "outputs": [],
   "source": [
    "import pandas as pd \n",
    "import numpy as npd"
   ]
  },
  {
   "cell_type": "code",
   "execution_count": 18,
   "metadata": {},
   "outputs": [],
   "source": [
    "diabetic_data = pd.read_csv('diabetic_data.csv')"
   ]
  },
  {
   "cell_type": "code",
   "execution_count": 19,
   "metadata": {},
   "outputs": [
    {
     "data": {
      "text/plain": [
       "No        47383\n",
       "Steady    30849\n",
       "Down      12218\n",
       "Up        11316\n",
       "Name: insulin, dtype: int64"
      ]
     },
     "execution_count": 19,
     "metadata": {},
     "output_type": "execute_result"
    }
   ],
   "source": [
    "diabetic_data['insulin'].value_counts()"
   ]
  },
  {
   "cell_type": "code",
   "execution_count": 20,
   "metadata": {},
   "outputs": [
    {
     "data": {
      "text/plain": [
       "Index(['encounter_id', 'patient_nbr', 'race', 'gender', 'age', 'weight',\n",
       "       'admission_type_id', 'discharge_disposition_id', 'admission_source_id',\n",
       "       'time_in_hospital', 'payer_code', 'medical_specialty',\n",
       "       'num_lab_procedures', 'num_procedures', 'num_medications',\n",
       "       'number_outpatient', 'number_emergency', 'number_inpatient', 'diag_1',\n",
       "       'diag_2', 'diag_3', 'number_diagnoses', 'max_glu_serum', 'A1Cresult',\n",
       "       'metformin', 'repaglinide', 'nateglinide', 'chlorpropamide',\n",
       "       'glimepiride', 'acetohexamide', 'glipizide', 'glyburide', 'tolbutamide',\n",
       "       'pioglitazone', 'rosiglitazone', 'acarbose', 'miglitol', 'troglitazone',\n",
       "       'tolazamide', 'examide', 'citoglipton', 'insulin',\n",
       "       'glyburide-metformin', 'glipizide-metformin',\n",
       "       'glimepiride-pioglitazone', 'metformin-rosiglitazone',\n",
       "       'metformin-pioglitazone', 'change', 'diabetesMed', 'readmitted'],\n",
       "      dtype='object')"
      ]
     },
     "execution_count": 20,
     "metadata": {},
     "output_type": "execute_result"
    }
   ],
   "source": [
    "diabetic_data.columns"
   ]
  },
  {
   "cell_type": "code",
   "execution_count": 21,
   "metadata": {},
   "outputs": [],
   "source": [
    "cols = ['race','gender','age','time_in_hospital','insulin','diabetesMed','readmitted']"
   ]
  },
  {
   "cell_type": "code",
   "execution_count": 22,
   "metadata": {},
   "outputs": [],
   "source": [
    "data = diabetic_data[cols]"
   ]
  },
  {
   "cell_type": "code",
   "execution_count": 23,
   "metadata": {},
   "outputs": [
    {
     "data": {
      "text/plain": [
       "101766"
      ]
     },
     "execution_count": 23,
     "metadata": {},
     "output_type": "execute_result"
    }
   ],
   "source": [
    "len(data)"
   ]
  },
  {
   "cell_type": "code",
   "execution_count": 27,
   "metadata": {},
   "outputs": [],
   "source": [
    "def male(row):\n",
    "    val = 0\n",
    "    if row['gender'] == 'Male':\n",
    "        val = 1\n",
    "    return val\n",
    "\n",
    "def female(row):\n",
    "    val = 0\n",
    "    if row['gender'] == 'Female':\n",
    "        val = 1\n",
    "    return val\n",
    "\n",
    "def caucasian(row):\n",
    "    val = 0\n",
    "    if row['race'] == 'Caucasian':\n",
    "        val = 1\n",
    "    return val\n",
    "\n",
    "def african(row):\n",
    "    val = 0\n",
    "    if row['race'] == 'AfricanAmerican':\n",
    "        val = 1\n",
    "    return val\n",
    "\n",
    "def hispanic(row):\n",
    "    val = 0\n",
    "    if row['race'] == 'Hispanic':\n",
    "        val = 1\n",
    "    return val\n",
    "\n",
    "def other(row):\n",
    "    val = 0\n",
    "    if row['race'] == 'Other':\n",
    "        val = 1\n",
    "    return val\n",
    "\n",
    "def asian(row):\n",
    "    val = 0\n",
    "    if row['race'] == 'Asian':\n",
    "        val = 1\n",
    "    return val\n",
    "\n",
    "def no_insulin(row):\n",
    "    val = 0\n",
    "    if row['insulin'] == 'No':\n",
    "        val = 1\n",
    "    return val\n",
    "\n",
    "def insulin_steady(row):\n",
    "    val = 0\n",
    "    if row['insulin'] == 'Steady':\n",
    "        val = 1\n",
    "    return val\n",
    "\n",
    "def insulin_up(row):\n",
    "    val = 0\n",
    "    if row['insulin'] == 'Up':\n",
    "        val = 1\n",
    "    return val\n",
    "\n",
    "def insulin_down(row):\n",
    "    val = 0\n",
    "    if row['insulin'] == 'Down':\n",
    "        val = 1\n",
    "    return val\n",
    "\n",
    "def diabetes_med(val):\n",
    "    if val == 'Yes':\n",
    "        val = 1\n",
    "    else:\n",
    "        val = 0\n",
    "    return val\n",
    "\n",
    "def readmitted(val):\n",
    "    if val == 'NO':\n",
    "        val = 0\n",
    "    else:\n",
    "        val = 1\n",
    "    return val\n",
    "        \n"
   ]
  },
  {
   "cell_type": "code",
   "execution_count": 29,
   "metadata": {},
   "outputs": [],
   "source": [
    "def over_50(val):\n",
    "    splitter = val.split('-')\n",
    "    if '50' in splitter[0]:\n",
    "        return 1\n",
    "    else:\n",
    "        return 0\n",
    "    return"
   ]
  },
  {
   "cell_type": "code",
   "execution_count": 25,
   "metadata": {},
   "outputs": [
    {
     "data": {
      "text/html": [
       "<div>\n",
       "<style scoped>\n",
       "    .dataframe tbody tr th:only-of-type {\n",
       "        vertical-align: middle;\n",
       "    }\n",
       "\n",
       "    .dataframe tbody tr th {\n",
       "        vertical-align: top;\n",
       "    }\n",
       "\n",
       "    .dataframe thead th {\n",
       "        text-align: right;\n",
       "    }\n",
       "</style>\n",
       "<table border=\"1\" class=\"dataframe\">\n",
       "  <thead>\n",
       "    <tr style=\"text-align: right;\">\n",
       "      <th></th>\n",
       "      <th>race</th>\n",
       "      <th>gender</th>\n",
       "      <th>age</th>\n",
       "      <th>admission_type_id</th>\n",
       "      <th>discharge_disposition_id</th>\n",
       "      <th>time_in_hospital</th>\n",
       "      <th>insulin</th>\n",
       "      <th>diabetesMed</th>\n",
       "      <th>readmitted</th>\n",
       "    </tr>\n",
       "  </thead>\n",
       "  <tbody>\n",
       "    <tr>\n",
       "      <th>0</th>\n",
       "      <td>Caucasian</td>\n",
       "      <td>Female</td>\n",
       "      <td>[0-10)</td>\n",
       "      <td>6</td>\n",
       "      <td>25</td>\n",
       "      <td>1</td>\n",
       "      <td>No</td>\n",
       "      <td>No</td>\n",
       "      <td>NO</td>\n",
       "    </tr>\n",
       "    <tr>\n",
       "      <th>1</th>\n",
       "      <td>Caucasian</td>\n",
       "      <td>Female</td>\n",
       "      <td>[10-20)</td>\n",
       "      <td>1</td>\n",
       "      <td>1</td>\n",
       "      <td>3</td>\n",
       "      <td>Up</td>\n",
       "      <td>Yes</td>\n",
       "      <td>&gt;30</td>\n",
       "    </tr>\n",
       "    <tr>\n",
       "      <th>2</th>\n",
       "      <td>AfricanAmerican</td>\n",
       "      <td>Female</td>\n",
       "      <td>[20-30)</td>\n",
       "      <td>1</td>\n",
       "      <td>1</td>\n",
       "      <td>2</td>\n",
       "      <td>No</td>\n",
       "      <td>Yes</td>\n",
       "      <td>NO</td>\n",
       "    </tr>\n",
       "    <tr>\n",
       "      <th>3</th>\n",
       "      <td>Caucasian</td>\n",
       "      <td>Male</td>\n",
       "      <td>[30-40)</td>\n",
       "      <td>1</td>\n",
       "      <td>1</td>\n",
       "      <td>2</td>\n",
       "      <td>Up</td>\n",
       "      <td>Yes</td>\n",
       "      <td>NO</td>\n",
       "    </tr>\n",
       "    <tr>\n",
       "      <th>4</th>\n",
       "      <td>Caucasian</td>\n",
       "      <td>Male</td>\n",
       "      <td>[40-50)</td>\n",
       "      <td>1</td>\n",
       "      <td>1</td>\n",
       "      <td>1</td>\n",
       "      <td>Steady</td>\n",
       "      <td>Yes</td>\n",
       "      <td>NO</td>\n",
       "    </tr>\n",
       "    <tr>\n",
       "      <th>...</th>\n",
       "      <td>...</td>\n",
       "      <td>...</td>\n",
       "      <td>...</td>\n",
       "      <td>...</td>\n",
       "      <td>...</td>\n",
       "      <td>...</td>\n",
       "      <td>...</td>\n",
       "      <td>...</td>\n",
       "      <td>...</td>\n",
       "    </tr>\n",
       "    <tr>\n",
       "      <th>101761</th>\n",
       "      <td>AfricanAmerican</td>\n",
       "      <td>Male</td>\n",
       "      <td>[70-80)</td>\n",
       "      <td>1</td>\n",
       "      <td>3</td>\n",
       "      <td>3</td>\n",
       "      <td>Down</td>\n",
       "      <td>Yes</td>\n",
       "      <td>&gt;30</td>\n",
       "    </tr>\n",
       "    <tr>\n",
       "      <th>101762</th>\n",
       "      <td>AfricanAmerican</td>\n",
       "      <td>Female</td>\n",
       "      <td>[80-90)</td>\n",
       "      <td>1</td>\n",
       "      <td>4</td>\n",
       "      <td>5</td>\n",
       "      <td>Steady</td>\n",
       "      <td>Yes</td>\n",
       "      <td>NO</td>\n",
       "    </tr>\n",
       "    <tr>\n",
       "      <th>101763</th>\n",
       "      <td>Caucasian</td>\n",
       "      <td>Male</td>\n",
       "      <td>[70-80)</td>\n",
       "      <td>1</td>\n",
       "      <td>1</td>\n",
       "      <td>1</td>\n",
       "      <td>Down</td>\n",
       "      <td>Yes</td>\n",
       "      <td>NO</td>\n",
       "    </tr>\n",
       "    <tr>\n",
       "      <th>101764</th>\n",
       "      <td>Caucasian</td>\n",
       "      <td>Female</td>\n",
       "      <td>[80-90)</td>\n",
       "      <td>2</td>\n",
       "      <td>3</td>\n",
       "      <td>10</td>\n",
       "      <td>Up</td>\n",
       "      <td>Yes</td>\n",
       "      <td>NO</td>\n",
       "    </tr>\n",
       "    <tr>\n",
       "      <th>101765</th>\n",
       "      <td>Caucasian</td>\n",
       "      <td>Male</td>\n",
       "      <td>[70-80)</td>\n",
       "      <td>1</td>\n",
       "      <td>1</td>\n",
       "      <td>6</td>\n",
       "      <td>No</td>\n",
       "      <td>No</td>\n",
       "      <td>NO</td>\n",
       "    </tr>\n",
       "  </tbody>\n",
       "</table>\n",
       "<p>101766 rows × 9 columns</p>\n",
       "</div>"
      ],
      "text/plain": [
       "                   race  gender      age  admission_type_id  \\\n",
       "0             Caucasian  Female   [0-10)                  6   \n",
       "1             Caucasian  Female  [10-20)                  1   \n",
       "2       AfricanAmerican  Female  [20-30)                  1   \n",
       "3             Caucasian    Male  [30-40)                  1   \n",
       "4             Caucasian    Male  [40-50)                  1   \n",
       "...                 ...     ...      ...                ...   \n",
       "101761  AfricanAmerican    Male  [70-80)                  1   \n",
       "101762  AfricanAmerican  Female  [80-90)                  1   \n",
       "101763        Caucasian    Male  [70-80)                  1   \n",
       "101764        Caucasian  Female  [80-90)                  2   \n",
       "101765        Caucasian    Male  [70-80)                  1   \n",
       "\n",
       "        discharge_disposition_id  time_in_hospital insulin diabetesMed  \\\n",
       "0                             25                 1      No          No   \n",
       "1                              1                 3      Up         Yes   \n",
       "2                              1                 2      No         Yes   \n",
       "3                              1                 2      Up         Yes   \n",
       "4                              1                 1  Steady         Yes   \n",
       "...                          ...               ...     ...         ...   \n",
       "101761                         3                 3    Down         Yes   \n",
       "101762                         4                 5  Steady         Yes   \n",
       "101763                         1                 1    Down         Yes   \n",
       "101764                         3                10      Up         Yes   \n",
       "101765                         1                 6      No          No   \n",
       "\n",
       "       readmitted  \n",
       "0              NO  \n",
       "1             >30  \n",
       "2              NO  \n",
       "3              NO  \n",
       "4              NO  \n",
       "...           ...  \n",
       "101761        >30  \n",
       "101762         NO  \n",
       "101763         NO  \n",
       "101764         NO  \n",
       "101765         NO  \n",
       "\n",
       "[101766 rows x 9 columns]"
      ]
     },
     "execution_count": 25,
     "metadata": {},
     "output_type": "execute_result"
    }
   ],
   "source": [
    "data"
   ]
  },
  {
   "cell_type": "code",
   "execution_count": 26,
   "metadata": {},
   "outputs": [],
   "source": [
    "male_col = data.apply(male, axis = 1)\n",
    "female_col = data.apply(female, axis = 1)\n",
    "caucasian_col = data.apply(caucasian, axis = 1)\n",
    "african_col = data.apply(african, axis = 1)\n",
    "hispanic_col = data.apply(hispanic, axis = 1)\n",
    "asian_col = data.apply(asian, axis = 1)\n",
    "other_col = data.apply(other, axis = 1)"
   ]
  },
  {
   "cell_type": "code",
   "execution_count": 28,
   "metadata": {},
   "outputs": [],
   "source": [
    "no_insulin_col = data.apply(no_insulin, axis = 1)\n",
    "insulin_steady_col = data.apply(insulin_steady, axis = 1)\n",
    "insulin_up_col = data.apply(insulin_up, axis = 1)\n",
    "insulin_down_col = data.apply(insulin_down, axis = 1)\n",
    "diabetes_med_col = data['diabetesMed'].apply(diabetes_med)\n",
    "readmitted_col = data['readmitted'].apply(readmitted)"
   ]
  },
  {
   "cell_type": "code",
   "execution_count": 30,
   "metadata": {},
   "outputs": [],
   "source": [
    "over_50_col = data['age'].apply(over_50)"
   ]
  },
  {
   "cell_type": "code",
   "execution_count": 33,
   "metadata": {},
   "outputs": [],
   "source": [
    "diabetes_features = pd.DataFrame()\n",
    "diabetes_features['Male'] = male_col\n",
    "diabetes_features['Female'] = female_col\n",
    "diabetes_features['Caucasian'] = caucasian_col\n",
    "diabetes_features['African American'] = african_col\n",
    "diabetes_features['Hispanic'] = hispanic_col\n",
    "diabetes_features['Asian'] = asian_col\n",
    "diabetes_features['Other'] = other_col\n",
    "diabetes_features['No Insulin'] = no_insulin_col\n",
    "diabetes_features['Insulin Steady'] = insulin_steady_col\n",
    "diabetes_features['Insulin Down'] = insulin_down_col\n",
    "diabetes_features['Insulin Up'] = insulin_up_col \n",
    "diabetes_features['Diabetes Med'] = diabetes_med_col"
   ]
  },
  {
   "cell_type": "code",
   "execution_count": 35,
   "metadata": {},
   "outputs": [],
   "source": [
    "diabetes_target = pd.DataFrame()\n",
    "diabetes_target['Readmitted'] = readmitted_col"
   ]
  },
  {
   "cell_type": "code",
   "execution_count": 36,
   "metadata": {},
   "outputs": [],
   "source": [
    "diabetes_features.to_csv('diabetes features.csv')\n",
    "diabetes_target.to_csv('diabetes target.csv')"
   ]
  },
  {
   "cell_type": "code",
   "execution_count": null,
   "metadata": {},
   "outputs": [],
   "source": []
  }
 ],
 "metadata": {
  "kernelspec": {
   "display_name": "Python 3",
   "language": "python",
   "name": "python3"
  },
  "language_info": {
   "codemirror_mode": {
    "name": "ipython",
    "version": 3
   },
   "file_extension": ".py",
   "mimetype": "text/x-python",
   "name": "python",
   "nbconvert_exporter": "python",
   "pygments_lexer": "ipython3",
   "version": "3.8.3"
  }
 },
 "nbformat": 4,
 "nbformat_minor": 5
}
