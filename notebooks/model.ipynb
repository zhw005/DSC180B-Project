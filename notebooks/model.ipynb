{
 "cells": [
  {
   "cell_type": "code",
   "execution_count": 1,
   "id": "78770961",
   "metadata": {},
   "outputs": [],
   "source": [
    "from sklearn.svm import SVC\n",
    "from sklearn.model_selection import train_test_split\n",
    "from sklearn.metrics import accuracy_score\n",
    "from xgboost.sklearn import XGBClassifier\n",
    "# from lightgbm import LGBMClassifier\n",
    "import sys \n",
    "sys.path.append(\"../src\")\n",
    "from sk_tabnet import TNClassifier \n",
    "import pandas as pd\n",
    "import pickle"
   ]
  },
  {
   "cell_type": "code",
   "execution_count": 2,
   "id": "fe8b81d1",
   "metadata": {},
   "outputs": [
    {
     "name": "stdout",
     "output_type": "stream",
     "text": [
      "Device used : cpu\n"
     ]
    }
   ],
   "source": [
    "# model = SVC()\n",
    "# model = XGBClassifier()\n",
    "# model = LGBMClassifier()\n",
    "model = TNClassifier()"
   ]
  },
  {
   "cell_type": "code",
   "execution_count": 3,
   "id": "09c0bef1",
   "metadata": {},
   "outputs": [],
   "source": [
    "feature_dir = \"../data/health/diabetes features.csv\"\n",
    "target_dir = \"../data/health/diabetes target.csv\"\n",
    "#model_save_dir = \"../data/airbnb/tab\""
   ]
  },
  {
   "cell_type": "code",
   "execution_count": 4,
   "id": "c479e956",
   "metadata": {},
   "outputs": [
    {
     "data": {
      "text/html": [
       "<div>\n",
       "<style scoped>\n",
       "    .dataframe tbody tr th:only-of-type {\n",
       "        vertical-align: middle;\n",
       "    }\n",
       "\n",
       "    .dataframe tbody tr th {\n",
       "        vertical-align: top;\n",
       "    }\n",
       "\n",
       "    .dataframe thead th {\n",
       "        text-align: right;\n",
       "    }\n",
       "</style>\n",
       "<table border=\"1\" class=\"dataframe\">\n",
       "  <thead>\n",
       "    <tr style=\"text-align: right;\">\n",
       "      <th></th>\n",
       "      <th>Male</th>\n",
       "      <th>Female</th>\n",
       "      <th>Caucasian</th>\n",
       "      <th>African American</th>\n",
       "      <th>Hispanic</th>\n",
       "      <th>Asian</th>\n",
       "      <th>Other</th>\n",
       "      <th>No Insulin</th>\n",
       "      <th>Insulin Steady</th>\n",
       "      <th>Insulin Down</th>\n",
       "      <th>Insulin Up</th>\n",
       "      <th>Diabetes Med</th>\n",
       "    </tr>\n",
       "  </thead>\n",
       "  <tbody>\n",
       "    <tr>\n",
       "      <th>0</th>\n",
       "      <td>0</td>\n",
       "      <td>1</td>\n",
       "      <td>1</td>\n",
       "      <td>0</td>\n",
       "      <td>0</td>\n",
       "      <td>0</td>\n",
       "      <td>0</td>\n",
       "      <td>1</td>\n",
       "      <td>0</td>\n",
       "      <td>0</td>\n",
       "      <td>0</td>\n",
       "      <td>0</td>\n",
       "    </tr>\n",
       "    <tr>\n",
       "      <th>1</th>\n",
       "      <td>0</td>\n",
       "      <td>1</td>\n",
       "      <td>1</td>\n",
       "      <td>0</td>\n",
       "      <td>0</td>\n",
       "      <td>0</td>\n",
       "      <td>0</td>\n",
       "      <td>0</td>\n",
       "      <td>0</td>\n",
       "      <td>0</td>\n",
       "      <td>1</td>\n",
       "      <td>1</td>\n",
       "    </tr>\n",
       "    <tr>\n",
       "      <th>2</th>\n",
       "      <td>0</td>\n",
       "      <td>1</td>\n",
       "      <td>0</td>\n",
       "      <td>1</td>\n",
       "      <td>0</td>\n",
       "      <td>0</td>\n",
       "      <td>0</td>\n",
       "      <td>1</td>\n",
       "      <td>0</td>\n",
       "      <td>0</td>\n",
       "      <td>0</td>\n",
       "      <td>1</td>\n",
       "    </tr>\n",
       "    <tr>\n",
       "      <th>3</th>\n",
       "      <td>1</td>\n",
       "      <td>0</td>\n",
       "      <td>1</td>\n",
       "      <td>0</td>\n",
       "      <td>0</td>\n",
       "      <td>0</td>\n",
       "      <td>0</td>\n",
       "      <td>0</td>\n",
       "      <td>0</td>\n",
       "      <td>0</td>\n",
       "      <td>1</td>\n",
       "      <td>1</td>\n",
       "    </tr>\n",
       "    <tr>\n",
       "      <th>4</th>\n",
       "      <td>1</td>\n",
       "      <td>0</td>\n",
       "      <td>1</td>\n",
       "      <td>0</td>\n",
       "      <td>0</td>\n",
       "      <td>0</td>\n",
       "      <td>0</td>\n",
       "      <td>0</td>\n",
       "      <td>1</td>\n",
       "      <td>0</td>\n",
       "      <td>0</td>\n",
       "      <td>1</td>\n",
       "    </tr>\n",
       "  </tbody>\n",
       "</table>\n",
       "</div>"
      ],
      "text/plain": [
       "   Male  Female  Caucasian  African American  Hispanic  Asian  Other  \\\n",
       "0     0       1          1                 0         0      0      0   \n",
       "1     0       1          1                 0         0      0      0   \n",
       "2     0       1          0                 1         0      0      0   \n",
       "3     1       0          1                 0         0      0      0   \n",
       "4     1       0          1                 0         0      0      0   \n",
       "\n",
       "   No Insulin  Insulin Steady  Insulin Down  Insulin Up  Diabetes Med  \n",
       "0           1               0             0           0             0  \n",
       "1           0               0             0           1             1  \n",
       "2           1               0             0           0             1  \n",
       "3           0               0             0           1             1  \n",
       "4           0               1             0           0             1  "
      ]
     },
     "execution_count": 4,
     "metadata": {},
     "output_type": "execute_result"
    }
   ],
   "source": [
    "feature = pd.read_csv(feature_dir, index_col = 0)\n",
    "feature.head()"
   ]
  },
  {
   "cell_type": "code",
   "execution_count": 5,
   "id": "0e663013",
   "metadata": {},
   "outputs": [
    {
     "data": {
      "text/html": [
       "<div>\n",
       "<style scoped>\n",
       "    .dataframe tbody tr th:only-of-type {\n",
       "        vertical-align: middle;\n",
       "    }\n",
       "\n",
       "    .dataframe tbody tr th {\n",
       "        vertical-align: top;\n",
       "    }\n",
       "\n",
       "    .dataframe thead th {\n",
       "        text-align: right;\n",
       "    }\n",
       "</style>\n",
       "<table border=\"1\" class=\"dataframe\">\n",
       "  <thead>\n",
       "    <tr style=\"text-align: right;\">\n",
       "      <th></th>\n",
       "      <th>Readmitted</th>\n",
       "    </tr>\n",
       "  </thead>\n",
       "  <tbody>\n",
       "    <tr>\n",
       "      <th>0</th>\n",
       "      <td>0</td>\n",
       "    </tr>\n",
       "    <tr>\n",
       "      <th>1</th>\n",
       "      <td>1</td>\n",
       "    </tr>\n",
       "    <tr>\n",
       "      <th>2</th>\n",
       "      <td>0</td>\n",
       "    </tr>\n",
       "    <tr>\n",
       "      <th>3</th>\n",
       "      <td>0</td>\n",
       "    </tr>\n",
       "    <tr>\n",
       "      <th>4</th>\n",
       "      <td>0</td>\n",
       "    </tr>\n",
       "  </tbody>\n",
       "</table>\n",
       "</div>"
      ],
      "text/plain": [
       "   Readmitted\n",
       "0           0\n",
       "1           1\n",
       "2           0\n",
       "3           0\n",
       "4           0"
      ]
     },
     "execution_count": 5,
     "metadata": {},
     "output_type": "execute_result"
    }
   ],
   "source": [
    "target = pd.read_csv(target_dir, index_col = 0)\n",
    "target.head()"
   ]
  },
  {
   "cell_type": "code",
   "execution_count": 6,
   "id": "8c00d10d",
   "metadata": {},
   "outputs": [
    {
     "data": {
      "text/plain": [
       "(76324, 25442)"
      ]
     },
     "execution_count": 6,
     "metadata": {},
     "output_type": "execute_result"
    }
   ],
   "source": [
    "train_X, test_X, train_y, test_y = train_test_split(feature, target, random_state = 42)\n",
    "len(train_X), len(test_X)"
   ]
  },
  {
   "cell_type": "code",
   "execution_count": 7,
   "id": "7d910401",
   "metadata": {
    "scrolled": true
   },
   "outputs": [
    {
     "name": "stdout",
     "output_type": "stream",
     "text": [
      "No early stopping will be performed, last training weights will be used.\n",
      "epoch 0  | loss: 0.84615 |  0:00:00s\n",
      "epoch 1  | loss: 0.73454 |  0:00:00s\n",
      "epoch 2  | loss: 0.70486 |  0:00:00s\n",
      "epoch 3  | loss: 0.70095 |  0:00:00s\n",
      "epoch 4  | loss: 0.69269 |  0:00:00s\n",
      "epoch 5  | loss: 0.69014 |  0:00:00s\n",
      "epoch 6  | loss: 0.68743 |  0:00:00s\n",
      "epoch 7  | loss: 0.68779 |  0:00:01s\n",
      "epoch 8  | loss: 0.68624 |  0:00:01s\n",
      "epoch 9  | loss: 0.68642 |  0:00:01s\n",
      "epoch 10 | loss: 0.68633 |  0:00:01s\n",
      "epoch 11 | loss: 0.6833  |  0:00:01s\n",
      "epoch 12 | loss: 0.6871  |  0:00:01s\n",
      "epoch 13 | loss: 0.6851  |  0:00:01s\n",
      "epoch 14 | loss: 0.68471 |  0:00:01s\n",
      "epoch 15 | loss: 0.68453 |  0:00:02s\n",
      "epoch 16 | loss: 0.68266 |  0:00:02s\n",
      "epoch 17 | loss: 0.68336 |  0:00:02s\n",
      "epoch 18 | loss: 0.68316 |  0:00:02s\n",
      "epoch 19 | loss: 0.68117 |  0:00:02s\n",
      "epoch 20 | loss: 0.68518 |  0:00:02s\n",
      "epoch 21 | loss: 0.68379 |  0:00:02s\n",
      "epoch 22 | loss: 0.68182 |  0:00:02s\n",
      "epoch 23 | loss: 0.68305 |  0:00:03s\n",
      "epoch 24 | loss: 0.68279 |  0:00:03s\n",
      "epoch 25 | loss: 0.68321 |  0:00:03s\n",
      "epoch 26 | loss: 0.68149 |  0:00:03s\n",
      "epoch 27 | loss: 0.68353 |  0:00:03s\n",
      "epoch 28 | loss: 0.68228 |  0:00:03s\n",
      "epoch 29 | loss: 0.68245 |  0:00:03s\n",
      "epoch 30 | loss: 0.68274 |  0:00:03s\n",
      "epoch 31 | loss: 0.68199 |  0:00:04s\n",
      "epoch 32 | loss: 0.6821  |  0:00:04s\n",
      "epoch 33 | loss: 0.6821  |  0:00:04s\n",
      "epoch 34 | loss: 0.68213 |  0:00:04s\n",
      "epoch 35 | loss: 0.68279 |  0:00:04s\n",
      "epoch 36 | loss: 0.68276 |  0:00:04s\n",
      "epoch 37 | loss: 0.68138 |  0:00:04s\n",
      "epoch 38 | loss: 0.68133 |  0:00:04s\n",
      "epoch 39 | loss: 0.68202 |  0:00:04s\n",
      "epoch 40 | loss: 0.68159 |  0:00:05s\n",
      "epoch 41 | loss: 0.68455 |  0:00:05s\n",
      "epoch 42 | loss: 0.68273 |  0:00:05s\n",
      "epoch 43 | loss: 0.68433 |  0:00:05s\n",
      "epoch 44 | loss: 0.68353 |  0:00:05s\n",
      "epoch 45 | loss: 0.68304 |  0:00:05s\n",
      "epoch 46 | loss: 0.68109 |  0:00:05s\n",
      "epoch 47 | loss: 0.68439 |  0:00:05s\n",
      "epoch 48 | loss: 0.6828  |  0:00:06s\n",
      "epoch 49 | loss: 0.68238 |  0:00:06s\n",
      "epoch 50 | loss: 0.68363 |  0:00:06s\n",
      "epoch 51 | loss: 0.68226 |  0:00:06s\n",
      "epoch 52 | loss: 0.68299 |  0:00:06s\n",
      "epoch 53 | loss: 0.68296 |  0:00:06s\n",
      "epoch 54 | loss: 0.68185 |  0:00:06s\n",
      "epoch 55 | loss: 0.68333 |  0:00:06s\n",
      "epoch 56 | loss: 0.68424 |  0:00:07s\n",
      "epoch 57 | loss: 0.68342 |  0:00:07s\n",
      "epoch 58 | loss: 0.68194 |  0:00:07s\n",
      "epoch 59 | loss: 0.68372 |  0:00:07s\n",
      "epoch 60 | loss: 0.68326 |  0:00:07s\n",
      "epoch 61 | loss: 0.68329 |  0:00:07s\n",
      "epoch 62 | loss: 0.68487 |  0:00:07s\n",
      "epoch 63 | loss: 0.68312 |  0:00:07s\n",
      "epoch 64 | loss: 0.68263 |  0:00:08s\n",
      "epoch 65 | loss: 0.68487 |  0:00:08s\n",
      "epoch 66 | loss: 0.68168 |  0:00:08s\n",
      "epoch 67 | loss: 0.68336 |  0:00:08s\n",
      "epoch 68 | loss: 0.68323 |  0:00:08s\n",
      "epoch 69 | loss: 0.68198 |  0:00:08s\n",
      "epoch 70 | loss: 0.6821  |  0:00:08s\n",
      "epoch 71 | loss: 0.6829  |  0:00:08s\n",
      "epoch 72 | loss: 0.68365 |  0:00:09s\n",
      "epoch 73 | loss: 0.68243 |  0:00:09s\n",
      "epoch 74 | loss: 0.68314 |  0:00:09s\n",
      "epoch 75 | loss: 0.68053 |  0:00:09s\n",
      "epoch 76 | loss: 0.68162 |  0:00:09s\n",
      "epoch 77 | loss: 0.68326 |  0:00:09s\n",
      "epoch 78 | loss: 0.68006 |  0:00:09s\n",
      "epoch 79 | loss: 0.68238 |  0:00:09s\n",
      "epoch 80 | loss: 0.68238 |  0:00:10s\n",
      "epoch 81 | loss: 0.68248 |  0:00:10s\n",
      "epoch 82 | loss: 0.68146 |  0:00:10s\n",
      "epoch 83 | loss: 0.68074 |  0:00:10s\n",
      "epoch 84 | loss: 0.68165 |  0:00:10s\n",
      "epoch 85 | loss: 0.68154 |  0:00:10s\n",
      "epoch 86 | loss: 0.68063 |  0:00:10s\n",
      "epoch 87 | loss: 0.68073 |  0:00:10s\n",
      "epoch 88 | loss: 0.68235 |  0:00:11s\n",
      "epoch 89 | loss: 0.68085 |  0:00:11s\n",
      "epoch 90 | loss: 0.68273 |  0:00:11s\n",
      "epoch 91 | loss: 0.68045 |  0:00:11s\n",
      "epoch 92 | loss: 0.68183 |  0:00:11s\n",
      "epoch 93 | loss: 0.6805  |  0:00:11s\n",
      "epoch 94 | loss: 0.68136 |  0:00:11s\n",
      "epoch 95 | loss: 0.68126 |  0:00:11s\n",
      "epoch 96 | loss: 0.68063 |  0:00:12s\n",
      "epoch 97 | loss: 0.68169 |  0:00:12s\n",
      "epoch 98 | loss: 0.68072 |  0:00:12s\n",
      "epoch 99 | loss: 0.6783  |  0:00:12s\n"
     ]
    }
   ],
   "source": [
    "model.fit(train_X[:3000], train_y[:3000])"
   ]
  },
  {
   "cell_type": "code",
   "execution_count": 8,
   "id": "212e0f1d",
   "metadata": {},
   "outputs": [],
   "source": [
    "pred_test_y = model.predict(test_X)"
   ]
  },
  {
   "cell_type": "code",
   "execution_count": 9,
   "id": "91c110fd",
   "metadata": {},
   "outputs": [
    {
     "data": {
      "text/plain": [
       "0.5429997641694835"
      ]
     },
     "execution_count": 9,
     "metadata": {},
     "output_type": "execute_result"
    }
   ],
   "source": [
    "accuracy_score(pred_test_y, test_y)"
   ]
  },
  {
   "cell_type": "code",
   "execution_count": 10,
   "id": "7ee19cc5",
   "metadata": {},
   "outputs": [],
   "source": [
    "pred_y = model.predict(feature)"
   ]
  },
  {
   "cell_type": "code",
   "execution_count": 11,
   "id": "52d4f67a",
   "metadata": {},
   "outputs": [
    {
     "data": {
      "text/plain": [
       "0.5433543619676513"
      ]
     },
     "execution_count": 11,
     "metadata": {},
     "output_type": "execute_result"
    }
   ],
   "source": [
    "accuracy_score(pred_y, target)"
   ]
  },
  {
   "cell_type": "code",
   "execution_count": 12,
   "id": "dcd4757f",
   "metadata": {},
   "outputs": [
    {
     "name": "stdout",
     "output_type": "stream",
     "text": [
      "Successfully saved model at ../data/model/health_tabnet.zip\n"
     ]
    }
   ],
   "source": [
    "model.save_model(\"../data/model/health_tabnet\")"
   ]
  },
  {
   "cell_type": "code",
   "execution_count": null,
   "id": "fc4752a4",
   "metadata": {},
   "outputs": [],
   "source": []
  },
  {
   "cell_type": "code",
   "execution_count": 13,
   "id": "0899bbea",
   "metadata": {},
   "outputs": [],
   "source": [
    "# with open(\"../data/model/health_svm\", 'wb') as file:\n",
    "#     pickle.dump(model, file)"
   ]
  },
  {
   "cell_type": "code",
   "execution_count": null,
   "id": "04acced5",
   "metadata": {},
   "outputs": [],
   "source": []
  }
 ],
 "metadata": {
  "kernelspec": {
   "display_name": "dsc180",
   "language": "python",
   "name": "dsc180"
  },
  "language_info": {
   "codemirror_mode": {
    "name": "ipython",
    "version": 3
   },
   "file_extension": ".py",
   "mimetype": "text/x-python",
   "name": "python",
   "nbconvert_exporter": "python",
   "pygments_lexer": "ipython3",
   "version": "3.8.8"
  }
 },
 "nbformat": 4,
 "nbformat_minor": 5
}
