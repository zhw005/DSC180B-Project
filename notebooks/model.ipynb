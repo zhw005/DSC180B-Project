{
 "cells": [
  {
   "cell_type": "code",
   "execution_count": null,
   "id": "6c34a166",
   "metadata": {},
   "outputs": [],
   "source": [
    "from sklearn.svm import SVC\n",
    "from sklearn.model_selection import train_test_split\n",
    "from sklearn.metrics import accuracy_score\n",
    "from xgboost.sklearn import XGBClassifier\n",
    "# from lgbm import LGBMClassifier\n",
    "from tabnet import TabNetClassifier \n",
    "import pandas as pd\n",
    "import pickle"
   ]
  },
  {
   "cell_type": "code",
   "execution_count": null,
   "id": "a262247b",
   "metadata": {},
   "outputs": [],
   "source": [
    "# model = SVC()\n",
    "# model = XGBClassifier()\n",
    "# model = LGBMClassifier()\n",
    "model = TabNetClassifier()"
   ]
  },
  {
   "cell_type": "code",
   "execution_count": null,
   "id": "becf2bb4",
   "metadata": {},
   "outputs": [],
   "source": [
    "feature_dir = \"../data/airbnb/airbnb_features.csv\"\n",
    "target_dir = \"../data/airbnb/airbnb_target.csv\"\n",
    "model_save_dir = \"../data/airbnb/tab\""
   ]
  },
  {
   "cell_type": "code",
   "execution_count": null,
   "id": "f105cff0",
   "metadata": {},
   "outputs": [],
   "source": [
    "feature = pd.read_csv(feature_dir, index_col = 0)\n",
    "feature.head()"
   ]
  },
  {
   "cell_type": "code",
   "execution_count": null,
   "id": "e4d1140e",
   "metadata": {},
   "outputs": [],
   "source": [
    "target = pd.read_csv(target_dir, index_col = 0)\n",
    "target.head()"
   ]
  },
  {
   "cell_type": "code",
   "execution_count": null,
   "id": "0a824749",
   "metadata": {},
   "outputs": [],
   "source": [
    "train_X, test_X, train_y, test_y = train_test_split(feature, target, random_state = 42)\n",
    "len(train_X), len(test_X)"
   ]
  },
  {
   "cell_type": "code",
   "execution_count": null,
   "id": "cf1b7c82",
   "metadata": {},
   "outputs": [],
   "source": [
    "model = model.fit(train_X, train_y)"
   ]
  },
  {
   "cell_type": "code",
   "execution_count": null,
   "id": "548c33ad",
   "metadata": {},
   "outputs": [],
   "source": [
    "pred_test_y = model.predict(test_X)"
   ]
  },
  {
   "cell_type": "code",
   "execution_count": null,
   "id": "8eb353d4",
   "metadata": {},
   "outputs": [],
   "source": [
    "accuracy_score(pred_test_y, test_y)"
   ]
  },
  {
   "cell_type": "code",
   "execution_count": null,
   "id": "0f159fdb",
   "metadata": {},
   "outputs": [],
   "source": [
    "with open(model_save_dir, 'wb') as file:\n",
    "    pickle.dump(model, file)"
   ]
  },
  {
   "cell_type": "code",
   "execution_count": null,
   "id": "741835e7",
   "metadata": {},
   "outputs": [],
   "source": []
  }
 ],
 "metadata": {
  "kernelspec": {
   "display_name": "dsc180",
   "language": "python",
   "name": "dsc180"
  },
  "language_info": {
   "codemirror_mode": {
    "name": "ipython",
    "version": 3
   },
   "file_extension": ".py",
   "mimetype": "text/x-python",
   "name": "python",
   "nbconvert_exporter": "python",
   "pygments_lexer": "ipython3",
   "version": "3.8.8"
  }
 },
 "nbformat": 4,
 "nbformat_minor": 5
}
