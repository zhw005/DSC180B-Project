{
 "cells": [
  {
   "cell_type": "code",
   "execution_count": 1,
   "id": "c97bc1e3",
   "metadata": {},
   "outputs": [],
   "source": [
    "import os\n",
    "os.environ['KMP_DUPLICATE_LIB_OK']='True'\n",
    "from sklearn.model_selection import train_test_split\n",
    "from sklearn.metrics import accuracy_score\n",
    "from xgboost.sklearn import XGBClassifier\n",
    "import pandas as pd\n",
    "import pickle\n",
    "import zipfile"
   ]
  },
  {
   "cell_type": "markdown",
   "id": "9b5b5f8e",
   "metadata": {},
   "source": [
    "## Loan (Gender)\n",
    "https://fairware.cs.umass.edu/papers/Verma.pdf"
   ]
  },
  {
   "cell_type": "code",
   "execution_count": 2,
   "id": "f4c43c2e",
   "metadata": {},
   "outputs": [],
   "source": [
    "model = XGBClassifier()"
   ]
  },
  {
   "cell_type": "code",
   "execution_count": 3,
   "id": "54eb9d69",
   "metadata": {},
   "outputs": [],
   "source": [
    "loan_dir = '../data/feature_engineered_loan_data.csv.zip'\n",
    "model_save_dir = \"../data/output/tab\""
   ]
  },
  {
   "cell_type": "code",
   "execution_count": 4,
   "id": "7009cef5",
   "metadata": {},
   "outputs": [],
   "source": [
    "zf = zipfile.ZipFile(loan_dir) \n",
    "loan = pd.read_csv(zf.open('feature_engineered_loan_data.csv'))"
   ]
  },
  {
   "cell_type": "code",
   "execution_count": 5,
   "id": "14b7f9a4",
   "metadata": {},
   "outputs": [
    {
     "name": "stderr",
     "output_type": "stream",
     "text": [
      "/var/folders/s5/ysjjjszj3jj4ydswlqm14w100000gn/T/ipykernel_87797/169164214.py:1: FutureWarning: In a future version of pandas all arguments of DataFrame.drop except for the argument 'labels' will be keyword-only\n",
      "  feature = loan.drop(['Target','Unnamed: 0'], 1)\n"
     ]
    },
    {
     "data": {
      "text/html": [
       "<div>\n",
       "<style scoped>\n",
       "    .dataframe tbody tr th:only-of-type {\n",
       "        vertical-align: middle;\n",
       "    }\n",
       "\n",
       "    .dataframe tbody tr th {\n",
       "        vertical-align: top;\n",
       "    }\n",
       "\n",
       "    .dataframe thead th {\n",
       "        text-align: right;\n",
       "    }\n",
       "</style>\n",
       "<table border=\"1\" class=\"dataframe\">\n",
       "  <thead>\n",
       "    <tr style=\"text-align: right;\">\n",
       "      <th></th>\n",
       "      <th>NAME_CONTRACT_TYPE: Cash loans</th>\n",
       "      <th>NAME_CONTRACT_TYPE: Revolving loans</th>\n",
       "      <th>CODE_GENDER: F</th>\n",
       "      <th>CODE_GENDER: M</th>\n",
       "      <th>CODE_GENDER: XNA</th>\n",
       "      <th>FLAG_OWN_CAR: N</th>\n",
       "      <th>FLAG_OWN_CAR: Y</th>\n",
       "      <th>FLAG_OWN_REALTY: N</th>\n",
       "      <th>FLAG_OWN_REALTY: Y</th>\n",
       "      <th>NAME_TYPE_SUITE: Children</th>\n",
       "      <th>...</th>\n",
       "      <th>FLAG_DOCUMENT_18</th>\n",
       "      <th>FLAG_DOCUMENT_19</th>\n",
       "      <th>FLAG_DOCUMENT_20</th>\n",
       "      <th>FLAG_DOCUMENT_21</th>\n",
       "      <th>AMT_REQ_CREDIT_BUREAU_HOUR</th>\n",
       "      <th>AMT_REQ_CREDIT_BUREAU_DAY</th>\n",
       "      <th>AMT_REQ_CREDIT_BUREAU_WEEK</th>\n",
       "      <th>AMT_REQ_CREDIT_BUREAU_MON</th>\n",
       "      <th>AMT_REQ_CREDIT_BUREAU_QRT</th>\n",
       "      <th>AMT_REQ_CREDIT_BUREAU_YEAR</th>\n",
       "    </tr>\n",
       "  </thead>\n",
       "  <tbody>\n",
       "    <tr>\n",
       "      <th>0</th>\n",
       "      <td>1.0</td>\n",
       "      <td>0.0</td>\n",
       "      <td>0.0</td>\n",
       "      <td>1.0</td>\n",
       "      <td>0.0</td>\n",
       "      <td>1.0</td>\n",
       "      <td>0.0</td>\n",
       "      <td>0.0</td>\n",
       "      <td>1.0</td>\n",
       "      <td>0.0</td>\n",
       "      <td>...</td>\n",
       "      <td>0.0</td>\n",
       "      <td>0.0</td>\n",
       "      <td>0.0</td>\n",
       "      <td>0.0</td>\n",
       "      <td>0.0</td>\n",
       "      <td>0.0</td>\n",
       "      <td>0.0</td>\n",
       "      <td>0.0</td>\n",
       "      <td>0.0</td>\n",
       "      <td>1.0</td>\n",
       "    </tr>\n",
       "    <tr>\n",
       "      <th>1</th>\n",
       "      <td>1.0</td>\n",
       "      <td>0.0</td>\n",
       "      <td>1.0</td>\n",
       "      <td>0.0</td>\n",
       "      <td>0.0</td>\n",
       "      <td>1.0</td>\n",
       "      <td>0.0</td>\n",
       "      <td>1.0</td>\n",
       "      <td>0.0</td>\n",
       "      <td>0.0</td>\n",
       "      <td>...</td>\n",
       "      <td>0.0</td>\n",
       "      <td>0.0</td>\n",
       "      <td>0.0</td>\n",
       "      <td>0.0</td>\n",
       "      <td>0.0</td>\n",
       "      <td>0.0</td>\n",
       "      <td>0.0</td>\n",
       "      <td>0.0</td>\n",
       "      <td>0.0</td>\n",
       "      <td>0.0</td>\n",
       "    </tr>\n",
       "    <tr>\n",
       "      <th>2</th>\n",
       "      <td>0.0</td>\n",
       "      <td>1.0</td>\n",
       "      <td>0.0</td>\n",
       "      <td>1.0</td>\n",
       "      <td>0.0</td>\n",
       "      <td>0.0</td>\n",
       "      <td>1.0</td>\n",
       "      <td>0.0</td>\n",
       "      <td>1.0</td>\n",
       "      <td>0.0</td>\n",
       "      <td>...</td>\n",
       "      <td>0.0</td>\n",
       "      <td>0.0</td>\n",
       "      <td>0.0</td>\n",
       "      <td>0.0</td>\n",
       "      <td>0.0</td>\n",
       "      <td>0.0</td>\n",
       "      <td>0.0</td>\n",
       "      <td>0.0</td>\n",
       "      <td>0.0</td>\n",
       "      <td>0.0</td>\n",
       "    </tr>\n",
       "    <tr>\n",
       "      <th>3</th>\n",
       "      <td>1.0</td>\n",
       "      <td>0.0</td>\n",
       "      <td>1.0</td>\n",
       "      <td>0.0</td>\n",
       "      <td>0.0</td>\n",
       "      <td>1.0</td>\n",
       "      <td>0.0</td>\n",
       "      <td>0.0</td>\n",
       "      <td>1.0</td>\n",
       "      <td>0.0</td>\n",
       "      <td>...</td>\n",
       "      <td>0.0</td>\n",
       "      <td>0.0</td>\n",
       "      <td>0.0</td>\n",
       "      <td>0.0</td>\n",
       "      <td>0.0</td>\n",
       "      <td>0.0</td>\n",
       "      <td>0.0</td>\n",
       "      <td>0.0</td>\n",
       "      <td>0.0</td>\n",
       "      <td>0.0</td>\n",
       "    </tr>\n",
       "    <tr>\n",
       "      <th>4</th>\n",
       "      <td>1.0</td>\n",
       "      <td>0.0</td>\n",
       "      <td>0.0</td>\n",
       "      <td>1.0</td>\n",
       "      <td>0.0</td>\n",
       "      <td>1.0</td>\n",
       "      <td>0.0</td>\n",
       "      <td>0.0</td>\n",
       "      <td>1.0</td>\n",
       "      <td>0.0</td>\n",
       "      <td>...</td>\n",
       "      <td>0.0</td>\n",
       "      <td>0.0</td>\n",
       "      <td>0.0</td>\n",
       "      <td>0.0</td>\n",
       "      <td>0.0</td>\n",
       "      <td>0.0</td>\n",
       "      <td>0.0</td>\n",
       "      <td>0.0</td>\n",
       "      <td>0.0</td>\n",
       "      <td>0.0</td>\n",
       "    </tr>\n",
       "  </tbody>\n",
       "</table>\n",
       "<p>5 rows × 186 columns</p>\n",
       "</div>"
      ],
      "text/plain": [
       "   NAME_CONTRACT_TYPE: Cash loans  NAME_CONTRACT_TYPE: Revolving loans  \\\n",
       "0                             1.0                                  0.0   \n",
       "1                             1.0                                  0.0   \n",
       "2                             0.0                                  1.0   \n",
       "3                             1.0                                  0.0   \n",
       "4                             1.0                                  0.0   \n",
       "\n",
       "   CODE_GENDER: F  CODE_GENDER: M  CODE_GENDER: XNA  FLAG_OWN_CAR: N  \\\n",
       "0             0.0             1.0               0.0              1.0   \n",
       "1             1.0             0.0               0.0              1.0   \n",
       "2             0.0             1.0               0.0              0.0   \n",
       "3             1.0             0.0               0.0              1.0   \n",
       "4             0.0             1.0               0.0              1.0   \n",
       "\n",
       "   FLAG_OWN_CAR: Y  FLAG_OWN_REALTY: N  FLAG_OWN_REALTY: Y  \\\n",
       "0              0.0                 0.0                 1.0   \n",
       "1              0.0                 1.0                 0.0   \n",
       "2              1.0                 0.0                 1.0   \n",
       "3              0.0                 0.0                 1.0   \n",
       "4              0.0                 0.0                 1.0   \n",
       "\n",
       "   NAME_TYPE_SUITE: Children  ...  FLAG_DOCUMENT_18  FLAG_DOCUMENT_19  \\\n",
       "0                        0.0  ...               0.0               0.0   \n",
       "1                        0.0  ...               0.0               0.0   \n",
       "2                        0.0  ...               0.0               0.0   \n",
       "3                        0.0  ...               0.0               0.0   \n",
       "4                        0.0  ...               0.0               0.0   \n",
       "\n",
       "   FLAG_DOCUMENT_20  FLAG_DOCUMENT_21  AMT_REQ_CREDIT_BUREAU_HOUR  \\\n",
       "0               0.0               0.0                         0.0   \n",
       "1               0.0               0.0                         0.0   \n",
       "2               0.0               0.0                         0.0   \n",
       "3               0.0               0.0                         0.0   \n",
       "4               0.0               0.0                         0.0   \n",
       "\n",
       "   AMT_REQ_CREDIT_BUREAU_DAY  AMT_REQ_CREDIT_BUREAU_WEEK  \\\n",
       "0                        0.0                         0.0   \n",
       "1                        0.0                         0.0   \n",
       "2                        0.0                         0.0   \n",
       "3                        0.0                         0.0   \n",
       "4                        0.0                         0.0   \n",
       "\n",
       "   AMT_REQ_CREDIT_BUREAU_MON  AMT_REQ_CREDIT_BUREAU_QRT  \\\n",
       "0                        0.0                        0.0   \n",
       "1                        0.0                        0.0   \n",
       "2                        0.0                        0.0   \n",
       "3                        0.0                        0.0   \n",
       "4                        0.0                        0.0   \n",
       "\n",
       "   AMT_REQ_CREDIT_BUREAU_YEAR  \n",
       "0                         1.0  \n",
       "1                         0.0  \n",
       "2                         0.0  \n",
       "3                         0.0  \n",
       "4                         0.0  \n",
       "\n",
       "[5 rows x 186 columns]"
      ]
     },
     "execution_count": 5,
     "metadata": {},
     "output_type": "execute_result"
    }
   ],
   "source": [
    "feature = loan.drop(['Target','Unnamed: 0'], 1)\n",
    "feature.head()"
   ]
  },
  {
   "cell_type": "code",
   "execution_count": 6,
   "id": "fc68acaa",
   "metadata": {},
   "outputs": [
    {
     "data": {
      "text/html": [
       "<div>\n",
       "<style scoped>\n",
       "    .dataframe tbody tr th:only-of-type {\n",
       "        vertical-align: middle;\n",
       "    }\n",
       "\n",
       "    .dataframe tbody tr th {\n",
       "        vertical-align: top;\n",
       "    }\n",
       "\n",
       "    .dataframe thead th {\n",
       "        text-align: right;\n",
       "    }\n",
       "</style>\n",
       "<table border=\"1\" class=\"dataframe\">\n",
       "  <thead>\n",
       "    <tr style=\"text-align: right;\">\n",
       "      <th></th>\n",
       "      <th>Target</th>\n",
       "    </tr>\n",
       "  </thead>\n",
       "  <tbody>\n",
       "    <tr>\n",
       "      <th>0</th>\n",
       "      <td>1</td>\n",
       "    </tr>\n",
       "    <tr>\n",
       "      <th>1</th>\n",
       "      <td>0</td>\n",
       "    </tr>\n",
       "    <tr>\n",
       "      <th>2</th>\n",
       "      <td>0</td>\n",
       "    </tr>\n",
       "    <tr>\n",
       "      <th>3</th>\n",
       "      <td>0</td>\n",
       "    </tr>\n",
       "    <tr>\n",
       "      <th>4</th>\n",
       "      <td>0</td>\n",
       "    </tr>\n",
       "  </tbody>\n",
       "</table>\n",
       "</div>"
      ],
      "text/plain": [
       "   Target\n",
       "0       1\n",
       "1       0\n",
       "2       0\n",
       "3       0\n",
       "4       0"
      ]
     },
     "execution_count": 6,
     "metadata": {},
     "output_type": "execute_result"
    }
   ],
   "source": [
    "target = loan[['Target']]\n",
    "target.head()"
   ]
  },
  {
   "cell_type": "code",
   "execution_count": 7,
   "id": "63ce1a42",
   "metadata": {},
   "outputs": [
    {
     "data": {
      "text/plain": [
       "(230633, 76878)"
      ]
     },
     "execution_count": 7,
     "metadata": {},
     "output_type": "execute_result"
    }
   ],
   "source": [
    "train_X, test_X, train_y, test_y = train_test_split(feature, target, random_state = 42)\n",
    "len(train_X), len(test_X)"
   ]
  },
  {
   "cell_type": "code",
   "execution_count": 8,
   "id": "cf112df6",
   "metadata": {},
   "outputs": [
    {
     "name": "stderr",
     "output_type": "stream",
     "text": [
      "/opt/anaconda3/lib/python3.8/site-packages/xgboost/sklearn.py:1224: UserWarning: The use of label encoder in XGBClassifier is deprecated and will be removed in a future release. To remove this warning, do the following: 1) Pass option use_label_encoder=False when constructing XGBClassifier object; and 2) Encode your labels (y) as integers starting with 0, i.e. 0, 1, 2, ..., [num_class - 1].\n",
      "  warnings.warn(label_encoder_deprecation_msg, UserWarning)\n",
      "/opt/anaconda3/lib/python3.8/site-packages/sklearn/preprocessing/_label.py:98: DataConversionWarning: A column-vector y was passed when a 1d array was expected. Please change the shape of y to (n_samples, ), for example using ravel().\n",
      "  y = column_or_1d(y, warn=True)\n",
      "/opt/anaconda3/lib/python3.8/site-packages/sklearn/preprocessing/_label.py:133: DataConversionWarning: A column-vector y was passed when a 1d array was expected. Please change the shape of y to (n_samples, ), for example using ravel().\n",
      "  y = column_or_1d(y, warn=True)\n"
     ]
    },
    {
     "name": "stdout",
     "output_type": "stream",
     "text": [
      "[20:06:24] WARNING: /Users/runner/miniforge3/conda-bld/xgboost-split_1637426408905/work/src/learner.cc:1115: Starting in XGBoost 1.3.0, the default evaluation metric used with the objective 'binary:logistic' was changed from 'error' to 'logloss'. Explicitly set eval_metric if you'd like to restore the old behavior.\n"
     ]
    }
   ],
   "source": [
    "model = model.fit(train_X, train_y)"
   ]
  },
  {
   "cell_type": "code",
   "execution_count": 9,
   "id": "6f96050c",
   "metadata": {},
   "outputs": [],
   "source": [
    "pred_test_y = model.predict(test_X)"
   ]
  },
  {
   "cell_type": "code",
   "execution_count": 10,
   "id": "6654aad3",
   "metadata": {},
   "outputs": [
    {
     "data": {
      "text/plain": [
       "0.91928770259372"
      ]
     },
     "execution_count": 10,
     "metadata": {},
     "output_type": "execute_result"
    }
   ],
   "source": [
    "accuracy_score(pred_test_y, test_y)"
   ]
  },
  {
   "cell_type": "code",
   "execution_count": 19,
   "id": "7a5aee3f",
   "metadata": {},
   "outputs": [],
   "source": [
    "#['CODE_GENDER: M']"
   ]
  },
  {
   "cell_type": "code",
   "execution_count": 17,
   "id": "44b3bbf1",
   "metadata": {},
   "outputs": [
    {
     "data": {
      "text/html": [
       "<div>\n",
       "<style scoped>\n",
       "    .dataframe tbody tr th:only-of-type {\n",
       "        vertical-align: middle;\n",
       "    }\n",
       "\n",
       "    .dataframe tbody tr th {\n",
       "        vertical-align: top;\n",
       "    }\n",
       "\n",
       "    .dataframe thead th {\n",
       "        text-align: right;\n",
       "    }\n",
       "</style>\n",
       "<table border=\"1\" class=\"dataframe\">\n",
       "  <thead>\n",
       "    <tr style=\"text-align: right;\">\n",
       "      <th></th>\n",
       "      <th>NAME_CONTRACT_TYPE: Cash loans</th>\n",
       "      <th>NAME_CONTRACT_TYPE: Revolving loans</th>\n",
       "      <th>CODE_GENDER: F</th>\n",
       "      <th>CODE_GENDER: M</th>\n",
       "      <th>CODE_GENDER: XNA</th>\n",
       "      <th>FLAG_OWN_CAR: N</th>\n",
       "      <th>FLAG_OWN_CAR: Y</th>\n",
       "      <th>FLAG_OWN_REALTY: N</th>\n",
       "      <th>FLAG_OWN_REALTY: Y</th>\n",
       "      <th>NAME_TYPE_SUITE: Children</th>\n",
       "      <th>...</th>\n",
       "      <th>FLAG_DOCUMENT_18</th>\n",
       "      <th>FLAG_DOCUMENT_19</th>\n",
       "      <th>FLAG_DOCUMENT_20</th>\n",
       "      <th>FLAG_DOCUMENT_21</th>\n",
       "      <th>AMT_REQ_CREDIT_BUREAU_HOUR</th>\n",
       "      <th>AMT_REQ_CREDIT_BUREAU_DAY</th>\n",
       "      <th>AMT_REQ_CREDIT_BUREAU_WEEK</th>\n",
       "      <th>AMT_REQ_CREDIT_BUREAU_MON</th>\n",
       "      <th>AMT_REQ_CREDIT_BUREAU_QRT</th>\n",
       "      <th>AMT_REQ_CREDIT_BUREAU_YEAR</th>\n",
       "    </tr>\n",
       "  </thead>\n",
       "  <tbody>\n",
       "    <tr>\n",
       "      <th>245895</th>\n",
       "      <td>1.0</td>\n",
       "      <td>0.0</td>\n",
       "      <td>0.0</td>\n",
       "      <td>1.0</td>\n",
       "      <td>0.0</td>\n",
       "      <td>0.0</td>\n",
       "      <td>1.0</td>\n",
       "      <td>1.0</td>\n",
       "      <td>0.0</td>\n",
       "      <td>0.0</td>\n",
       "      <td>...</td>\n",
       "      <td>0.0</td>\n",
       "      <td>0.0</td>\n",
       "      <td>0.0</td>\n",
       "      <td>0.0</td>\n",
       "      <td>0.0</td>\n",
       "      <td>0.0</td>\n",
       "      <td>0.0</td>\n",
       "      <td>1.0</td>\n",
       "      <td>0.0</td>\n",
       "      <td>1.0</td>\n",
       "    </tr>\n",
       "    <tr>\n",
       "      <th>98194</th>\n",
       "      <td>1.0</td>\n",
       "      <td>0.0</td>\n",
       "      <td>1.0</td>\n",
       "      <td>0.0</td>\n",
       "      <td>0.0</td>\n",
       "      <td>0.0</td>\n",
       "      <td>1.0</td>\n",
       "      <td>0.0</td>\n",
       "      <td>1.0</td>\n",
       "      <td>0.0</td>\n",
       "      <td>...</td>\n",
       "      <td>0.0</td>\n",
       "      <td>0.0</td>\n",
       "      <td>0.0</td>\n",
       "      <td>0.0</td>\n",
       "      <td>0.0</td>\n",
       "      <td>0.0</td>\n",
       "      <td>0.0</td>\n",
       "      <td>1.0</td>\n",
       "      <td>0.0</td>\n",
       "      <td>3.0</td>\n",
       "    </tr>\n",
       "    <tr>\n",
       "      <th>36463</th>\n",
       "      <td>1.0</td>\n",
       "      <td>0.0</td>\n",
       "      <td>1.0</td>\n",
       "      <td>0.0</td>\n",
       "      <td>0.0</td>\n",
       "      <td>0.0</td>\n",
       "      <td>1.0</td>\n",
       "      <td>1.0</td>\n",
       "      <td>0.0</td>\n",
       "      <td>0.0</td>\n",
       "      <td>...</td>\n",
       "      <td>0.0</td>\n",
       "      <td>0.0</td>\n",
       "      <td>0.0</td>\n",
       "      <td>0.0</td>\n",
       "      <td>0.0</td>\n",
       "      <td>0.0</td>\n",
       "      <td>0.0</td>\n",
       "      <td>1.0</td>\n",
       "      <td>0.0</td>\n",
       "      <td>3.0</td>\n",
       "    </tr>\n",
       "    <tr>\n",
       "      <th>249923</th>\n",
       "      <td>1.0</td>\n",
       "      <td>0.0</td>\n",
       "      <td>1.0</td>\n",
       "      <td>0.0</td>\n",
       "      <td>0.0</td>\n",
       "      <td>1.0</td>\n",
       "      <td>0.0</td>\n",
       "      <td>0.0</td>\n",
       "      <td>1.0</td>\n",
       "      <td>0.0</td>\n",
       "      <td>...</td>\n",
       "      <td>0.0</td>\n",
       "      <td>0.0</td>\n",
       "      <td>0.0</td>\n",
       "      <td>0.0</td>\n",
       "      <td>0.0</td>\n",
       "      <td>0.0</td>\n",
       "      <td>0.0</td>\n",
       "      <td>0.0</td>\n",
       "      <td>0.0</td>\n",
       "      <td>0.0</td>\n",
       "    </tr>\n",
       "    <tr>\n",
       "      <th>158389</th>\n",
       "      <td>1.0</td>\n",
       "      <td>0.0</td>\n",
       "      <td>0.0</td>\n",
       "      <td>1.0</td>\n",
       "      <td>0.0</td>\n",
       "      <td>1.0</td>\n",
       "      <td>0.0</td>\n",
       "      <td>0.0</td>\n",
       "      <td>1.0</td>\n",
       "      <td>0.0</td>\n",
       "      <td>...</td>\n",
       "      <td>0.0</td>\n",
       "      <td>0.0</td>\n",
       "      <td>0.0</td>\n",
       "      <td>0.0</td>\n",
       "      <td>0.0</td>\n",
       "      <td>0.0</td>\n",
       "      <td>0.0</td>\n",
       "      <td>0.0</td>\n",
       "      <td>0.0</td>\n",
       "      <td>4.0</td>\n",
       "    </tr>\n",
       "    <tr>\n",
       "      <th>...</th>\n",
       "      <td>...</td>\n",
       "      <td>...</td>\n",
       "      <td>...</td>\n",
       "      <td>...</td>\n",
       "      <td>...</td>\n",
       "      <td>...</td>\n",
       "      <td>...</td>\n",
       "      <td>...</td>\n",
       "      <td>...</td>\n",
       "      <td>...</td>\n",
       "      <td>...</td>\n",
       "      <td>...</td>\n",
       "      <td>...</td>\n",
       "      <td>...</td>\n",
       "      <td>...</td>\n",
       "      <td>...</td>\n",
       "      <td>...</td>\n",
       "      <td>...</td>\n",
       "      <td>...</td>\n",
       "      <td>...</td>\n",
       "      <td>...</td>\n",
       "    </tr>\n",
       "    <tr>\n",
       "      <th>77581</th>\n",
       "      <td>1.0</td>\n",
       "      <td>0.0</td>\n",
       "      <td>0.0</td>\n",
       "      <td>1.0</td>\n",
       "      <td>0.0</td>\n",
       "      <td>1.0</td>\n",
       "      <td>0.0</td>\n",
       "      <td>0.0</td>\n",
       "      <td>1.0</td>\n",
       "      <td>0.0</td>\n",
       "      <td>...</td>\n",
       "      <td>0.0</td>\n",
       "      <td>0.0</td>\n",
       "      <td>0.0</td>\n",
       "      <td>0.0</td>\n",
       "      <td>0.0</td>\n",
       "      <td>0.0</td>\n",
       "      <td>0.0</td>\n",
       "      <td>3.0</td>\n",
       "      <td>0.0</td>\n",
       "      <td>1.0</td>\n",
       "    </tr>\n",
       "    <tr>\n",
       "      <th>16991</th>\n",
       "      <td>1.0</td>\n",
       "      <td>0.0</td>\n",
       "      <td>0.0</td>\n",
       "      <td>1.0</td>\n",
       "      <td>0.0</td>\n",
       "      <td>1.0</td>\n",
       "      <td>0.0</td>\n",
       "      <td>1.0</td>\n",
       "      <td>0.0</td>\n",
       "      <td>0.0</td>\n",
       "      <td>...</td>\n",
       "      <td>0.0</td>\n",
       "      <td>0.0</td>\n",
       "      <td>0.0</td>\n",
       "      <td>0.0</td>\n",
       "      <td>0.0</td>\n",
       "      <td>0.0</td>\n",
       "      <td>0.0</td>\n",
       "      <td>0.0</td>\n",
       "      <td>0.0</td>\n",
       "      <td>0.0</td>\n",
       "    </tr>\n",
       "    <tr>\n",
       "      <th>114630</th>\n",
       "      <td>1.0</td>\n",
       "      <td>0.0</td>\n",
       "      <td>0.0</td>\n",
       "      <td>1.0</td>\n",
       "      <td>0.0</td>\n",
       "      <td>0.0</td>\n",
       "      <td>1.0</td>\n",
       "      <td>0.0</td>\n",
       "      <td>1.0</td>\n",
       "      <td>0.0</td>\n",
       "      <td>...</td>\n",
       "      <td>0.0</td>\n",
       "      <td>0.0</td>\n",
       "      <td>0.0</td>\n",
       "      <td>0.0</td>\n",
       "      <td>0.0</td>\n",
       "      <td>0.0</td>\n",
       "      <td>0.0</td>\n",
       "      <td>0.0</td>\n",
       "      <td>2.0</td>\n",
       "      <td>4.0</td>\n",
       "    </tr>\n",
       "    <tr>\n",
       "      <th>158100</th>\n",
       "      <td>1.0</td>\n",
       "      <td>0.0</td>\n",
       "      <td>1.0</td>\n",
       "      <td>0.0</td>\n",
       "      <td>0.0</td>\n",
       "      <td>1.0</td>\n",
       "      <td>0.0</td>\n",
       "      <td>0.0</td>\n",
       "      <td>1.0</td>\n",
       "      <td>0.0</td>\n",
       "      <td>...</td>\n",
       "      <td>0.0</td>\n",
       "      <td>0.0</td>\n",
       "      <td>0.0</td>\n",
       "      <td>0.0</td>\n",
       "      <td>0.0</td>\n",
       "      <td>0.0</td>\n",
       "      <td>0.0</td>\n",
       "      <td>0.0</td>\n",
       "      <td>0.0</td>\n",
       "      <td>0.0</td>\n",
       "    </tr>\n",
       "    <tr>\n",
       "      <th>247813</th>\n",
       "      <td>1.0</td>\n",
       "      <td>0.0</td>\n",
       "      <td>1.0</td>\n",
       "      <td>0.0</td>\n",
       "      <td>0.0</td>\n",
       "      <td>1.0</td>\n",
       "      <td>0.0</td>\n",
       "      <td>0.0</td>\n",
       "      <td>1.0</td>\n",
       "      <td>0.0</td>\n",
       "      <td>...</td>\n",
       "      <td>0.0</td>\n",
       "      <td>0.0</td>\n",
       "      <td>0.0</td>\n",
       "      <td>0.0</td>\n",
       "      <td>0.0</td>\n",
       "      <td>0.0</td>\n",
       "      <td>0.0</td>\n",
       "      <td>0.0</td>\n",
       "      <td>0.0</td>\n",
       "      <td>2.0</td>\n",
       "    </tr>\n",
       "  </tbody>\n",
       "</table>\n",
       "<p>76878 rows × 186 columns</p>\n",
       "</div>"
      ],
      "text/plain": [
       "        NAME_CONTRACT_TYPE: Cash loans  NAME_CONTRACT_TYPE: Revolving loans  \\\n",
       "245895                             1.0                                  0.0   \n",
       "98194                              1.0                                  0.0   \n",
       "36463                              1.0                                  0.0   \n",
       "249923                             1.0                                  0.0   \n",
       "158389                             1.0                                  0.0   \n",
       "...                                ...                                  ...   \n",
       "77581                              1.0                                  0.0   \n",
       "16991                              1.0                                  0.0   \n",
       "114630                             1.0                                  0.0   \n",
       "158100                             1.0                                  0.0   \n",
       "247813                             1.0                                  0.0   \n",
       "\n",
       "        CODE_GENDER: F  CODE_GENDER: M  CODE_GENDER: XNA  FLAG_OWN_CAR: N  \\\n",
       "245895             0.0             1.0               0.0              0.0   \n",
       "98194              1.0             0.0               0.0              0.0   \n",
       "36463              1.0             0.0               0.0              0.0   \n",
       "249923             1.0             0.0               0.0              1.0   \n",
       "158389             0.0             1.0               0.0              1.0   \n",
       "...                ...             ...               ...              ...   \n",
       "77581              0.0             1.0               0.0              1.0   \n",
       "16991              0.0             1.0               0.0              1.0   \n",
       "114630             0.0             1.0               0.0              0.0   \n",
       "158100             1.0             0.0               0.0              1.0   \n",
       "247813             1.0             0.0               0.0              1.0   \n",
       "\n",
       "        FLAG_OWN_CAR: Y  FLAG_OWN_REALTY: N  FLAG_OWN_REALTY: Y  \\\n",
       "245895              1.0                 1.0                 0.0   \n",
       "98194               1.0                 0.0                 1.0   \n",
       "36463               1.0                 1.0                 0.0   \n",
       "249923              0.0                 0.0                 1.0   \n",
       "158389              0.0                 0.0                 1.0   \n",
       "...                 ...                 ...                 ...   \n",
       "77581               0.0                 0.0                 1.0   \n",
       "16991               0.0                 1.0                 0.0   \n",
       "114630              1.0                 0.0                 1.0   \n",
       "158100              0.0                 0.0                 1.0   \n",
       "247813              0.0                 0.0                 1.0   \n",
       "\n",
       "        NAME_TYPE_SUITE: Children  ...  FLAG_DOCUMENT_18  FLAG_DOCUMENT_19  \\\n",
       "245895                        0.0  ...               0.0               0.0   \n",
       "98194                         0.0  ...               0.0               0.0   \n",
       "36463                         0.0  ...               0.0               0.0   \n",
       "249923                        0.0  ...               0.0               0.0   \n",
       "158389                        0.0  ...               0.0               0.0   \n",
       "...                           ...  ...               ...               ...   \n",
       "77581                         0.0  ...               0.0               0.0   \n",
       "16991                         0.0  ...               0.0               0.0   \n",
       "114630                        0.0  ...               0.0               0.0   \n",
       "158100                        0.0  ...               0.0               0.0   \n",
       "247813                        0.0  ...               0.0               0.0   \n",
       "\n",
       "        FLAG_DOCUMENT_20  FLAG_DOCUMENT_21  AMT_REQ_CREDIT_BUREAU_HOUR  \\\n",
       "245895               0.0               0.0                         0.0   \n",
       "98194                0.0               0.0                         0.0   \n",
       "36463                0.0               0.0                         0.0   \n",
       "249923               0.0               0.0                         0.0   \n",
       "158389               0.0               0.0                         0.0   \n",
       "...                  ...               ...                         ...   \n",
       "77581                0.0               0.0                         0.0   \n",
       "16991                0.0               0.0                         0.0   \n",
       "114630               0.0               0.0                         0.0   \n",
       "158100               0.0               0.0                         0.0   \n",
       "247813               0.0               0.0                         0.0   \n",
       "\n",
       "        AMT_REQ_CREDIT_BUREAU_DAY  AMT_REQ_CREDIT_BUREAU_WEEK  \\\n",
       "245895                        0.0                         0.0   \n",
       "98194                         0.0                         0.0   \n",
       "36463                         0.0                         0.0   \n",
       "249923                        0.0                         0.0   \n",
       "158389                        0.0                         0.0   \n",
       "...                           ...                         ...   \n",
       "77581                         0.0                         0.0   \n",
       "16991                         0.0                         0.0   \n",
       "114630                        0.0                         0.0   \n",
       "158100                        0.0                         0.0   \n",
       "247813                        0.0                         0.0   \n",
       "\n",
       "        AMT_REQ_CREDIT_BUREAU_MON  AMT_REQ_CREDIT_BUREAU_QRT  \\\n",
       "245895                        1.0                        0.0   \n",
       "98194                         1.0                        0.0   \n",
       "36463                         1.0                        0.0   \n",
       "249923                        0.0                        0.0   \n",
       "158389                        0.0                        0.0   \n",
       "...                           ...                        ...   \n",
       "77581                         3.0                        0.0   \n",
       "16991                         0.0                        0.0   \n",
       "114630                        0.0                        2.0   \n",
       "158100                        0.0                        0.0   \n",
       "247813                        0.0                        0.0   \n",
       "\n",
       "        AMT_REQ_CREDIT_BUREAU_YEAR  \n",
       "245895                         1.0  \n",
       "98194                          3.0  \n",
       "36463                          3.0  \n",
       "249923                         0.0  \n",
       "158389                         4.0  \n",
       "...                            ...  \n",
       "77581                          1.0  \n",
       "16991                          0.0  \n",
       "114630                         4.0  \n",
       "158100                         0.0  \n",
       "247813                         2.0  \n",
       "\n",
       "[76878 rows x 186 columns]"
      ]
     },
     "execution_count": 17,
     "metadata": {},
     "output_type": "execute_result"
    }
   ],
   "source": [
    "test_X"
   ]
  },
  {
   "cell_type": "code",
   "execution_count": 20,
   "id": "287c8e6c",
   "metadata": {},
   "outputs": [
    {
     "data": {
      "text/plain": [
       "array([0, 0, 0, ..., 0, 0, 0])"
      ]
     },
     "execution_count": 20,
     "metadata": {},
     "output_type": "execute_result"
    }
   ],
   "source": [
    "pred_test_y"
   ]
  },
  {
   "cell_type": "code",
   "execution_count": 27,
   "id": "25de80dc",
   "metadata": {},
   "outputs": [],
   "source": [
    "fairness_df = test_X.copy()"
   ]
  },
  {
   "cell_type": "code",
   "execution_count": 28,
   "id": "14d5611f",
   "metadata": {},
   "outputs": [],
   "source": [
    "fairness_df['Predicted_Outcome'] = pred_test_y"
   ]
  },
  {
   "cell_type": "code",
   "execution_count": 45,
   "id": "e559297b",
   "metadata": {},
   "outputs": [],
   "source": [
    "fairness_df['Actual_Outcome'] = test_y"
   ]
  },
  {
   "cell_type": "markdown",
   "id": "1e94e57e",
   "metadata": {},
   "source": [
    "### Group Fairness: P(d =1|G = m) = P(d = 1|G = f ) ?\n",
    "male: 0.0078\n",
    "female: 0.0032"
   ]
  },
  {
   "cell_type": "markdown",
   "id": "14871e5e",
   "metadata": {},
   "source": [
    "#### Male"
   ]
  },
  {
   "cell_type": "code",
   "execution_count": 39,
   "id": "e59cb703",
   "metadata": {},
   "outputs": [
    {
     "data": {
      "text/plain": [
       "26088"
      ]
     },
     "execution_count": 39,
     "metadata": {},
     "output_type": "execute_result"
    }
   ],
   "source": [
    "fairness_df[fairness_df['CODE_GENDER: F'] == 0].shape[0]"
   ]
  },
  {
   "cell_type": "code",
   "execution_count": 35,
   "id": "62218a4d",
   "metadata": {},
   "outputs": [
    {
     "data": {
      "text/plain": [
       "205"
      ]
     },
     "execution_count": 35,
     "metadata": {},
     "output_type": "execute_result"
    }
   ],
   "source": [
    "fairness_df[fairness_df['CODE_GENDER: F'] == 0]['Predicted_Outcome'].sum()"
   ]
  },
  {
   "cell_type": "code",
   "execution_count": 40,
   "id": "6190057e",
   "metadata": {},
   "outputs": [
    {
     "data": {
      "text/plain": [
       "0.00785801901257283"
      ]
     },
     "execution_count": 40,
     "metadata": {},
     "output_type": "execute_result"
    }
   ],
   "source": [
    "205 / 26088"
   ]
  },
  {
   "cell_type": "markdown",
   "id": "c4720b94",
   "metadata": {},
   "source": [
    "#### Female"
   ]
  },
  {
   "cell_type": "code",
   "execution_count": 41,
   "id": "043ddd05",
   "metadata": {},
   "outputs": [
    {
     "data": {
      "text/plain": [
       "50790"
      ]
     },
     "execution_count": 41,
     "metadata": {},
     "output_type": "execute_result"
    }
   ],
   "source": [
    "fairness_df[fairness_df['CODE_GENDER: F'] == 1].shape[0]"
   ]
  },
  {
   "cell_type": "code",
   "execution_count": 42,
   "id": "dbd2f9bb",
   "metadata": {},
   "outputs": [
    {
     "data": {
      "text/plain": [
       "161"
      ]
     },
     "execution_count": 42,
     "metadata": {},
     "output_type": "execute_result"
    }
   ],
   "source": [
    "fairness_df[fairness_df['CODE_GENDER: F'] == 1]['Predicted_Outcome'].sum()"
   ]
  },
  {
   "cell_type": "code",
   "execution_count": 43,
   "id": "e3b5aee9",
   "metadata": {},
   "outputs": [
    {
     "data": {
      "text/plain": [
       "0.0031699153376648945"
      ]
     },
     "execution_count": 43,
     "metadata": {},
     "output_type": "execute_result"
    }
   ],
   "source": [
    "161 / 50790"
   ]
  },
  {
   "cell_type": "markdown",
   "id": "0d6bd927",
   "metadata": {},
   "source": [
    "### Predictive parity \n",
    "male: 0.459\n",
    "female: 0.509"
   ]
  },
  {
   "cell_type": "markdown",
   "id": "760b9dfb",
   "metadata": {},
   "source": [
    "#### Male"
   ]
  },
  {
   "cell_type": "code",
   "execution_count": 56,
   "id": "4f51a0dd",
   "metadata": {},
   "outputs": [
    {
     "name": "stderr",
     "output_type": "stream",
     "text": [
      "/var/folders/s5/ysjjjszj3jj4ydswlqm14w100000gn/T/ipykernel_87797/1449339335.py:1: UserWarning: Boolean Series key will be reindexed to match DataFrame index.\n",
      "  fairness_df[fairness_df['CODE_GENDER: F'] == 0][fairness_df['Predicted_Outcome'] == 1].shape[0]\n"
     ]
    },
    {
     "data": {
      "text/plain": [
       "205"
      ]
     },
     "execution_count": 56,
     "metadata": {},
     "output_type": "execute_result"
    }
   ],
   "source": [
    "fairness_df[fairness_df['CODE_GENDER: F'] == 0][fairness_df['Predicted_Outcome'] == 1].shape[0]"
   ]
  },
  {
   "cell_type": "code",
   "execution_count": 57,
   "id": "53ab5f5d",
   "metadata": {},
   "outputs": [
    {
     "name": "stderr",
     "output_type": "stream",
     "text": [
      "/var/folders/s5/ysjjjszj3jj4ydswlqm14w100000gn/T/ipykernel_87797/3875533690.py:1: UserWarning: Boolean Series key will be reindexed to match DataFrame index.\n",
      "  fairness_df[fairness_df['CODE_GENDER: F'] == 0][fairness_df['Predicted_Outcome'] == 1]['Actual_Outcome'].sum()\n"
     ]
    },
    {
     "data": {
      "text/plain": [
       "94"
      ]
     },
     "execution_count": 57,
     "metadata": {},
     "output_type": "execute_result"
    }
   ],
   "source": [
    "fairness_df[fairness_df['CODE_GENDER: F'] == 0][fairness_df['Predicted_Outcome'] == 1]['Actual_Outcome'].sum()"
   ]
  },
  {
   "cell_type": "code",
   "execution_count": 59,
   "id": "4984db77",
   "metadata": {},
   "outputs": [
    {
     "data": {
      "text/plain": [
       "0.4585365853658537"
      ]
     },
     "execution_count": 59,
     "metadata": {},
     "output_type": "execute_result"
    }
   ],
   "source": [
    "94 / 205"
   ]
  },
  {
   "cell_type": "markdown",
   "id": "38e55e3e",
   "metadata": {},
   "source": [
    "#### Female"
   ]
  },
  {
   "cell_type": "code",
   "execution_count": 60,
   "id": "b6db4bd9",
   "metadata": {},
   "outputs": [
    {
     "name": "stderr",
     "output_type": "stream",
     "text": [
      "/var/folders/s5/ysjjjszj3jj4ydswlqm14w100000gn/T/ipykernel_87797/1027064750.py:1: UserWarning: Boolean Series key will be reindexed to match DataFrame index.\n",
      "  fairness_df[fairness_df['CODE_GENDER: F'] == 1][fairness_df['Predicted_Outcome'] == 1].shape[0]\n"
     ]
    },
    {
     "data": {
      "text/plain": [
       "161"
      ]
     },
     "execution_count": 60,
     "metadata": {},
     "output_type": "execute_result"
    }
   ],
   "source": [
    "fairness_df[fairness_df['CODE_GENDER: F'] == 1][fairness_df['Predicted_Outcome'] == 1].shape[0]"
   ]
  },
  {
   "cell_type": "code",
   "execution_count": 61,
   "id": "de28d87f",
   "metadata": {},
   "outputs": [
    {
     "name": "stderr",
     "output_type": "stream",
     "text": [
      "/var/folders/s5/ysjjjszj3jj4ydswlqm14w100000gn/T/ipykernel_87797/4192539009.py:1: UserWarning: Boolean Series key will be reindexed to match DataFrame index.\n",
      "  fairness_df[fairness_df['CODE_GENDER: F'] == 1][fairness_df['Predicted_Outcome'] == 1]['Actual_Outcome'].sum()\n"
     ]
    },
    {
     "data": {
      "text/plain": [
       "82"
      ]
     },
     "execution_count": 61,
     "metadata": {},
     "output_type": "execute_result"
    }
   ],
   "source": [
    "fairness_df[fairness_df['CODE_GENDER: F'] == 1][fairness_df['Predicted_Outcome'] == 1]['Actual_Outcome'].sum()"
   ]
  },
  {
   "cell_type": "code",
   "execution_count": 62,
   "id": "8063d941",
   "metadata": {},
   "outputs": [
    {
     "data": {
      "text/plain": [
       "0.5093167701863354"
      ]
     },
     "execution_count": 62,
     "metadata": {},
     "output_type": "execute_result"
    }
   ],
   "source": [
    "82 / 161"
   ]
  },
  {
   "cell_type": "markdown",
   "id": "46278c05",
   "metadata": {},
   "source": [
    "### False positive error rate balance\n",
    "male: 0.0047\n",
    "female: 0.0017"
   ]
  },
  {
   "cell_type": "markdown",
   "id": "ae61f6f2",
   "metadata": {},
   "source": [
    "#### Male"
   ]
  },
  {
   "cell_type": "code",
   "execution_count": 63,
   "id": "daab647a",
   "metadata": {},
   "outputs": [
    {
     "name": "stderr",
     "output_type": "stream",
     "text": [
      "/var/folders/s5/ysjjjszj3jj4ydswlqm14w100000gn/T/ipykernel_87797/3960245532.py:1: UserWarning: Boolean Series key will be reindexed to match DataFrame index.\n",
      "  fairness_df[fairness_df['CODE_GENDER: F'] == 0][fairness_df['Actual_Outcome'] == 0].shape[0]\n"
     ]
    },
    {
     "data": {
      "text/plain": [
       "23445"
      ]
     },
     "execution_count": 63,
     "metadata": {},
     "output_type": "execute_result"
    }
   ],
   "source": [
    "fairness_df[fairness_df['CODE_GENDER: F'] == 0][fairness_df['Actual_Outcome'] == 0].shape[0]"
   ]
  },
  {
   "cell_type": "code",
   "execution_count": 64,
   "id": "cca9a0a4",
   "metadata": {},
   "outputs": [
    {
     "name": "stderr",
     "output_type": "stream",
     "text": [
      "/var/folders/s5/ysjjjszj3jj4ydswlqm14w100000gn/T/ipykernel_87797/693973679.py:1: UserWarning: Boolean Series key will be reindexed to match DataFrame index.\n",
      "  fairness_df[fairness_df['CODE_GENDER: F'] == 0][fairness_df['Actual_Outcome'] == 0]['Predicted_Outcome'].sum()\n"
     ]
    },
    {
     "data": {
      "text/plain": [
       "111"
      ]
     },
     "execution_count": 64,
     "metadata": {},
     "output_type": "execute_result"
    }
   ],
   "source": [
    "fairness_df[fairness_df['CODE_GENDER: F'] == 0][fairness_df['Actual_Outcome'] == 0]['Predicted_Outcome'].sum()"
   ]
  },
  {
   "cell_type": "code",
   "execution_count": 65,
   "id": "fa6a83e8",
   "metadata": {},
   "outputs": [
    {
     "data": {
      "text/plain": [
       "0.00473448496481126"
      ]
     },
     "execution_count": 65,
     "metadata": {},
     "output_type": "execute_result"
    }
   ],
   "source": [
    "111 / 23445"
   ]
  },
  {
   "cell_type": "markdown",
   "id": "38a626cb",
   "metadata": {},
   "source": [
    "#### Female"
   ]
  },
  {
   "cell_type": "code",
   "execution_count": 66,
   "id": "582014dc",
   "metadata": {},
   "outputs": [
    {
     "name": "stderr",
     "output_type": "stream",
     "text": [
      "/var/folders/s5/ysjjjszj3jj4ydswlqm14w100000gn/T/ipykernel_87797/2992648255.py:1: UserWarning: Boolean Series key will be reindexed to match DataFrame index.\n",
      "  fairness_df[fairness_df['CODE_GENDER: F'] == 1][fairness_df['Actual_Outcome'] == 0].shape[0]\n"
     ]
    },
    {
     "data": {
      "text/plain": [
       "47242"
      ]
     },
     "execution_count": 66,
     "metadata": {},
     "output_type": "execute_result"
    }
   ],
   "source": [
    "fairness_df[fairness_df['CODE_GENDER: F'] == 1][fairness_df['Actual_Outcome'] == 0].shape[0]"
   ]
  },
  {
   "cell_type": "code",
   "execution_count": 67,
   "id": "3c54f4a0",
   "metadata": {},
   "outputs": [
    {
     "name": "stderr",
     "output_type": "stream",
     "text": [
      "/var/folders/s5/ysjjjszj3jj4ydswlqm14w100000gn/T/ipykernel_87797/4129911047.py:1: UserWarning: Boolean Series key will be reindexed to match DataFrame index.\n",
      "  fairness_df[fairness_df['CODE_GENDER: F'] == 1][fairness_df['Actual_Outcome'] == 0]['Predicted_Outcome'].sum()\n"
     ]
    },
    {
     "data": {
      "text/plain": [
       "79"
      ]
     },
     "execution_count": 67,
     "metadata": {},
     "output_type": "execute_result"
    }
   ],
   "source": [
    "fairness_df[fairness_df['CODE_GENDER: F'] == 1][fairness_df['Actual_Outcome'] == 0]['Predicted_Outcome'].sum()"
   ]
  },
  {
   "cell_type": "code",
   "execution_count": 68,
   "id": "c2959e86",
   "metadata": {},
   "outputs": [
    {
     "data": {
      "text/plain": [
       "0.0016722408026755853"
      ]
     },
     "execution_count": 68,
     "metadata": {},
     "output_type": "execute_result"
    }
   ],
   "source": [
    "79 / 47242"
   ]
  },
  {
   "cell_type": "markdown",
   "id": "30169ebe",
   "metadata": {},
   "source": [
    "### False negative error rate balance\n",
    "male: 0.96\n",
    "female: 0.98"
   ]
  },
  {
   "cell_type": "markdown",
   "id": "8f9ee33c",
   "metadata": {},
   "source": [
    "#### Male"
   ]
  },
  {
   "cell_type": "code",
   "execution_count": 69,
   "id": "a2abf92f",
   "metadata": {},
   "outputs": [
    {
     "name": "stderr",
     "output_type": "stream",
     "text": [
      "/var/folders/s5/ysjjjszj3jj4ydswlqm14w100000gn/T/ipykernel_87797/3742540341.py:1: UserWarning: Boolean Series key will be reindexed to match DataFrame index.\n",
      "  fairness_df[fairness_df['CODE_GENDER: F'] == 0][fairness_df['Actual_Outcome'] == 1].shape[0]\n"
     ]
    },
    {
     "data": {
      "text/plain": [
       "2643"
      ]
     },
     "execution_count": 69,
     "metadata": {},
     "output_type": "execute_result"
    }
   ],
   "source": [
    "fairness_df[fairness_df['CODE_GENDER: F'] == 0][fairness_df['Actual_Outcome'] == 1].shape[0]"
   ]
  },
  {
   "cell_type": "code",
   "execution_count": 70,
   "id": "ec243a42",
   "metadata": {},
   "outputs": [
    {
     "name": "stderr",
     "output_type": "stream",
     "text": [
      "/var/folders/s5/ysjjjszj3jj4ydswlqm14w100000gn/T/ipykernel_87797/1401204395.py:1: UserWarning: Boolean Series key will be reindexed to match DataFrame index.\n",
      "  fairness_df[fairness_df['CODE_GENDER: F'] == 0][fairness_df['Actual_Outcome'] == 1]['Predicted_Outcome'].sum()\n"
     ]
    },
    {
     "data": {
      "text/plain": [
       "94"
      ]
     },
     "execution_count": 70,
     "metadata": {},
     "output_type": "execute_result"
    }
   ],
   "source": [
    "fairness_df[fairness_df['CODE_GENDER: F'] == 0][fairness_df['Actual_Outcome'] == 1]['Predicted_Outcome'].sum()"
   ]
  },
  {
   "cell_type": "code",
   "execution_count": 75,
   "id": "f5389cc4",
   "metadata": {},
   "outputs": [
    {
     "data": {
      "text/plain": [
       "0.9644343548997352"
      ]
     },
     "execution_count": 75,
     "metadata": {},
     "output_type": "execute_result"
    }
   ],
   "source": [
    "(2643 - 94) / 2643"
   ]
  },
  {
   "cell_type": "markdown",
   "id": "bd7619ae",
   "metadata": {},
   "source": [
    "#### Female"
   ]
  },
  {
   "cell_type": "code",
   "execution_count": 72,
   "id": "76d923b1",
   "metadata": {},
   "outputs": [
    {
     "name": "stderr",
     "output_type": "stream",
     "text": [
      "/var/folders/s5/ysjjjszj3jj4ydswlqm14w100000gn/T/ipykernel_87797/4159985694.py:1: UserWarning: Boolean Series key will be reindexed to match DataFrame index.\n",
      "  fairness_df[fairness_df['CODE_GENDER: F'] == 1][fairness_df['Actual_Outcome'] == 1].shape[0]\n"
     ]
    },
    {
     "data": {
      "text/plain": [
       "3548"
      ]
     },
     "execution_count": 72,
     "metadata": {},
     "output_type": "execute_result"
    }
   ],
   "source": [
    "fairness_df[fairness_df['CODE_GENDER: F'] == 1][fairness_df['Actual_Outcome'] == 1].shape[0]"
   ]
  },
  {
   "cell_type": "code",
   "execution_count": 73,
   "id": "d08c7949",
   "metadata": {},
   "outputs": [
    {
     "name": "stderr",
     "output_type": "stream",
     "text": [
      "/var/folders/s5/ysjjjszj3jj4ydswlqm14w100000gn/T/ipykernel_87797/2924199577.py:1: UserWarning: Boolean Series key will be reindexed to match DataFrame index.\n",
      "  fairness_df[fairness_df['CODE_GENDER: F'] == 1][fairness_df['Actual_Outcome'] == 1]['Predicted_Outcome'].sum()\n"
     ]
    },
    {
     "data": {
      "text/plain": [
       "82"
      ]
     },
     "execution_count": 73,
     "metadata": {},
     "output_type": "execute_result"
    }
   ],
   "source": [
    "fairness_df[fairness_df['CODE_GENDER: F'] == 1][fairness_df['Actual_Outcome'] == 1]['Predicted_Outcome'].sum()"
   ]
  },
  {
   "cell_type": "code",
   "execution_count": 76,
   "id": "26462b09",
   "metadata": {},
   "outputs": [
    {
     "data": {
      "text/plain": [
       "0.9768883878241262"
      ]
     },
     "execution_count": 76,
     "metadata": {},
     "output_type": "execute_result"
    }
   ],
   "source": [
    "(3548 - 82) / 3548"
   ]
  },
  {
   "cell_type": "code",
   "execution_count": null,
   "id": "c303356d",
   "metadata": {},
   "outputs": [],
   "source": []
  }
 ],
 "metadata": {
  "kernelspec": {
   "display_name": "Python 3 (ipykernel)",
   "language": "python",
   "name": "python3"
  },
  "language_info": {
   "codemirror_mode": {
    "name": "ipython",
    "version": 3
   },
   "file_extension": ".py",
   "mimetype": "text/x-python",
   "name": "python",
   "nbconvert_exporter": "python",
   "pygments_lexer": "ipython3",
   "version": "3.8.12"
  }
 },
 "nbformat": 4,
 "nbformat_minor": 5
}
