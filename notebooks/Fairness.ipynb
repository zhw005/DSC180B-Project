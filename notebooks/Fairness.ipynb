{
 "cells": [
  {
   "cell_type": "code",
   "execution_count": 1,
   "metadata": {},
   "outputs": [],
   "source": [
    "%load_ext autoreload\n",
    "%autoreload 2"
   ]
  },
  {
   "cell_type": "code",
   "execution_count": 32,
   "metadata": {},
   "outputs": [],
   "source": [
    "import sys\n",
    "sys.path.append('./..')\n",
    "import zipfile\n",
    "from sklearn.model_selection import train_test_split\n",
    "from sklearn.metrics import accuracy_score\n",
    "from src import sk_tabnet\n",
    "import pandas as pd\n",
    "import sklearn\n",
    "import matplotlib.pyplot as plt\n",
    "from src.fairness import * "
   ]
  },
  {
   "cell_type": "markdown",
   "metadata": {},
   "source": [
    "# Loan Dataset"
   ]
  },
  {
   "cell_type": "code",
   "execution_count": 19,
   "metadata": {},
   "outputs": [
    {
     "data": {
      "text/html": [
       "<div>\n",
       "<style scoped>\n",
       "    .dataframe tbody tr th:only-of-type {\n",
       "        vertical-align: middle;\n",
       "    }\n",
       "\n",
       "    .dataframe tbody tr th {\n",
       "        vertical-align: top;\n",
       "    }\n",
       "\n",
       "    .dataframe thead th {\n",
       "        text-align: right;\n",
       "    }\n",
       "</style>\n",
       "<table border=\"1\" class=\"dataframe\">\n",
       "  <thead>\n",
       "    <tr style=\"text-align: right;\">\n",
       "      <th></th>\n",
       "      <th>NAME_CONTRACT_TYPE: Cash loans</th>\n",
       "      <th>NAME_CONTRACT_TYPE: Revolving loans</th>\n",
       "      <th>CODE_GENDER: F</th>\n",
       "      <th>CODE_GENDER: M</th>\n",
       "      <th>CODE_GENDER: XNA</th>\n",
       "      <th>FLAG_OWN_CAR: N</th>\n",
       "      <th>FLAG_OWN_CAR: Y</th>\n",
       "      <th>FLAG_OWN_REALTY: N</th>\n",
       "      <th>FLAG_OWN_REALTY: Y</th>\n",
       "      <th>NAME_TYPE_SUITE: Children</th>\n",
       "      <th>...</th>\n",
       "      <th>FLAG_DOCUMENT_19</th>\n",
       "      <th>FLAG_DOCUMENT_20</th>\n",
       "      <th>FLAG_DOCUMENT_21</th>\n",
       "      <th>AMT_REQ_CREDIT_BUREAU_HOUR</th>\n",
       "      <th>AMT_REQ_CREDIT_BUREAU_DAY</th>\n",
       "      <th>AMT_REQ_CREDIT_BUREAU_WEEK</th>\n",
       "      <th>AMT_REQ_CREDIT_BUREAU_MON</th>\n",
       "      <th>AMT_REQ_CREDIT_BUREAU_QRT</th>\n",
       "      <th>AMT_REQ_CREDIT_BUREAU_YEAR</th>\n",
       "      <th>Target</th>\n",
       "    </tr>\n",
       "  </thead>\n",
       "  <tbody>\n",
       "    <tr>\n",
       "      <th>0</th>\n",
       "      <td>1.0</td>\n",
       "      <td>0.0</td>\n",
       "      <td>0.0</td>\n",
       "      <td>1.0</td>\n",
       "      <td>0.0</td>\n",
       "      <td>1.0</td>\n",
       "      <td>0.0</td>\n",
       "      <td>0.0</td>\n",
       "      <td>1.0</td>\n",
       "      <td>0.0</td>\n",
       "      <td>...</td>\n",
       "      <td>0.0</td>\n",
       "      <td>0.0</td>\n",
       "      <td>0.0</td>\n",
       "      <td>0.0</td>\n",
       "      <td>0.0</td>\n",
       "      <td>0.0</td>\n",
       "      <td>0.0</td>\n",
       "      <td>0.0</td>\n",
       "      <td>1.0</td>\n",
       "      <td>1</td>\n",
       "    </tr>\n",
       "    <tr>\n",
       "      <th>1</th>\n",
       "      <td>1.0</td>\n",
       "      <td>0.0</td>\n",
       "      <td>1.0</td>\n",
       "      <td>0.0</td>\n",
       "      <td>0.0</td>\n",
       "      <td>1.0</td>\n",
       "      <td>0.0</td>\n",
       "      <td>0.0</td>\n",
       "      <td>1.0</td>\n",
       "      <td>0.0</td>\n",
       "      <td>...</td>\n",
       "      <td>0.0</td>\n",
       "      <td>0.0</td>\n",
       "      <td>0.0</td>\n",
       "      <td>0.0</td>\n",
       "      <td>0.0</td>\n",
       "      <td>0.0</td>\n",
       "      <td>0.0</td>\n",
       "      <td>2.0</td>\n",
       "      <td>2.0</td>\n",
       "      <td>1</td>\n",
       "    </tr>\n",
       "    <tr>\n",
       "      <th>2</th>\n",
       "      <td>1.0</td>\n",
       "      <td>0.0</td>\n",
       "      <td>0.0</td>\n",
       "      <td>1.0</td>\n",
       "      <td>0.0</td>\n",
       "      <td>1.0</td>\n",
       "      <td>0.0</td>\n",
       "      <td>0.0</td>\n",
       "      <td>1.0</td>\n",
       "      <td>0.0</td>\n",
       "      <td>...</td>\n",
       "      <td>0.0</td>\n",
       "      <td>0.0</td>\n",
       "      <td>0.0</td>\n",
       "      <td>0.0</td>\n",
       "      <td>0.0</td>\n",
       "      <td>0.0</td>\n",
       "      <td>2.0</td>\n",
       "      <td>0.0</td>\n",
       "      <td>4.0</td>\n",
       "      <td>1</td>\n",
       "    </tr>\n",
       "    <tr>\n",
       "      <th>3</th>\n",
       "      <td>1.0</td>\n",
       "      <td>0.0</td>\n",
       "      <td>1.0</td>\n",
       "      <td>0.0</td>\n",
       "      <td>0.0</td>\n",
       "      <td>1.0</td>\n",
       "      <td>0.0</td>\n",
       "      <td>1.0</td>\n",
       "      <td>0.0</td>\n",
       "      <td>0.0</td>\n",
       "      <td>...</td>\n",
       "      <td>0.0</td>\n",
       "      <td>0.0</td>\n",
       "      <td>0.0</td>\n",
       "      <td>0.0</td>\n",
       "      <td>0.0</td>\n",
       "      <td>0.0</td>\n",
       "      <td>0.0</td>\n",
       "      <td>0.0</td>\n",
       "      <td>2.0</td>\n",
       "      <td>1</td>\n",
       "    </tr>\n",
       "    <tr>\n",
       "      <th>4</th>\n",
       "      <td>1.0</td>\n",
       "      <td>0.0</td>\n",
       "      <td>1.0</td>\n",
       "      <td>0.0</td>\n",
       "      <td>0.0</td>\n",
       "      <td>1.0</td>\n",
       "      <td>0.0</td>\n",
       "      <td>0.0</td>\n",
       "      <td>1.0</td>\n",
       "      <td>0.0</td>\n",
       "      <td>...</td>\n",
       "      <td>0.0</td>\n",
       "      <td>0.0</td>\n",
       "      <td>0.0</td>\n",
       "      <td>0.0</td>\n",
       "      <td>0.0</td>\n",
       "      <td>0.0</td>\n",
       "      <td>0.0</td>\n",
       "      <td>0.0</td>\n",
       "      <td>0.0</td>\n",
       "      <td>1</td>\n",
       "    </tr>\n",
       "  </tbody>\n",
       "</table>\n",
       "<p>5 rows × 187 columns</p>\n",
       "</div>"
      ],
      "text/plain": [
       "   NAME_CONTRACT_TYPE: Cash loans  NAME_CONTRACT_TYPE: Revolving loans  \\\n",
       "0                             1.0                                  0.0   \n",
       "1                             1.0                                  0.0   \n",
       "2                             1.0                                  0.0   \n",
       "3                             1.0                                  0.0   \n",
       "4                             1.0                                  0.0   \n",
       "\n",
       "   CODE_GENDER: F  CODE_GENDER: M  CODE_GENDER: XNA  FLAG_OWN_CAR: N  \\\n",
       "0             0.0             1.0               0.0              1.0   \n",
       "1             1.0             0.0               0.0              1.0   \n",
       "2             0.0             1.0               0.0              1.0   \n",
       "3             1.0             0.0               0.0              1.0   \n",
       "4             1.0             0.0               0.0              1.0   \n",
       "\n",
       "   FLAG_OWN_CAR: Y  FLAG_OWN_REALTY: N  FLAG_OWN_REALTY: Y  \\\n",
       "0              0.0                 0.0                 1.0   \n",
       "1              0.0                 0.0                 1.0   \n",
       "2              0.0                 0.0                 1.0   \n",
       "3              0.0                 1.0                 0.0   \n",
       "4              0.0                 0.0                 1.0   \n",
       "\n",
       "   NAME_TYPE_SUITE: Children  ...  FLAG_DOCUMENT_19  FLAG_DOCUMENT_20  \\\n",
       "0                        0.0  ...               0.0               0.0   \n",
       "1                        0.0  ...               0.0               0.0   \n",
       "2                        0.0  ...               0.0               0.0   \n",
       "3                        0.0  ...               0.0               0.0   \n",
       "4                        0.0  ...               0.0               0.0   \n",
       "\n",
       "   FLAG_DOCUMENT_21  AMT_REQ_CREDIT_BUREAU_HOUR  AMT_REQ_CREDIT_BUREAU_DAY  \\\n",
       "0               0.0                         0.0                        0.0   \n",
       "1               0.0                         0.0                        0.0   \n",
       "2               0.0                         0.0                        0.0   \n",
       "3               0.0                         0.0                        0.0   \n",
       "4               0.0                         0.0                        0.0   \n",
       "\n",
       "   AMT_REQ_CREDIT_BUREAU_WEEK  AMT_REQ_CREDIT_BUREAU_MON  \\\n",
       "0                         0.0                        0.0   \n",
       "1                         0.0                        0.0   \n",
       "2                         0.0                        2.0   \n",
       "3                         0.0                        0.0   \n",
       "4                         0.0                        0.0   \n",
       "\n",
       "   AMT_REQ_CREDIT_BUREAU_QRT  AMT_REQ_CREDIT_BUREAU_YEAR  Target  \n",
       "0                        0.0                         1.0       1  \n",
       "1                        2.0                         2.0       1  \n",
       "2                        0.0                         4.0       1  \n",
       "3                        0.0                         2.0       1  \n",
       "4                        0.0                         0.0       1  \n",
       "\n",
       "[5 rows x 187 columns]"
      ]
     },
     "execution_count": 19,
     "metadata": {},
     "output_type": "execute_result"
    }
   ],
   "source": [
    "loan = pd.read_csv(\"../data/loan/loan_downsampled.csv\", index_col = False)\n",
    "loan.head()"
   ]
  },
  {
   "cell_type": "markdown",
   "metadata": {},
   "source": [
    "## Tabnet Model"
   ]
  },
  {
   "cell_type": "code",
   "execution_count": 35,
   "metadata": {},
   "outputs": [
    {
     "name": "stdout",
     "output_type": "stream",
     "text": [
      "Device used : cpu\n",
      "Device used : cpu\n"
     ]
    }
   ],
   "source": [
    "model = sk_tabnet.TNClassifier()\n",
    "model.load_model(\"../data/model/loan_tabnet.zip\")"
   ]
  },
  {
   "cell_type": "code",
   "execution_count": 36,
   "metadata": {},
   "outputs": [],
   "source": [
    "# model = TabNetClassifier()\n",
    "\n",
    "X = loan.drop(['Target'], 1)\n",
    "# columns = X.columns\n",
    "# X.columns = range(X.shape[1])\n",
    "y = loan[['Target']]\n",
    "\n",
    "train_X, test_X, train_y, test_y = train_test_split(X, y, random_state = 42)\n",
    "\n",
    "# model.fit(train_X.to_numpy(), train_y.values[:,0], eval_set = \n",
    "#           [(test_X.to_numpy(), test_y.values[:,0])], max_epochs =100,\n",
    "#                eval_metric=['auc'])"
   ]
  },
  {
   "cell_type": "markdown",
   "metadata": {},
   "source": [
    "### Group Fairness\n",
    "\n",
    "A classifier satisfies\n",
    "this definition if subjects in both protected and unprotected groups\n",
    "have equal probability of being assigned to the positive predicted\n",
    "class. \n",
    "\n",
    "P(d =\n",
    "1|G = m) = P(d = 1|G = f )."
   ]
  },
  {
   "cell_type": "code",
   "execution_count": 42,
   "metadata": {},
   "outputs": [
    {
     "name": "stdout",
     "output_type": "stream",
     "text": [
      "Group with CODE_GENDER: M = 0.0 has a probability of positive prediction at 0.41106616207751534\n",
      "Group with CODE_GENDER: M = 1.0 has a probability of positive prediction at 0.5334736842105263\n",
      "The difference is 0.12240752213301098\n"
     ]
    },
    {
     "data": {
      "text/plain": [
       "0.12240752213301098"
      ]
     },
     "execution_count": 42,
     "metadata": {},
     "output_type": "execute_result"
    }
   ],
   "source": [
    "group_fairness(model, test_X, \"CODE_GENDER: M\", test_y)"
   ]
  },
  {
   "cell_type": "markdown",
   "metadata": {},
   "source": [
    "### Predictive Parity\n",
    "\n",
    "A classifier satisfies this definition if both protected and unprotected\n",
    "groups have equal PPV – the probability of a subject with positive predictive value to truly belong to the positive class. \n",
    "\n",
    "P(Y = 1|d = 1,G = m) = P(Y = 1|d = 1,G = f )"
   ]
  },
  {
   "cell_type": "code",
   "execution_count": 44,
   "metadata": {},
   "outputs": [
    {
     "name": "stdout",
     "output_type": "stream",
     "text": [
      "Group with CODE_GENDER: M = 0.0 has a true positive rate of 0.6019047619047619\n",
      "Group with CODE_GENDER: M = 1.0 has a true positive rate of 0.6535122336227308\n",
      "The difference is 0.05160747171796887\n"
     ]
    },
    {
     "data": {
      "text/plain": [
       "0.05160747171796887"
      ]
     },
     "execution_count": 44,
     "metadata": {},
     "output_type": "execute_result"
    }
   ],
   "source": [
    "predictive_parity(model, test_X, \"CODE_GENDER: M\", test_y)"
   ]
  },
  {
   "cell_type": "markdown",
   "metadata": {},
   "source": [
    "### Conditional Frequencies\n",
    "given the model prediction of s the actual probability of T = 1"
   ]
  },
  {
   "cell_type": "code",
   "execution_count": 87,
   "metadata": {},
   "outputs": [],
   "source": [
    "import numpy as np"
   ]
  },
  {
   "cell_type": "code",
   "execution_count": 93,
   "metadata": {},
   "outputs": [
    {
     "data": {
      "text/plain": [
       "array([1, 2, 3, 4, 5])"
      ]
     },
     "execution_count": 93,
     "metadata": {},
     "output_type": "execute_result"
    }
   ],
   "source": [
    "np.concatenate([np.array([1,2,3]), np.array([4,5])])"
   ]
  },
  {
   "cell_type": "code",
   "execution_count": 98,
   "metadata": {
    "scrolled": true
   },
   "outputs": [
    {
     "data": {
      "image/png": "[encoded data removed]",
      "text/plain": [
       "<Figure size 432x288 with 1 Axes>"
      ]
     },
     "metadata": {
      "needs_background": "light"
     },
     "output_type": "display_data"
    }
   ],
   "source": [
    "conditional_frequencies(model, test_X, \"CODE_GENDER: M\", test_y)"
   ]
  },
  {
   "cell_type": "markdown",
   "metadata": {},
   "source": [
    "### Causal Discrimination"
   ]
  },
  {
   "cell_type": "code",
   "execution_count": 105,
   "metadata": {},
   "outputs": [],
   "source": [
    "flipped = test_X.copy()"
   ]
  },
  {
   "cell_type": "code",
   "execution_count": 102,
   "metadata": {},
   "outputs": [],
   "source": [
    "idx_m = test_X[\"CODE_GENDER: M\"] == 1\n",
    "idx_f = ~(test_X[\"CODE_GENDER: M\"] == 1)"
   ]
  },
  {
   "cell_type": "code",
   "execution_count": 110,
   "metadata": {},
   "outputs": [],
   "source": [
    "flipped.loc[idx_m,\"CODE_GENDER: M\"] = 0\n",
    "flipped.loc[idx_m,\"CODE_GENDER: F\"] = 1\n",
    "flipped.loc[idx_f,\"CODE_GENDER: M\"] = 1\n",
    "flipped.loc[idx_f,\"CODE_GENDER: F\"] = 0"
   ]
  },
  {
   "cell_type": "code",
   "execution_count": 114,
   "metadata": {},
   "outputs": [
    {
     "name": "stdout",
     "output_type": "stream",
     "text": [
      "After flipping the sensitve attribute CODE_GENDER: M, 21.0% of the prediction changes\n",
      "The average prediction of class CODE_GENDER: M = 0.0 changed 0.1119665927182566\n",
      "The average prediction of class CODE_GENDER: M = 1.0 changed -0.09621052631578947\n"
     ]
    },
    {
     "data": {
      "text/plain": [
       "0.2100217513896721"
      ]
     },
     "execution_count": 114,
     "metadata": {},
     "output_type": "execute_result"
    }
   ],
   "source": [
    "causal_discrimination(model, test_X, flipped, \"CODE_GENDER: M\")"
   ]
  }
 ],
 "metadata": {
  "kernelspec": {
   "display_name": "Python 3",
   "language": "python",
   "name": "python3"
  },
  "language_info": {
   "codemirror_mode": {
    "name": "ipython",
    "version": 3
   },
   "file_extension": ".py",
   "mimetype": "text/x-python",
   "name": "python",
   "nbconvert_exporter": "python",
   "pygments_lexer": "ipython3",
   "version": "3.8.8"
  }
 },
 "nbformat": 4,
 "nbformat_minor": 4
}
